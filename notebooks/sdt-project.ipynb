{
 "cells": [
  {
   "cell_type": "markdown",
   "metadata": {},
   "source": [
    "#### 2023/2024 NBA PLAYER STATS"
   ]
  },
  {
   "cell_type": "markdown",
   "metadata": {},
   "source": [
    "<div class=\"alert alert-info\">\n",
    "<h2> INTRODUCTION </h2>\n",
    "\n",
    "This notebook contains all NBA regular season player stats for year 23/24. It contains the process of cleaning the data and getting the more important players. These players had to play at least 60 games and average at least 15 points per game. \n",
    "</div>"
   ]
  },
  {
   "cell_type": "code",
   "execution_count": 1,
   "metadata": {},
   "outputs": [],
   "source": [
    "import pandas as pd\n",
    "import matplotlib.pyplot as plt\n",
    "import plotly.express as px"
   ]
  },
  {
   "cell_type": "code",
   "execution_count": 2,
   "metadata": {},
   "outputs": [
    {
     "name": "stdout",
     "output_type": "stream",
     "text": [
      "   Rk                    Player   Pos  Age   Tm   G  GS    MP   FG   FGA  ...  \\\n",
      "0   1          Precious Achiuwa  PF-C   24  TOT  74  18  21.9  3.2   6.3  ...   \n",
      "1   1          Precious Achiuwa     C   24  TOR  25   0  17.5  3.1   6.8  ...   \n",
      "2   1          Precious Achiuwa    PF   24  NYK  49  18  24.2  3.2   6.1  ...   \n",
      "3   2               Bam Adebayo     C   26  MIA  71  71  34.0  7.5  14.3  ...   \n",
      "4   3              Ochai Agbaji    SG   23  TOT  78  28  21.0  2.3   5.6  ...   \n",
      "5   3              Ochai Agbaji    SG   23  UTA  51  10  19.7  2.1   4.9  ...   \n",
      "6   3              Ochai Agbaji    SG   23  TOR  27  18  23.6  2.7   6.8  ...   \n",
      "7   4              Santi Aldama    PF   23  MEM  61  35  26.5  4.0   9.3  ...   \n",
      "8   5  Nickeil Alexander-Walker    SG   25  MIN  82  20  23.4  2.9   6.6  ...   \n",
      "9   6             Grayson Allen    SG   28  PHO  75  74  33.5  4.5   9.1  ...   \n",
      "\n",
      "     FT%  ORB  DRB   TRB  AST  STL  BLK  TOV   PF   PTS  \n",
      "0  0.616  2.6  4.0   6.6  1.3  0.6  0.9  1.1  1.9   7.6  \n",
      "1  0.571  2.0  3.4   5.4  1.8  0.6  0.5  1.2  1.6   7.7  \n",
      "2  0.643  2.9  4.3   7.2  1.1  0.6  1.1  1.1  2.1   7.6  \n",
      "3  0.755  2.2  8.1  10.4  3.9  1.1  0.9  2.3  2.2  19.3  \n",
      "4  0.661  0.9  1.8   2.8  1.1  0.6  0.6  0.8  1.5   5.8  \n",
      "5  0.750  0.7  1.8   2.5  0.9  0.5  0.6  0.7  1.3   5.4  \n",
      "6  0.611  1.4  1.9   3.3  1.3  0.7  0.6  1.1  1.9   6.7  \n",
      "7  0.621  1.2  4.6   5.8  2.3  0.7  0.9  1.1  1.5  10.7  \n",
      "8  0.800  0.4  1.6   2.0  2.5  0.8  0.5  0.9  1.7   8.0  \n",
      "9  0.878  0.6  3.3   3.9  3.0  0.9  0.6  1.3  2.1  13.5  \n",
      "\n",
      "[10 rows x 30 columns]\n"
     ]
    }
   ],
   "source": [
    "filename = '23-24 NBA Player Stats - Regular.csv'\n",
    "encoding = 'latin-1'\n",
    "\n",
    "try:\n",
    "    nba_stats_df = pd.read_csv(filename, encoding=encoding, delimiter=';')\n",
    "    print(nba_stats_df.head(10))\n",
    "except UnicodeDecodeError as e:\n",
    "    print(f\"UnicodeDecodeError: {e}\")"
   ]
  },
  {
   "cell_type": "code",
   "execution_count": 3,
   "metadata": {},
   "outputs": [
    {
     "data": {
      "text/html": [
       "<div>\n",
       "<style scoped>\n",
       "    .dataframe tbody tr th:only-of-type {\n",
       "        vertical-align: middle;\n",
       "    }\n",
       "\n",
       "    .dataframe tbody tr th {\n",
       "        vertical-align: top;\n",
       "    }\n",
       "\n",
       "    .dataframe thead th {\n",
       "        text-align: right;\n",
       "    }\n",
       "</style>\n",
       "<table border=\"1\" class=\"dataframe\">\n",
       "  <thead>\n",
       "    <tr style=\"text-align: right;\">\n",
       "      <th></th>\n",
       "      <th>Rk</th>\n",
       "      <th>Player</th>\n",
       "      <th>Pos</th>\n",
       "      <th>Age</th>\n",
       "      <th>Tm</th>\n",
       "      <th>G</th>\n",
       "      <th>GS</th>\n",
       "      <th>MP</th>\n",
       "      <th>FG</th>\n",
       "      <th>FGA</th>\n",
       "      <th>...</th>\n",
       "      <th>FT%</th>\n",
       "      <th>ORB</th>\n",
       "      <th>DRB</th>\n",
       "      <th>TRB</th>\n",
       "      <th>AST</th>\n",
       "      <th>STL</th>\n",
       "      <th>BLK</th>\n",
       "      <th>TOV</th>\n",
       "      <th>PF</th>\n",
       "      <th>PTS</th>\n",
       "    </tr>\n",
       "  </thead>\n",
       "  <tbody>\n",
       "    <tr>\n",
       "      <th>244</th>\n",
       "      <td>177</td>\n",
       "      <td>Jordan Goodwin</td>\n",
       "      <td>PG</td>\n",
       "      <td>25</td>\n",
       "      <td>MEM</td>\n",
       "      <td>17</td>\n",
       "      <td>12</td>\n",
       "      <td>29.2</td>\n",
       "      <td>3.9</td>\n",
       "      <td>11.1</td>\n",
       "      <td>...</td>\n",
       "      <td>0.633</td>\n",
       "      <td>2.8</td>\n",
       "      <td>5.2</td>\n",
       "      <td>8.0</td>\n",
       "      <td>4.5</td>\n",
       "      <td>1.5</td>\n",
       "      <td>0.5</td>\n",
       "      <td>1.6</td>\n",
       "      <td>1.9</td>\n",
       "      <td>10.0</td>\n",
       "    </tr>\n",
       "    <tr>\n",
       "      <th>423</th>\n",
       "      <td>330</td>\n",
       "      <td>Jalen McDaniels</td>\n",
       "      <td>SF</td>\n",
       "      <td>26</td>\n",
       "      <td>TOR</td>\n",
       "      <td>50</td>\n",
       "      <td>1</td>\n",
       "      <td>10.8</td>\n",
       "      <td>1.3</td>\n",
       "      <td>3.8</td>\n",
       "      <td>...</td>\n",
       "      <td>0.730</td>\n",
       "      <td>0.4</td>\n",
       "      <td>1.2</td>\n",
       "      <td>1.6</td>\n",
       "      <td>0.7</td>\n",
       "      <td>0.4</td>\n",
       "      <td>0.1</td>\n",
       "      <td>0.6</td>\n",
       "      <td>1.0</td>\n",
       "      <td>3.4</td>\n",
       "    </tr>\n",
       "    <tr>\n",
       "      <th>455</th>\n",
       "      <td>351</td>\n",
       "      <td>Evan Mobley</td>\n",
       "      <td>PF</td>\n",
       "      <td>22</td>\n",
       "      <td>CLE</td>\n",
       "      <td>50</td>\n",
       "      <td>50</td>\n",
       "      <td>30.6</td>\n",
       "      <td>6.4</td>\n",
       "      <td>11.0</td>\n",
       "      <td>...</td>\n",
       "      <td>0.719</td>\n",
       "      <td>2.2</td>\n",
       "      <td>7.1</td>\n",
       "      <td>9.4</td>\n",
       "      <td>3.2</td>\n",
       "      <td>0.9</td>\n",
       "      <td>1.4</td>\n",
       "      <td>1.8</td>\n",
       "      <td>2.7</td>\n",
       "      <td>15.7</td>\n",
       "    </tr>\n",
       "    <tr>\n",
       "      <th>376</th>\n",
       "      <td>296</td>\n",
       "      <td>Maxwell Lewis</td>\n",
       "      <td>SF</td>\n",
       "      <td>21</td>\n",
       "      <td>LAL</td>\n",
       "      <td>34</td>\n",
       "      <td>0</td>\n",
       "      <td>3.0</td>\n",
       "      <td>0.1</td>\n",
       "      <td>0.6</td>\n",
       "      <td>...</td>\n",
       "      <td>0.667</td>\n",
       "      <td>0.1</td>\n",
       "      <td>0.1</td>\n",
       "      <td>0.1</td>\n",
       "      <td>0.2</td>\n",
       "      <td>0.1</td>\n",
       "      <td>0.0</td>\n",
       "      <td>0.3</td>\n",
       "      <td>0.1</td>\n",
       "      <td>0.3</td>\n",
       "    </tr>\n",
       "    <tr>\n",
       "      <th>420</th>\n",
       "      <td>327</td>\n",
       "      <td>CJ McCollum</td>\n",
       "      <td>PG</td>\n",
       "      <td>32</td>\n",
       "      <td>NOP</td>\n",
       "      <td>66</td>\n",
       "      <td>66</td>\n",
       "      <td>32.7</td>\n",
       "      <td>7.3</td>\n",
       "      <td>16.0</td>\n",
       "      <td>...</td>\n",
       "      <td>0.827</td>\n",
       "      <td>0.6</td>\n",
       "      <td>3.7</td>\n",
       "      <td>4.3</td>\n",
       "      <td>4.6</td>\n",
       "      <td>0.9</td>\n",
       "      <td>0.6</td>\n",
       "      <td>1.7</td>\n",
       "      <td>1.9</td>\n",
       "      <td>20.0</td>\n",
       "    </tr>\n",
       "    <tr>\n",
       "      <th>147</th>\n",
       "      <td>110</td>\n",
       "      <td>Jae Crowder</td>\n",
       "      <td>PF</td>\n",
       "      <td>33</td>\n",
       "      <td>MIL</td>\n",
       "      <td>50</td>\n",
       "      <td>25</td>\n",
       "      <td>23.1</td>\n",
       "      <td>2.3</td>\n",
       "      <td>5.4</td>\n",
       "      <td>...</td>\n",
       "      <td>0.722</td>\n",
       "      <td>0.6</td>\n",
       "      <td>2.6</td>\n",
       "      <td>3.2</td>\n",
       "      <td>1.3</td>\n",
       "      <td>0.8</td>\n",
       "      <td>0.2</td>\n",
       "      <td>0.5</td>\n",
       "      <td>1.5</td>\n",
       "      <td>6.2</td>\n",
       "    </tr>\n",
       "    <tr>\n",
       "      <th>162</th>\n",
       "      <td>122</td>\n",
       "      <td>Mamadi Diakite</td>\n",
       "      <td>PF</td>\n",
       "      <td>27</td>\n",
       "      <td>SAS</td>\n",
       "      <td>3</td>\n",
       "      <td>0</td>\n",
       "      <td>5.3</td>\n",
       "      <td>1.3</td>\n",
       "      <td>1.7</td>\n",
       "      <td>...</td>\n",
       "      <td>0.667</td>\n",
       "      <td>0.3</td>\n",
       "      <td>0.7</td>\n",
       "      <td>1.0</td>\n",
       "      <td>0.7</td>\n",
       "      <td>0.0</td>\n",
       "      <td>0.3</td>\n",
       "      <td>0.0</td>\n",
       "      <td>0.3</td>\n",
       "      <td>4.0</td>\n",
       "    </tr>\n",
       "    <tr>\n",
       "      <th>642</th>\n",
       "      <td>499</td>\n",
       "      <td>Tristan Thompson</td>\n",
       "      <td>C</td>\n",
       "      <td>32</td>\n",
       "      <td>CLE</td>\n",
       "      <td>49</td>\n",
       "      <td>0</td>\n",
       "      <td>11.2</td>\n",
       "      <td>1.5</td>\n",
       "      <td>2.4</td>\n",
       "      <td>...</td>\n",
       "      <td>0.288</td>\n",
       "      <td>1.5</td>\n",
       "      <td>2.1</td>\n",
       "      <td>3.6</td>\n",
       "      <td>1.0</td>\n",
       "      <td>0.2</td>\n",
       "      <td>0.3</td>\n",
       "      <td>0.6</td>\n",
       "      <td>1.2</td>\n",
       "      <td>3.3</td>\n",
       "    </tr>\n",
       "    <tr>\n",
       "      <th>207</th>\n",
       "      <td>155</td>\n",
       "      <td>De'Aaron Fox</td>\n",
       "      <td>PG</td>\n",
       "      <td>26</td>\n",
       "      <td>SAC</td>\n",
       "      <td>74</td>\n",
       "      <td>74</td>\n",
       "      <td>35.9</td>\n",
       "      <td>9.7</td>\n",
       "      <td>20.9</td>\n",
       "      <td>...</td>\n",
       "      <td>0.738</td>\n",
       "      <td>0.9</td>\n",
       "      <td>3.7</td>\n",
       "      <td>4.6</td>\n",
       "      <td>5.6</td>\n",
       "      <td>2.0</td>\n",
       "      <td>0.4</td>\n",
       "      <td>2.6</td>\n",
       "      <td>2.6</td>\n",
       "      <td>26.6</td>\n",
       "    </tr>\n",
       "    <tr>\n",
       "      <th>70</th>\n",
       "      <td>47</td>\n",
       "      <td>Anthony Black</td>\n",
       "      <td>PG</td>\n",
       "      <td>20</td>\n",
       "      <td>ORL</td>\n",
       "      <td>69</td>\n",
       "      <td>33</td>\n",
       "      <td>16.9</td>\n",
       "      <td>1.7</td>\n",
       "      <td>3.6</td>\n",
       "      <td>...</td>\n",
       "      <td>0.613</td>\n",
       "      <td>0.5</td>\n",
       "      <td>1.5</td>\n",
       "      <td>2.0</td>\n",
       "      <td>1.3</td>\n",
       "      <td>0.5</td>\n",
       "      <td>0.3</td>\n",
       "      <td>0.8</td>\n",
       "      <td>1.6</td>\n",
       "      <td>4.6</td>\n",
       "    </tr>\n",
       "    <tr>\n",
       "      <th>232</th>\n",
       "      <td>171</td>\n",
       "      <td>Harry Giles</td>\n",
       "      <td>C</td>\n",
       "      <td>25</td>\n",
       "      <td>TOT</td>\n",
       "      <td>23</td>\n",
       "      <td>0</td>\n",
       "      <td>4.3</td>\n",
       "      <td>1.0</td>\n",
       "      <td>2.2</td>\n",
       "      <td>...</td>\n",
       "      <td>0.538</td>\n",
       "      <td>0.5</td>\n",
       "      <td>0.8</td>\n",
       "      <td>1.3</td>\n",
       "      <td>0.3</td>\n",
       "      <td>0.1</td>\n",
       "      <td>0.1</td>\n",
       "      <td>0.3</td>\n",
       "      <td>0.7</td>\n",
       "      <td>2.4</td>\n",
       "    </tr>\n",
       "    <tr>\n",
       "      <th>635</th>\n",
       "      <td>493</td>\n",
       "      <td>Daniel Theis</td>\n",
       "      <td>C</td>\n",
       "      <td>31</td>\n",
       "      <td>IND</td>\n",
       "      <td>1</td>\n",
       "      <td>0</td>\n",
       "      <td>8.0</td>\n",
       "      <td>1.0</td>\n",
       "      <td>4.0</td>\n",
       "      <td>...</td>\n",
       "      <td>0.000</td>\n",
       "      <td>0.0</td>\n",
       "      <td>0.0</td>\n",
       "      <td>0.0</td>\n",
       "      <td>0.0</td>\n",
       "      <td>0.0</td>\n",
       "      <td>0.0</td>\n",
       "      <td>0.0</td>\n",
       "      <td>1.0</td>\n",
       "      <td>2.0</td>\n",
       "    </tr>\n",
       "    <tr>\n",
       "      <th>45</th>\n",
       "      <td>34</td>\n",
       "      <td>Keita Bates-Diop</td>\n",
       "      <td>SF</td>\n",
       "      <td>28</td>\n",
       "      <td>TOT</td>\n",
       "      <td>53</td>\n",
       "      <td>8</td>\n",
       "      <td>12.5</td>\n",
       "      <td>1.4</td>\n",
       "      <td>3.1</td>\n",
       "      <td>...</td>\n",
       "      <td>0.762</td>\n",
       "      <td>0.6</td>\n",
       "      <td>1.5</td>\n",
       "      <td>2.1</td>\n",
       "      <td>0.7</td>\n",
       "      <td>0.5</td>\n",
       "      <td>0.4</td>\n",
       "      <td>0.3</td>\n",
       "      <td>0.7</td>\n",
       "      <td>3.7</td>\n",
       "    </tr>\n",
       "    <tr>\n",
       "      <th>310</th>\n",
       "      <td>235</td>\n",
       "      <td>Matthew Hurt</td>\n",
       "      <td>PF</td>\n",
       "      <td>23</td>\n",
       "      <td>MEM</td>\n",
       "      <td>8</td>\n",
       "      <td>0</td>\n",
       "      <td>14.1</td>\n",
       "      <td>1.5</td>\n",
       "      <td>4.3</td>\n",
       "      <td>...</td>\n",
       "      <td>1.000</td>\n",
       "      <td>1.1</td>\n",
       "      <td>0.9</td>\n",
       "      <td>2.0</td>\n",
       "      <td>0.5</td>\n",
       "      <td>0.4</td>\n",
       "      <td>0.4</td>\n",
       "      <td>0.3</td>\n",
       "      <td>1.0</td>\n",
       "      <td>4.0</td>\n",
       "    </tr>\n",
       "    <tr>\n",
       "      <th>335</th>\n",
       "      <td>258</td>\n",
       "      <td>Jalen Johnson</td>\n",
       "      <td>SF</td>\n",
       "      <td>22</td>\n",
       "      <td>ATL</td>\n",
       "      <td>56</td>\n",
       "      <td>52</td>\n",
       "      <td>33.7</td>\n",
       "      <td>6.4</td>\n",
       "      <td>12.5</td>\n",
       "      <td>...</td>\n",
       "      <td>0.728</td>\n",
       "      <td>1.3</td>\n",
       "      <td>7.4</td>\n",
       "      <td>8.7</td>\n",
       "      <td>3.6</td>\n",
       "      <td>1.2</td>\n",
       "      <td>0.8</td>\n",
       "      <td>1.8</td>\n",
       "      <td>2.4</td>\n",
       "      <td>16.0</td>\n",
       "    </tr>\n",
       "    <tr>\n",
       "      <th>235</th>\n",
       "      <td>172</td>\n",
       "      <td>Shai Gilgeous-Alexander</td>\n",
       "      <td>PG</td>\n",
       "      <td>25</td>\n",
       "      <td>OKC</td>\n",
       "      <td>75</td>\n",
       "      <td>75</td>\n",
       "      <td>34.0</td>\n",
       "      <td>10.6</td>\n",
       "      <td>19.8</td>\n",
       "      <td>...</td>\n",
       "      <td>0.874</td>\n",
       "      <td>0.9</td>\n",
       "      <td>4.7</td>\n",
       "      <td>5.5</td>\n",
       "      <td>6.2</td>\n",
       "      <td>2.0</td>\n",
       "      <td>0.9</td>\n",
       "      <td>2.2</td>\n",
       "      <td>2.5</td>\n",
       "      <td>30.1</td>\n",
       "    </tr>\n",
       "    <tr>\n",
       "      <th>714</th>\n",
       "      <td>559</td>\n",
       "      <td>Ziaire Williams</td>\n",
       "      <td>SF</td>\n",
       "      <td>22</td>\n",
       "      <td>MEM</td>\n",
       "      <td>51</td>\n",
       "      <td>15</td>\n",
       "      <td>20.4</td>\n",
       "      <td>2.9</td>\n",
       "      <td>7.4</td>\n",
       "      <td>...</td>\n",
       "      <td>0.827</td>\n",
       "      <td>0.7</td>\n",
       "      <td>2.8</td>\n",
       "      <td>3.5</td>\n",
       "      <td>1.5</td>\n",
       "      <td>0.7</td>\n",
       "      <td>0.2</td>\n",
       "      <td>1.3</td>\n",
       "      <td>1.7</td>\n",
       "      <td>8.2</td>\n",
       "    </tr>\n",
       "    <tr>\n",
       "      <th>373</th>\n",
       "      <td>295</td>\n",
       "      <td>Kira Lewis Jr.</td>\n",
       "      <td>PG</td>\n",
       "      <td>22</td>\n",
       "      <td>NOP</td>\n",
       "      <td>15</td>\n",
       "      <td>0</td>\n",
       "      <td>9.6</td>\n",
       "      <td>1.1</td>\n",
       "      <td>3.5</td>\n",
       "      <td>...</td>\n",
       "      <td>0.909</td>\n",
       "      <td>0.3</td>\n",
       "      <td>0.7</td>\n",
       "      <td>0.9</td>\n",
       "      <td>1.2</td>\n",
       "      <td>0.3</td>\n",
       "      <td>0.1</td>\n",
       "      <td>0.5</td>\n",
       "      <td>0.5</td>\n",
       "      <td>2.9</td>\n",
       "    </tr>\n",
       "    <tr>\n",
       "      <th>534</th>\n",
       "      <td>409</td>\n",
       "      <td>Kristaps Porzi??is</td>\n",
       "      <td>C</td>\n",
       "      <td>28</td>\n",
       "      <td>BOS</td>\n",
       "      <td>57</td>\n",
       "      <td>57</td>\n",
       "      <td>29.6</td>\n",
       "      <td>6.8</td>\n",
       "      <td>13.2</td>\n",
       "      <td>...</td>\n",
       "      <td>0.858</td>\n",
       "      <td>1.7</td>\n",
       "      <td>5.5</td>\n",
       "      <td>7.2</td>\n",
       "      <td>2.0</td>\n",
       "      <td>0.7</td>\n",
       "      <td>1.9</td>\n",
       "      <td>1.6</td>\n",
       "      <td>2.7</td>\n",
       "      <td>20.1</td>\n",
       "    </tr>\n",
       "    <tr>\n",
       "      <th>320</th>\n",
       "      <td>245</td>\n",
       "      <td>Jaren Jackson Jr.</td>\n",
       "      <td>C</td>\n",
       "      <td>24</td>\n",
       "      <td>MEM</td>\n",
       "      <td>66</td>\n",
       "      <td>66</td>\n",
       "      <td>32.2</td>\n",
       "      <td>7.8</td>\n",
       "      <td>17.6</td>\n",
       "      <td>...</td>\n",
       "      <td>0.808</td>\n",
       "      <td>1.3</td>\n",
       "      <td>4.2</td>\n",
       "      <td>5.5</td>\n",
       "      <td>2.3</td>\n",
       "      <td>1.2</td>\n",
       "      <td>1.6</td>\n",
       "      <td>2.4</td>\n",
       "      <td>3.6</td>\n",
       "      <td>22.5</td>\n",
       "    </tr>\n",
       "  </tbody>\n",
       "</table>\n",
       "<p>20 rows × 30 columns</p>\n",
       "</div>"
      ],
      "text/plain": [
       "      Rk                   Player Pos  Age   Tm   G  GS    MP    FG   FGA  \\\n",
       "244  177           Jordan Goodwin  PG   25  MEM  17  12  29.2   3.9  11.1   \n",
       "423  330          Jalen McDaniels  SF   26  TOR  50   1  10.8   1.3   3.8   \n",
       "455  351              Evan Mobley  PF   22  CLE  50  50  30.6   6.4  11.0   \n",
       "376  296            Maxwell Lewis  SF   21  LAL  34   0   3.0   0.1   0.6   \n",
       "420  327              CJ McCollum  PG   32  NOP  66  66  32.7   7.3  16.0   \n",
       "147  110              Jae Crowder  PF   33  MIL  50  25  23.1   2.3   5.4   \n",
       "162  122           Mamadi Diakite  PF   27  SAS   3   0   5.3   1.3   1.7   \n",
       "642  499         Tristan Thompson   C   32  CLE  49   0  11.2   1.5   2.4   \n",
       "207  155             De'Aaron Fox  PG   26  SAC  74  74  35.9   9.7  20.9   \n",
       "70    47            Anthony Black  PG   20  ORL  69  33  16.9   1.7   3.6   \n",
       "232  171              Harry Giles   C   25  TOT  23   0   4.3   1.0   2.2   \n",
       "635  493             Daniel Theis   C   31  IND   1   0   8.0   1.0   4.0   \n",
       "45    34         Keita Bates-Diop  SF   28  TOT  53   8  12.5   1.4   3.1   \n",
       "310  235             Matthew Hurt  PF   23  MEM   8   0  14.1   1.5   4.3   \n",
       "335  258            Jalen Johnson  SF   22  ATL  56  52  33.7   6.4  12.5   \n",
       "235  172  Shai Gilgeous-Alexander  PG   25  OKC  75  75  34.0  10.6  19.8   \n",
       "714  559          Ziaire Williams  SF   22  MEM  51  15  20.4   2.9   7.4   \n",
       "373  295           Kira Lewis Jr.  PG   22  NOP  15   0   9.6   1.1   3.5   \n",
       "534  409       Kristaps Porzi??is   C   28  BOS  57  57  29.6   6.8  13.2   \n",
       "320  245        Jaren Jackson Jr.   C   24  MEM  66  66  32.2   7.8  17.6   \n",
       "\n",
       "     ...    FT%  ORB  DRB  TRB  AST  STL  BLK  TOV   PF   PTS  \n",
       "244  ...  0.633  2.8  5.2  8.0  4.5  1.5  0.5  1.6  1.9  10.0  \n",
       "423  ...  0.730  0.4  1.2  1.6  0.7  0.4  0.1  0.6  1.0   3.4  \n",
       "455  ...  0.719  2.2  7.1  9.4  3.2  0.9  1.4  1.8  2.7  15.7  \n",
       "376  ...  0.667  0.1  0.1  0.1  0.2  0.1  0.0  0.3  0.1   0.3  \n",
       "420  ...  0.827  0.6  3.7  4.3  4.6  0.9  0.6  1.7  1.9  20.0  \n",
       "147  ...  0.722  0.6  2.6  3.2  1.3  0.8  0.2  0.5  1.5   6.2  \n",
       "162  ...  0.667  0.3  0.7  1.0  0.7  0.0  0.3  0.0  0.3   4.0  \n",
       "642  ...  0.288  1.5  2.1  3.6  1.0  0.2  0.3  0.6  1.2   3.3  \n",
       "207  ...  0.738  0.9  3.7  4.6  5.6  2.0  0.4  2.6  2.6  26.6  \n",
       "70   ...  0.613  0.5  1.5  2.0  1.3  0.5  0.3  0.8  1.6   4.6  \n",
       "232  ...  0.538  0.5  0.8  1.3  0.3  0.1  0.1  0.3  0.7   2.4  \n",
       "635  ...  0.000  0.0  0.0  0.0  0.0  0.0  0.0  0.0  1.0   2.0  \n",
       "45   ...  0.762  0.6  1.5  2.1  0.7  0.5  0.4  0.3  0.7   3.7  \n",
       "310  ...  1.000  1.1  0.9  2.0  0.5  0.4  0.4  0.3  1.0   4.0  \n",
       "335  ...  0.728  1.3  7.4  8.7  3.6  1.2  0.8  1.8  2.4  16.0  \n",
       "235  ...  0.874  0.9  4.7  5.5  6.2  2.0  0.9  2.2  2.5  30.1  \n",
       "714  ...  0.827  0.7  2.8  3.5  1.5  0.7  0.2  1.3  1.7   8.2  \n",
       "373  ...  0.909  0.3  0.7  0.9  1.2  0.3  0.1  0.5  0.5   2.9  \n",
       "534  ...  0.858  1.7  5.5  7.2  2.0  0.7  1.9  1.6  2.7  20.1  \n",
       "320  ...  0.808  1.3  4.2  5.5  2.3  1.2  1.6  2.4  3.6  22.5  \n",
       "\n",
       "[20 rows x 30 columns]"
      ]
     },
     "execution_count": 3,
     "metadata": {},
     "output_type": "execute_result"
    }
   ],
   "source": [
    "nba_stats_df.sample(20)"
   ]
  },
  {
   "cell_type": "code",
   "execution_count": 4,
   "metadata": {},
   "outputs": [
    {
     "data": {
      "text/html": [
       "<div>\n",
       "<style scoped>\n",
       "    .dataframe tbody tr th:only-of-type {\n",
       "        vertical-align: middle;\n",
       "    }\n",
       "\n",
       "    .dataframe tbody tr th {\n",
       "        vertical-align: top;\n",
       "    }\n",
       "\n",
       "    .dataframe thead th {\n",
       "        text-align: right;\n",
       "    }\n",
       "</style>\n",
       "<table border=\"1\" class=\"dataframe\">\n",
       "  <thead>\n",
       "    <tr style=\"text-align: right;\">\n",
       "      <th></th>\n",
       "      <th>Player</th>\n",
       "      <th>Pos</th>\n",
       "      <th>G</th>\n",
       "      <th>TRB</th>\n",
       "      <th>AST</th>\n",
       "      <th>PTS</th>\n",
       "    </tr>\n",
       "  </thead>\n",
       "  <tbody>\n",
       "    <tr>\n",
       "      <th>0</th>\n",
       "      <td>Precious Achiuwa</td>\n",
       "      <td>PF-C</td>\n",
       "      <td>74</td>\n",
       "      <td>6.6</td>\n",
       "      <td>1.3</td>\n",
       "      <td>7.6</td>\n",
       "    </tr>\n",
       "    <tr>\n",
       "      <th>1</th>\n",
       "      <td>Precious Achiuwa</td>\n",
       "      <td>C</td>\n",
       "      <td>25</td>\n",
       "      <td>5.4</td>\n",
       "      <td>1.8</td>\n",
       "      <td>7.7</td>\n",
       "    </tr>\n",
       "    <tr>\n",
       "      <th>2</th>\n",
       "      <td>Precious Achiuwa</td>\n",
       "      <td>PF</td>\n",
       "      <td>49</td>\n",
       "      <td>7.2</td>\n",
       "      <td>1.1</td>\n",
       "      <td>7.6</td>\n",
       "    </tr>\n",
       "    <tr>\n",
       "      <th>3</th>\n",
       "      <td>Bam Adebayo</td>\n",
       "      <td>C</td>\n",
       "      <td>71</td>\n",
       "      <td>10.4</td>\n",
       "      <td>3.9</td>\n",
       "      <td>19.3</td>\n",
       "    </tr>\n",
       "    <tr>\n",
       "      <th>4</th>\n",
       "      <td>Ochai Agbaji</td>\n",
       "      <td>SG</td>\n",
       "      <td>78</td>\n",
       "      <td>2.8</td>\n",
       "      <td>1.1</td>\n",
       "      <td>5.8</td>\n",
       "    </tr>\n",
       "    <tr>\n",
       "      <th>5</th>\n",
       "      <td>Ochai Agbaji</td>\n",
       "      <td>SG</td>\n",
       "      <td>51</td>\n",
       "      <td>2.5</td>\n",
       "      <td>0.9</td>\n",
       "      <td>5.4</td>\n",
       "    </tr>\n",
       "    <tr>\n",
       "      <th>6</th>\n",
       "      <td>Ochai Agbaji</td>\n",
       "      <td>SG</td>\n",
       "      <td>27</td>\n",
       "      <td>3.3</td>\n",
       "      <td>1.3</td>\n",
       "      <td>6.7</td>\n",
       "    </tr>\n",
       "    <tr>\n",
       "      <th>7</th>\n",
       "      <td>Santi Aldama</td>\n",
       "      <td>PF</td>\n",
       "      <td>61</td>\n",
       "      <td>5.8</td>\n",
       "      <td>2.3</td>\n",
       "      <td>10.7</td>\n",
       "    </tr>\n",
       "    <tr>\n",
       "      <th>8</th>\n",
       "      <td>Nickeil Alexander-Walker</td>\n",
       "      <td>SG</td>\n",
       "      <td>82</td>\n",
       "      <td>2.0</td>\n",
       "      <td>2.5</td>\n",
       "      <td>8.0</td>\n",
       "    </tr>\n",
       "    <tr>\n",
       "      <th>9</th>\n",
       "      <td>Grayson Allen</td>\n",
       "      <td>SG</td>\n",
       "      <td>75</td>\n",
       "      <td>3.9</td>\n",
       "      <td>3.0</td>\n",
       "      <td>13.5</td>\n",
       "    </tr>\n",
       "  </tbody>\n",
       "</table>\n",
       "</div>"
      ],
      "text/plain": [
       "                     Player   Pos   G   TRB  AST   PTS\n",
       "0          Precious Achiuwa  PF-C  74   6.6  1.3   7.6\n",
       "1          Precious Achiuwa     C  25   5.4  1.8   7.7\n",
       "2          Precious Achiuwa    PF  49   7.2  1.1   7.6\n",
       "3               Bam Adebayo     C  71  10.4  3.9  19.3\n",
       "4              Ochai Agbaji    SG  78   2.8  1.1   5.8\n",
       "5              Ochai Agbaji    SG  51   2.5  0.9   5.4\n",
       "6              Ochai Agbaji    SG  27   3.3  1.3   6.7\n",
       "7              Santi Aldama    PF  61   5.8  2.3  10.7\n",
       "8  Nickeil Alexander-Walker    SG  82   2.0  2.5   8.0\n",
       "9             Grayson Allen    SG  75   3.9  3.0  13.5"
      ]
     },
     "execution_count": 4,
     "metadata": {},
     "output_type": "execute_result"
    }
   ],
   "source": [
    "nba_stats_df[['Player', 'Pos', 'G', 'TRB', 'AST', 'PTS']].head(10)"
   ]
  },
  {
   "cell_type": "code",
   "execution_count": 5,
   "metadata": {},
   "outputs": [],
   "source": [
    "nba_stats_df = nba_stats_df[nba_stats_df['PTS'] >= 15]"
   ]
  },
  {
   "cell_type": "code",
   "execution_count": 6,
   "metadata": {},
   "outputs": [
    {
     "data": {
      "text/html": [
       "<div>\n",
       "<style scoped>\n",
       "    .dataframe tbody tr th:only-of-type {\n",
       "        vertical-align: middle;\n",
       "    }\n",
       "\n",
       "    .dataframe tbody tr th {\n",
       "        vertical-align: top;\n",
       "    }\n",
       "\n",
       "    .dataframe thead th {\n",
       "        text-align: right;\n",
       "    }\n",
       "</style>\n",
       "<table border=\"1\" class=\"dataframe\">\n",
       "  <thead>\n",
       "    <tr style=\"text-align: right;\">\n",
       "      <th></th>\n",
       "      <th>Rk</th>\n",
       "      <th>Player</th>\n",
       "      <th>Pos</th>\n",
       "      <th>Age</th>\n",
       "      <th>Tm</th>\n",
       "      <th>G</th>\n",
       "      <th>GS</th>\n",
       "      <th>MP</th>\n",
       "      <th>FG</th>\n",
       "      <th>FGA</th>\n",
       "      <th>...</th>\n",
       "      <th>FT%</th>\n",
       "      <th>ORB</th>\n",
       "      <th>DRB</th>\n",
       "      <th>TRB</th>\n",
       "      <th>AST</th>\n",
       "      <th>STL</th>\n",
       "      <th>BLK</th>\n",
       "      <th>TOV</th>\n",
       "      <th>PF</th>\n",
       "      <th>PTS</th>\n",
       "    </tr>\n",
       "  </thead>\n",
       "  <tbody>\n",
       "    <tr>\n",
       "      <th>325</th>\n",
       "      <td>250</td>\n",
       "      <td>LeBron James</td>\n",
       "      <td>PF</td>\n",
       "      <td>39</td>\n",
       "      <td>LAL</td>\n",
       "      <td>71</td>\n",
       "      <td>71</td>\n",
       "      <td>35.3</td>\n",
       "      <td>9.6</td>\n",
       "      <td>17.9</td>\n",
       "      <td>...</td>\n",
       "      <td>0.750</td>\n",
       "      <td>0.9</td>\n",
       "      <td>6.4</td>\n",
       "      <td>7.3</td>\n",
       "      <td>8.3</td>\n",
       "      <td>1.3</td>\n",
       "      <td>0.5</td>\n",
       "      <td>3.5</td>\n",
       "      <td>1.1</td>\n",
       "      <td>25.7</td>\n",
       "    </tr>\n",
       "    <tr>\n",
       "      <th>274</th>\n",
       "      <td>205</td>\n",
       "      <td>Tobias Harris</td>\n",
       "      <td>PF</td>\n",
       "      <td>31</td>\n",
       "      <td>PHI</td>\n",
       "      <td>70</td>\n",
       "      <td>70</td>\n",
       "      <td>33.8</td>\n",
       "      <td>6.6</td>\n",
       "      <td>13.6</td>\n",
       "      <td>...</td>\n",
       "      <td>0.878</td>\n",
       "      <td>1.1</td>\n",
       "      <td>5.3</td>\n",
       "      <td>6.5</td>\n",
       "      <td>3.1</td>\n",
       "      <td>1.0</td>\n",
       "      <td>0.7</td>\n",
       "      <td>1.3</td>\n",
       "      <td>1.6</td>\n",
       "      <td>17.2</td>\n",
       "    </tr>\n",
       "    <tr>\n",
       "      <th>22</th>\n",
       "      <td>17</td>\n",
       "      <td>Deandre Ayton</td>\n",
       "      <td>C</td>\n",
       "      <td>25</td>\n",
       "      <td>POR</td>\n",
       "      <td>55</td>\n",
       "      <td>55</td>\n",
       "      <td>32.4</td>\n",
       "      <td>7.8</td>\n",
       "      <td>13.6</td>\n",
       "      <td>...</td>\n",
       "      <td>0.823</td>\n",
       "      <td>3.2</td>\n",
       "      <td>7.9</td>\n",
       "      <td>11.1</td>\n",
       "      <td>1.6</td>\n",
       "      <td>1.0</td>\n",
       "      <td>0.8</td>\n",
       "      <td>1.8</td>\n",
       "      <td>2.0</td>\n",
       "      <td>16.7</td>\n",
       "    </tr>\n",
       "    <tr>\n",
       "      <th>405</th>\n",
       "      <td>316</td>\n",
       "      <td>Lauri Markkanen</td>\n",
       "      <td>PF</td>\n",
       "      <td>26</td>\n",
       "      <td>UTA</td>\n",
       "      <td>55</td>\n",
       "      <td>55</td>\n",
       "      <td>33.1</td>\n",
       "      <td>7.8</td>\n",
       "      <td>16.2</td>\n",
       "      <td>...</td>\n",
       "      <td>0.899</td>\n",
       "      <td>2.2</td>\n",
       "      <td>5.9</td>\n",
       "      <td>8.2</td>\n",
       "      <td>2.0</td>\n",
       "      <td>0.9</td>\n",
       "      <td>0.5</td>\n",
       "      <td>1.4</td>\n",
       "      <td>1.8</td>\n",
       "      <td>23.2</td>\n",
       "    </tr>\n",
       "    <tr>\n",
       "      <th>180</th>\n",
       "      <td>137</td>\n",
       "      <td>Kevin Durant</td>\n",
       "      <td>PF</td>\n",
       "      <td>35</td>\n",
       "      <td>PHO</td>\n",
       "      <td>75</td>\n",
       "      <td>75</td>\n",
       "      <td>37.2</td>\n",
       "      <td>10.0</td>\n",
       "      <td>19.1</td>\n",
       "      <td>...</td>\n",
       "      <td>0.856</td>\n",
       "      <td>0.5</td>\n",
       "      <td>6.1</td>\n",
       "      <td>6.6</td>\n",
       "      <td>5.0</td>\n",
       "      <td>0.9</td>\n",
       "      <td>1.2</td>\n",
       "      <td>3.3</td>\n",
       "      <td>1.8</td>\n",
       "      <td>27.1</td>\n",
       "    </tr>\n",
       "    <tr>\n",
       "      <th>109</th>\n",
       "      <td>76</td>\n",
       "      <td>Jalen Brunson</td>\n",
       "      <td>PG</td>\n",
       "      <td>27</td>\n",
       "      <td>NYK</td>\n",
       "      <td>77</td>\n",
       "      <td>77</td>\n",
       "      <td>35.4</td>\n",
       "      <td>10.3</td>\n",
       "      <td>21.4</td>\n",
       "      <td>...</td>\n",
       "      <td>0.847</td>\n",
       "      <td>0.6</td>\n",
       "      <td>3.1</td>\n",
       "      <td>3.6</td>\n",
       "      <td>6.7</td>\n",
       "      <td>0.9</td>\n",
       "      <td>0.2</td>\n",
       "      <td>2.4</td>\n",
       "      <td>1.9</td>\n",
       "      <td>28.7</td>\n",
       "    </tr>\n",
       "    <tr>\n",
       "      <th>153</th>\n",
       "      <td>114</td>\n",
       "      <td>Stephen Curry</td>\n",
       "      <td>PG</td>\n",
       "      <td>35</td>\n",
       "      <td>GSW</td>\n",
       "      <td>74</td>\n",
       "      <td>74</td>\n",
       "      <td>32.7</td>\n",
       "      <td>8.8</td>\n",
       "      <td>19.5</td>\n",
       "      <td>...</td>\n",
       "      <td>0.923</td>\n",
       "      <td>0.5</td>\n",
       "      <td>4.0</td>\n",
       "      <td>4.5</td>\n",
       "      <td>5.1</td>\n",
       "      <td>0.7</td>\n",
       "      <td>0.4</td>\n",
       "      <td>2.8</td>\n",
       "      <td>1.6</td>\n",
       "      <td>26.4</td>\n",
       "    </tr>\n",
       "    <tr>\n",
       "      <th>183</th>\n",
       "      <td>140</td>\n",
       "      <td>Anthony Edwards</td>\n",
       "      <td>SG</td>\n",
       "      <td>22</td>\n",
       "      <td>MIN</td>\n",
       "      <td>79</td>\n",
       "      <td>78</td>\n",
       "      <td>35.1</td>\n",
       "      <td>9.1</td>\n",
       "      <td>19.7</td>\n",
       "      <td>...</td>\n",
       "      <td>0.836</td>\n",
       "      <td>0.7</td>\n",
       "      <td>4.8</td>\n",
       "      <td>5.4</td>\n",
       "      <td>5.1</td>\n",
       "      <td>1.3</td>\n",
       "      <td>0.5</td>\n",
       "      <td>3.1</td>\n",
       "      <td>1.8</td>\n",
       "      <td>25.9</td>\n",
       "    </tr>\n",
       "    <tr>\n",
       "      <th>10</th>\n",
       "      <td>7</td>\n",
       "      <td>Jarrett Allen</td>\n",
       "      <td>C</td>\n",
       "      <td>25</td>\n",
       "      <td>CLE</td>\n",
       "      <td>77</td>\n",
       "      <td>77</td>\n",
       "      <td>31.7</td>\n",
       "      <td>6.7</td>\n",
       "      <td>10.6</td>\n",
       "      <td>...</td>\n",
       "      <td>0.742</td>\n",
       "      <td>3.2</td>\n",
       "      <td>7.4</td>\n",
       "      <td>10.5</td>\n",
       "      <td>2.7</td>\n",
       "      <td>0.7</td>\n",
       "      <td>1.1</td>\n",
       "      <td>1.6</td>\n",
       "      <td>1.9</td>\n",
       "      <td>16.5</td>\n",
       "    </tr>\n",
       "    <tr>\n",
       "      <th>73</th>\n",
       "      <td>50</td>\n",
       "      <td>Bogdan Bogdanovi?</td>\n",
       "      <td>SG</td>\n",
       "      <td>31</td>\n",
       "      <td>ATL</td>\n",
       "      <td>79</td>\n",
       "      <td>33</td>\n",
       "      <td>30.4</td>\n",
       "      <td>6.0</td>\n",
       "      <td>13.9</td>\n",
       "      <td>...</td>\n",
       "      <td>0.921</td>\n",
       "      <td>0.7</td>\n",
       "      <td>2.8</td>\n",
       "      <td>3.4</td>\n",
       "      <td>3.1</td>\n",
       "      <td>1.2</td>\n",
       "      <td>0.3</td>\n",
       "      <td>1.4</td>\n",
       "      <td>2.3</td>\n",
       "      <td>16.9</td>\n",
       "    </tr>\n",
       "    <tr>\n",
       "      <th>14</th>\n",
       "      <td>11</td>\n",
       "      <td>Giannis Antetokounmpo</td>\n",
       "      <td>PF</td>\n",
       "      <td>29</td>\n",
       "      <td>MIL</td>\n",
       "      <td>73</td>\n",
       "      <td>73</td>\n",
       "      <td>35.2</td>\n",
       "      <td>11.5</td>\n",
       "      <td>18.8</td>\n",
       "      <td>...</td>\n",
       "      <td>0.657</td>\n",
       "      <td>2.7</td>\n",
       "      <td>8.8</td>\n",
       "      <td>11.5</td>\n",
       "      <td>6.5</td>\n",
       "      <td>1.2</td>\n",
       "      <td>1.1</td>\n",
       "      <td>3.4</td>\n",
       "      <td>2.9</td>\n",
       "      <td>30.4</td>\n",
       "    </tr>\n",
       "    <tr>\n",
       "      <th>363</th>\n",
       "      <td>286</td>\n",
       "      <td>Kyle Kuzma</td>\n",
       "      <td>PF</td>\n",
       "      <td>28</td>\n",
       "      <td>WAS</td>\n",
       "      <td>70</td>\n",
       "      <td>70</td>\n",
       "      <td>32.6</td>\n",
       "      <td>8.7</td>\n",
       "      <td>18.8</td>\n",
       "      <td>...</td>\n",
       "      <td>0.775</td>\n",
       "      <td>0.9</td>\n",
       "      <td>5.7</td>\n",
       "      <td>6.6</td>\n",
       "      <td>4.2</td>\n",
       "      <td>0.5</td>\n",
       "      <td>0.7</td>\n",
       "      <td>2.7</td>\n",
       "      <td>2.2</td>\n",
       "      <td>22.2</td>\n",
       "    </tr>\n",
       "    <tr>\n",
       "      <th>155</th>\n",
       "      <td>116</td>\n",
       "      <td>Anthony Davis</td>\n",
       "      <td>C</td>\n",
       "      <td>30</td>\n",
       "      <td>LAL</td>\n",
       "      <td>76</td>\n",
       "      <td>76</td>\n",
       "      <td>35.5</td>\n",
       "      <td>9.4</td>\n",
       "      <td>16.9</td>\n",
       "      <td>...</td>\n",
       "      <td>0.816</td>\n",
       "      <td>3.1</td>\n",
       "      <td>9.5</td>\n",
       "      <td>12.6</td>\n",
       "      <td>3.5</td>\n",
       "      <td>1.2</td>\n",
       "      <td>2.3</td>\n",
       "      <td>2.1</td>\n",
       "      <td>2.3</td>\n",
       "      <td>24.7</td>\n",
       "    </tr>\n",
       "    <tr>\n",
       "      <th>171</th>\n",
       "      <td>128</td>\n",
       "      <td>Luka Don?i?</td>\n",
       "      <td>PG</td>\n",
       "      <td>24</td>\n",
       "      <td>DAL</td>\n",
       "      <td>70</td>\n",
       "      <td>70</td>\n",
       "      <td>37.5</td>\n",
       "      <td>11.5</td>\n",
       "      <td>23.6</td>\n",
       "      <td>...</td>\n",
       "      <td>0.786</td>\n",
       "      <td>0.8</td>\n",
       "      <td>8.4</td>\n",
       "      <td>9.2</td>\n",
       "      <td>9.8</td>\n",
       "      <td>1.4</td>\n",
       "      <td>0.5</td>\n",
       "      <td>4.0</td>\n",
       "      <td>2.1</td>\n",
       "      <td>33.9</td>\n",
       "    </tr>\n",
       "    <tr>\n",
       "      <th>662</th>\n",
       "      <td>515</td>\n",
       "      <td>Fred VanVleet</td>\n",
       "      <td>PG</td>\n",
       "      <td>29</td>\n",
       "      <td>HOU</td>\n",
       "      <td>73</td>\n",
       "      <td>73</td>\n",
       "      <td>36.8</td>\n",
       "      <td>5.8</td>\n",
       "      <td>13.9</td>\n",
       "      <td>...</td>\n",
       "      <td>0.860</td>\n",
       "      <td>0.5</td>\n",
       "      <td>3.4</td>\n",
       "      <td>3.8</td>\n",
       "      <td>8.1</td>\n",
       "      <td>1.4</td>\n",
       "      <td>0.8</td>\n",
       "      <td>1.7</td>\n",
       "      <td>2.5</td>\n",
       "      <td>17.4</td>\n",
       "    </tr>\n",
       "    <tr>\n",
       "      <th>690</th>\n",
       "      <td>537</td>\n",
       "      <td>Victor Wembanyama</td>\n",
       "      <td>C</td>\n",
       "      <td>20</td>\n",
       "      <td>SAS</td>\n",
       "      <td>71</td>\n",
       "      <td>71</td>\n",
       "      <td>29.7</td>\n",
       "      <td>7.8</td>\n",
       "      <td>16.7</td>\n",
       "      <td>...</td>\n",
       "      <td>0.796</td>\n",
       "      <td>2.3</td>\n",
       "      <td>8.4</td>\n",
       "      <td>10.6</td>\n",
       "      <td>3.9</td>\n",
       "      <td>1.2</td>\n",
       "      <td>3.6</td>\n",
       "      <td>3.7</td>\n",
       "      <td>2.2</td>\n",
       "      <td>21.4</td>\n",
       "    </tr>\n",
       "    <tr>\n",
       "      <th>137</th>\n",
       "      <td>102</td>\n",
       "      <td>John Collins</td>\n",
       "      <td>PF</td>\n",
       "      <td>26</td>\n",
       "      <td>UTA</td>\n",
       "      <td>68</td>\n",
       "      <td>66</td>\n",
       "      <td>28.0</td>\n",
       "      <td>5.8</td>\n",
       "      <td>11.0</td>\n",
       "      <td>...</td>\n",
       "      <td>0.795</td>\n",
       "      <td>2.3</td>\n",
       "      <td>6.1</td>\n",
       "      <td>8.5</td>\n",
       "      <td>1.1</td>\n",
       "      <td>0.6</td>\n",
       "      <td>0.9</td>\n",
       "      <td>1.4</td>\n",
       "      <td>2.8</td>\n",
       "      <td>15.1</td>\n",
       "    </tr>\n",
       "    <tr>\n",
       "      <th>248</th>\n",
       "      <td>181</td>\n",
       "      <td>Jerami Grant</td>\n",
       "      <td>PF</td>\n",
       "      <td>29</td>\n",
       "      <td>POR</td>\n",
       "      <td>54</td>\n",
       "      <td>54</td>\n",
       "      <td>33.9</td>\n",
       "      <td>7.1</td>\n",
       "      <td>15.7</td>\n",
       "      <td>...</td>\n",
       "      <td>0.817</td>\n",
       "      <td>0.7</td>\n",
       "      <td>2.9</td>\n",
       "      <td>3.5</td>\n",
       "      <td>2.8</td>\n",
       "      <td>0.8</td>\n",
       "      <td>0.6</td>\n",
       "      <td>2.1</td>\n",
       "      <td>2.2</td>\n",
       "      <td>21.0</td>\n",
       "    </tr>\n",
       "    <tr>\n",
       "      <th>362</th>\n",
       "      <td>285</td>\n",
       "      <td>Jonathan Kuminga</td>\n",
       "      <td>PF</td>\n",
       "      <td>21</td>\n",
       "      <td>GSW</td>\n",
       "      <td>74</td>\n",
       "      <td>46</td>\n",
       "      <td>26.3</td>\n",
       "      <td>6.2</td>\n",
       "      <td>11.6</td>\n",
       "      <td>...</td>\n",
       "      <td>0.746</td>\n",
       "      <td>1.2</td>\n",
       "      <td>3.6</td>\n",
       "      <td>4.8</td>\n",
       "      <td>2.2</td>\n",
       "      <td>0.7</td>\n",
       "      <td>0.5</td>\n",
       "      <td>1.6</td>\n",
       "      <td>2.3</td>\n",
       "      <td>16.1</td>\n",
       "    </tr>\n",
       "    <tr>\n",
       "      <th>18</th>\n",
       "      <td>14</td>\n",
       "      <td>OG Anunoby</td>\n",
       "      <td>SF</td>\n",
       "      <td>26</td>\n",
       "      <td>TOR</td>\n",
       "      <td>27</td>\n",
       "      <td>27</td>\n",
       "      <td>33.3</td>\n",
       "      <td>5.8</td>\n",
       "      <td>11.9</td>\n",
       "      <td>...</td>\n",
       "      <td>0.717</td>\n",
       "      <td>0.9</td>\n",
       "      <td>3.0</td>\n",
       "      <td>3.9</td>\n",
       "      <td>2.7</td>\n",
       "      <td>1.0</td>\n",
       "      <td>0.5</td>\n",
       "      <td>1.6</td>\n",
       "      <td>2.3</td>\n",
       "      <td>15.1</td>\n",
       "    </tr>\n",
       "  </tbody>\n",
       "</table>\n",
       "<p>20 rows × 30 columns</p>\n",
       "</div>"
      ],
      "text/plain": [
       "      Rk                 Player Pos  Age   Tm   G  GS    MP    FG   FGA  ...  \\\n",
       "325  250           LeBron James  PF   39  LAL  71  71  35.3   9.6  17.9  ...   \n",
       "274  205          Tobias Harris  PF   31  PHI  70  70  33.8   6.6  13.6  ...   \n",
       "22    17          Deandre Ayton   C   25  POR  55  55  32.4   7.8  13.6  ...   \n",
       "405  316        Lauri Markkanen  PF   26  UTA  55  55  33.1   7.8  16.2  ...   \n",
       "180  137           Kevin Durant  PF   35  PHO  75  75  37.2  10.0  19.1  ...   \n",
       "109   76          Jalen Brunson  PG   27  NYK  77  77  35.4  10.3  21.4  ...   \n",
       "153  114          Stephen Curry  PG   35  GSW  74  74  32.7   8.8  19.5  ...   \n",
       "183  140        Anthony Edwards  SG   22  MIN  79  78  35.1   9.1  19.7  ...   \n",
       "10     7          Jarrett Allen   C   25  CLE  77  77  31.7   6.7  10.6  ...   \n",
       "73    50      Bogdan Bogdanovi?  SG   31  ATL  79  33  30.4   6.0  13.9  ...   \n",
       "14    11  Giannis Antetokounmpo  PF   29  MIL  73  73  35.2  11.5  18.8  ...   \n",
       "363  286             Kyle Kuzma  PF   28  WAS  70  70  32.6   8.7  18.8  ...   \n",
       "155  116          Anthony Davis   C   30  LAL  76  76  35.5   9.4  16.9  ...   \n",
       "171  128            Luka Don?i?  PG   24  DAL  70  70  37.5  11.5  23.6  ...   \n",
       "662  515          Fred VanVleet  PG   29  HOU  73  73  36.8   5.8  13.9  ...   \n",
       "690  537      Victor Wembanyama   C   20  SAS  71  71  29.7   7.8  16.7  ...   \n",
       "137  102           John Collins  PF   26  UTA  68  66  28.0   5.8  11.0  ...   \n",
       "248  181           Jerami Grant  PF   29  POR  54  54  33.9   7.1  15.7  ...   \n",
       "362  285       Jonathan Kuminga  PF   21  GSW  74  46  26.3   6.2  11.6  ...   \n",
       "18    14             OG Anunoby  SF   26  TOR  27  27  33.3   5.8  11.9  ...   \n",
       "\n",
       "       FT%  ORB  DRB   TRB  AST  STL  BLK  TOV   PF   PTS  \n",
       "325  0.750  0.9  6.4   7.3  8.3  1.3  0.5  3.5  1.1  25.7  \n",
       "274  0.878  1.1  5.3   6.5  3.1  1.0  0.7  1.3  1.6  17.2  \n",
       "22   0.823  3.2  7.9  11.1  1.6  1.0  0.8  1.8  2.0  16.7  \n",
       "405  0.899  2.2  5.9   8.2  2.0  0.9  0.5  1.4  1.8  23.2  \n",
       "180  0.856  0.5  6.1   6.6  5.0  0.9  1.2  3.3  1.8  27.1  \n",
       "109  0.847  0.6  3.1   3.6  6.7  0.9  0.2  2.4  1.9  28.7  \n",
       "153  0.923  0.5  4.0   4.5  5.1  0.7  0.4  2.8  1.6  26.4  \n",
       "183  0.836  0.7  4.8   5.4  5.1  1.3  0.5  3.1  1.8  25.9  \n",
       "10   0.742  3.2  7.4  10.5  2.7  0.7  1.1  1.6  1.9  16.5  \n",
       "73   0.921  0.7  2.8   3.4  3.1  1.2  0.3  1.4  2.3  16.9  \n",
       "14   0.657  2.7  8.8  11.5  6.5  1.2  1.1  3.4  2.9  30.4  \n",
       "363  0.775  0.9  5.7   6.6  4.2  0.5  0.7  2.7  2.2  22.2  \n",
       "155  0.816  3.1  9.5  12.6  3.5  1.2  2.3  2.1  2.3  24.7  \n",
       "171  0.786  0.8  8.4   9.2  9.8  1.4  0.5  4.0  2.1  33.9  \n",
       "662  0.860  0.5  3.4   3.8  8.1  1.4  0.8  1.7  2.5  17.4  \n",
       "690  0.796  2.3  8.4  10.6  3.9  1.2  3.6  3.7  2.2  21.4  \n",
       "137  0.795  2.3  6.1   8.5  1.1  0.6  0.9  1.4  2.8  15.1  \n",
       "248  0.817  0.7  2.9   3.5  2.8  0.8  0.6  2.1  2.2  21.0  \n",
       "362  0.746  1.2  3.6   4.8  2.2  0.7  0.5  1.6  2.3  16.1  \n",
       "18   0.717  0.9  3.0   3.9  2.7  1.0  0.5  1.6  2.3  15.1  \n",
       "\n",
       "[20 rows x 30 columns]"
      ]
     },
     "execution_count": 6,
     "metadata": {},
     "output_type": "execute_result"
    }
   ],
   "source": [
    "nba_stats_df.sample(20)"
   ]
  },
  {
   "cell_type": "markdown",
   "metadata": {},
   "source": [
    "<div class=\"alert alert-info\">\n",
    "<h2> Student's comment</h2>\n",
    "\n",
    "I only want players who played at least 60 games, and averaged at least 15 ppg.\n",
    "</div>"
   ]
  },
  {
   "cell_type": "code",
   "execution_count": 7,
   "metadata": {},
   "outputs": [],
   "source": [
    "nba_stats_df = nba_stats_df[nba_stats_df['G'] >= 60]"
   ]
  },
  {
   "cell_type": "code",
   "execution_count": 8,
   "metadata": {},
   "outputs": [
    {
     "data": {
      "text/html": [
       "<div>\n",
       "<style scoped>\n",
       "    .dataframe tbody tr th:only-of-type {\n",
       "        vertical-align: middle;\n",
       "    }\n",
       "\n",
       "    .dataframe tbody tr th {\n",
       "        vertical-align: top;\n",
       "    }\n",
       "\n",
       "    .dataframe thead th {\n",
       "        text-align: right;\n",
       "    }\n",
       "</style>\n",
       "<table border=\"1\" class=\"dataframe\">\n",
       "  <thead>\n",
       "    <tr style=\"text-align: right;\">\n",
       "      <th></th>\n",
       "      <th>Rk</th>\n",
       "      <th>Player</th>\n",
       "      <th>Pos</th>\n",
       "      <th>Age</th>\n",
       "      <th>Tm</th>\n",
       "      <th>G</th>\n",
       "      <th>GS</th>\n",
       "      <th>MP</th>\n",
       "      <th>FG</th>\n",
       "      <th>FGA</th>\n",
       "      <th>...</th>\n",
       "      <th>FT%</th>\n",
       "      <th>ORB</th>\n",
       "      <th>DRB</th>\n",
       "      <th>TRB</th>\n",
       "      <th>AST</th>\n",
       "      <th>STL</th>\n",
       "      <th>BLK</th>\n",
       "      <th>TOV</th>\n",
       "      <th>PF</th>\n",
       "      <th>PTS</th>\n",
       "    </tr>\n",
       "  </thead>\n",
       "  <tbody>\n",
       "    <tr>\n",
       "      <th>592</th>\n",
       "      <td>457</td>\n",
       "      <td>Collin Sexton</td>\n",
       "      <td>SG</td>\n",
       "      <td>25</td>\n",
       "      <td>UTA</td>\n",
       "      <td>78</td>\n",
       "      <td>51</td>\n",
       "      <td>26.6</td>\n",
       "      <td>6.5</td>\n",
       "      <td>13.3</td>\n",
       "      <td>...</td>\n",
       "      <td>0.859</td>\n",
       "      <td>0.9</td>\n",
       "      <td>1.7</td>\n",
       "      <td>2.6</td>\n",
       "      <td>4.9</td>\n",
       "      <td>0.8</td>\n",
       "      <td>0.2</td>\n",
       "      <td>2.1</td>\n",
       "      <td>2.0</td>\n",
       "      <td>18.7</td>\n",
       "    </tr>\n",
       "    <tr>\n",
       "      <th>457</th>\n",
       "      <td>353</td>\n",
       "      <td>Malik Monk</td>\n",
       "      <td>SG</td>\n",
       "      <td>25</td>\n",
       "      <td>SAC</td>\n",
       "      <td>72</td>\n",
       "      <td>0</td>\n",
       "      <td>26.0</td>\n",
       "      <td>5.5</td>\n",
       "      <td>12.4</td>\n",
       "      <td>...</td>\n",
       "      <td>0.829</td>\n",
       "      <td>0.4</td>\n",
       "      <td>2.6</td>\n",
       "      <td>2.9</td>\n",
       "      <td>5.1</td>\n",
       "      <td>0.6</td>\n",
       "      <td>0.5</td>\n",
       "      <td>2.1</td>\n",
       "      <td>2.2</td>\n",
       "      <td>15.4</td>\n",
       "    </tr>\n",
       "    <tr>\n",
       "      <th>694</th>\n",
       "      <td>541</td>\n",
       "      <td>Derrick White</td>\n",
       "      <td>SG</td>\n",
       "      <td>29</td>\n",
       "      <td>BOS</td>\n",
       "      <td>73</td>\n",
       "      <td>73</td>\n",
       "      <td>32.6</td>\n",
       "      <td>5.3</td>\n",
       "      <td>11.5</td>\n",
       "      <td>...</td>\n",
       "      <td>0.901</td>\n",
       "      <td>0.7</td>\n",
       "      <td>3.5</td>\n",
       "      <td>4.2</td>\n",
       "      <td>5.2</td>\n",
       "      <td>1.0</td>\n",
       "      <td>1.2</td>\n",
       "      <td>1.5</td>\n",
       "      <td>2.1</td>\n",
       "      <td>15.2</td>\n",
       "    </tr>\n",
       "    <tr>\n",
       "      <th>545</th>\n",
       "      <td>420</td>\n",
       "      <td>Immanuel Quickley</td>\n",
       "      <td>PG-SG</td>\n",
       "      <td>24</td>\n",
       "      <td>TOT</td>\n",
       "      <td>68</td>\n",
       "      <td>38</td>\n",
       "      <td>29.2</td>\n",
       "      <td>5.7</td>\n",
       "      <td>13.1</td>\n",
       "      <td>...</td>\n",
       "      <td>0.853</td>\n",
       "      <td>0.3</td>\n",
       "      <td>3.6</td>\n",
       "      <td>3.8</td>\n",
       "      <td>4.9</td>\n",
       "      <td>0.7</td>\n",
       "      <td>0.1</td>\n",
       "      <td>1.5</td>\n",
       "      <td>1.8</td>\n",
       "      <td>17.0</td>\n",
       "    </tr>\n",
       "    <tr>\n",
       "      <th>39</th>\n",
       "      <td>30</td>\n",
       "      <td>Scottie Barnes</td>\n",
       "      <td>SG</td>\n",
       "      <td>22</td>\n",
       "      <td>TOR</td>\n",
       "      <td>60</td>\n",
       "      <td>60</td>\n",
       "      <td>34.9</td>\n",
       "      <td>7.5</td>\n",
       "      <td>15.7</td>\n",
       "      <td>...</td>\n",
       "      <td>0.781</td>\n",
       "      <td>2.4</td>\n",
       "      <td>5.9</td>\n",
       "      <td>8.2</td>\n",
       "      <td>6.1</td>\n",
       "      <td>1.3</td>\n",
       "      <td>1.5</td>\n",
       "      <td>2.8</td>\n",
       "      <td>2.0</td>\n",
       "      <td>19.9</td>\n",
       "    </tr>\n",
       "    <tr>\n",
       "      <th>235</th>\n",
       "      <td>172</td>\n",
       "      <td>Shai Gilgeous-Alexander</td>\n",
       "      <td>PG</td>\n",
       "      <td>25</td>\n",
       "      <td>OKC</td>\n",
       "      <td>75</td>\n",
       "      <td>75</td>\n",
       "      <td>34.0</td>\n",
       "      <td>10.6</td>\n",
       "      <td>19.8</td>\n",
       "      <td>...</td>\n",
       "      <td>0.874</td>\n",
       "      <td>0.9</td>\n",
       "      <td>4.7</td>\n",
       "      <td>5.5</td>\n",
       "      <td>6.2</td>\n",
       "      <td>2.0</td>\n",
       "      <td>0.9</td>\n",
       "      <td>2.2</td>\n",
       "      <td>2.5</td>\n",
       "      <td>30.1</td>\n",
       "    </tr>\n",
       "    <tr>\n",
       "      <th>32</th>\n",
       "      <td>25</td>\n",
       "      <td>Paolo Banchero</td>\n",
       "      <td>PF</td>\n",
       "      <td>21</td>\n",
       "      <td>ORL</td>\n",
       "      <td>80</td>\n",
       "      <td>80</td>\n",
       "      <td>35.0</td>\n",
       "      <td>8.0</td>\n",
       "      <td>17.6</td>\n",
       "      <td>...</td>\n",
       "      <td>0.725</td>\n",
       "      <td>1.0</td>\n",
       "      <td>5.9</td>\n",
       "      <td>6.9</td>\n",
       "      <td>5.4</td>\n",
       "      <td>0.9</td>\n",
       "      <td>0.6</td>\n",
       "      <td>3.1</td>\n",
       "      <td>1.9</td>\n",
       "      <td>22.6</td>\n",
       "    </tr>\n",
       "    <tr>\n",
       "      <th>153</th>\n",
       "      <td>114</td>\n",
       "      <td>Stephen Curry</td>\n",
       "      <td>PG</td>\n",
       "      <td>35</td>\n",
       "      <td>GSW</td>\n",
       "      <td>74</td>\n",
       "      <td>74</td>\n",
       "      <td>32.7</td>\n",
       "      <td>8.8</td>\n",
       "      <td>19.5</td>\n",
       "      <td>...</td>\n",
       "      <td>0.923</td>\n",
       "      <td>0.5</td>\n",
       "      <td>4.0</td>\n",
       "      <td>4.5</td>\n",
       "      <td>5.1</td>\n",
       "      <td>0.7</td>\n",
       "      <td>0.4</td>\n",
       "      <td>2.8</td>\n",
       "      <td>1.6</td>\n",
       "      <td>26.4</td>\n",
       "    </tr>\n",
       "    <tr>\n",
       "      <th>90</th>\n",
       "      <td>61</td>\n",
       "      <td>Mikal Bridges</td>\n",
       "      <td>SF</td>\n",
       "      <td>27</td>\n",
       "      <td>BRK</td>\n",
       "      <td>82</td>\n",
       "      <td>82</td>\n",
       "      <td>34.8</td>\n",
       "      <td>6.9</td>\n",
       "      <td>15.8</td>\n",
       "      <td>...</td>\n",
       "      <td>0.814</td>\n",
       "      <td>0.8</td>\n",
       "      <td>3.7</td>\n",
       "      <td>4.5</td>\n",
       "      <td>3.6</td>\n",
       "      <td>1.0</td>\n",
       "      <td>0.4</td>\n",
       "      <td>2.0</td>\n",
       "      <td>1.4</td>\n",
       "      <td>19.6</td>\n",
       "    </tr>\n",
       "    <tr>\n",
       "      <th>274</th>\n",
       "      <td>205</td>\n",
       "      <td>Tobias Harris</td>\n",
       "      <td>PF</td>\n",
       "      <td>31</td>\n",
       "      <td>PHI</td>\n",
       "      <td>70</td>\n",
       "      <td>70</td>\n",
       "      <td>33.8</td>\n",
       "      <td>6.6</td>\n",
       "      <td>13.6</td>\n",
       "      <td>...</td>\n",
       "      <td>0.878</td>\n",
       "      <td>1.1</td>\n",
       "      <td>5.3</td>\n",
       "      <td>6.5</td>\n",
       "      <td>3.1</td>\n",
       "      <td>1.0</td>\n",
       "      <td>0.7</td>\n",
       "      <td>1.3</td>\n",
       "      <td>1.6</td>\n",
       "      <td>17.2</td>\n",
       "    </tr>\n",
       "  </tbody>\n",
       "</table>\n",
       "<p>10 rows × 30 columns</p>\n",
       "</div>"
      ],
      "text/plain": [
       "      Rk                   Player    Pos  Age   Tm   G  GS    MP    FG   FGA  \\\n",
       "592  457            Collin Sexton     SG   25  UTA  78  51  26.6   6.5  13.3   \n",
       "457  353               Malik Monk     SG   25  SAC  72   0  26.0   5.5  12.4   \n",
       "694  541            Derrick White     SG   29  BOS  73  73  32.6   5.3  11.5   \n",
       "545  420        Immanuel Quickley  PG-SG   24  TOT  68  38  29.2   5.7  13.1   \n",
       "39    30           Scottie Barnes     SG   22  TOR  60  60  34.9   7.5  15.7   \n",
       "235  172  Shai Gilgeous-Alexander     PG   25  OKC  75  75  34.0  10.6  19.8   \n",
       "32    25           Paolo Banchero     PF   21  ORL  80  80  35.0   8.0  17.6   \n",
       "153  114            Stephen Curry     PG   35  GSW  74  74  32.7   8.8  19.5   \n",
       "90    61            Mikal Bridges     SF   27  BRK  82  82  34.8   6.9  15.8   \n",
       "274  205            Tobias Harris     PF   31  PHI  70  70  33.8   6.6  13.6   \n",
       "\n",
       "     ...    FT%  ORB  DRB  TRB  AST  STL  BLK  TOV   PF   PTS  \n",
       "592  ...  0.859  0.9  1.7  2.6  4.9  0.8  0.2  2.1  2.0  18.7  \n",
       "457  ...  0.829  0.4  2.6  2.9  5.1  0.6  0.5  2.1  2.2  15.4  \n",
       "694  ...  0.901  0.7  3.5  4.2  5.2  1.0  1.2  1.5  2.1  15.2  \n",
       "545  ...  0.853  0.3  3.6  3.8  4.9  0.7  0.1  1.5  1.8  17.0  \n",
       "39   ...  0.781  2.4  5.9  8.2  6.1  1.3  1.5  2.8  2.0  19.9  \n",
       "235  ...  0.874  0.9  4.7  5.5  6.2  2.0  0.9  2.2  2.5  30.1  \n",
       "32   ...  0.725  1.0  5.9  6.9  5.4  0.9  0.6  3.1  1.9  22.6  \n",
       "153  ...  0.923  0.5  4.0  4.5  5.1  0.7  0.4  2.8  1.6  26.4  \n",
       "90   ...  0.814  0.8  3.7  4.5  3.6  1.0  0.4  2.0  1.4  19.6  \n",
       "274  ...  0.878  1.1  5.3  6.5  3.1  1.0  0.7  1.3  1.6  17.2  \n",
       "\n",
       "[10 rows x 30 columns]"
      ]
     },
     "execution_count": 8,
     "metadata": {},
     "output_type": "execute_result"
    }
   ],
   "source": [
    "nba_stats_df.sample(10)"
   ]
  },
  {
   "cell_type": "code",
   "execution_count": 9,
   "metadata": {},
   "outputs": [
    {
     "name": "stdout",
     "output_type": "stream",
     "text": [
      "<class 'pandas.core.frame.DataFrame'>\n",
      "Index: 70 entries, 3 to 715\n",
      "Data columns (total 30 columns):\n",
      " #   Column  Non-Null Count  Dtype  \n",
      "---  ------  --------------  -----  \n",
      " 0   Rk      70 non-null     int64  \n",
      " 1   Player  70 non-null     object \n",
      " 2   Pos     70 non-null     object \n",
      " 3   Age     70 non-null     int64  \n",
      " 4   Tm      70 non-null     object \n",
      " 5   G       70 non-null     int64  \n",
      " 6   GS      70 non-null     int64  \n",
      " 7   MP      70 non-null     float64\n",
      " 8   FG      70 non-null     float64\n",
      " 9   FGA     70 non-null     float64\n",
      " 10  FG%     70 non-null     float64\n",
      " 11  3P      70 non-null     float64\n",
      " 12  3PA     70 non-null     float64\n",
      " 13  3P%     70 non-null     float64\n",
      " 14  2P      70 non-null     float64\n",
      " 15  2PA     70 non-null     float64\n",
      " 16  2P%     70 non-null     float64\n",
      " 17  eFG%    70 non-null     float64\n",
      " 18  FT      70 non-null     float64\n",
      " 19  FTA     70 non-null     float64\n",
      " 20  FT%     70 non-null     float64\n",
      " 21  ORB     70 non-null     float64\n",
      " 22  DRB     70 non-null     float64\n",
      " 23  TRB     70 non-null     float64\n",
      " 24  AST     70 non-null     float64\n",
      " 25  STL     70 non-null     float64\n",
      " 26  BLK     70 non-null     float64\n",
      " 27  TOV     70 non-null     float64\n",
      " 28  PF      70 non-null     float64\n",
      " 29  PTS     70 non-null     float64\n",
      "dtypes: float64(23), int64(4), object(3)\n",
      "memory usage: 17.0+ KB\n"
     ]
    }
   ],
   "source": [
    "nba_stats_df.info()"
   ]
  },
  {
   "cell_type": "code",
   "execution_count": 10,
   "metadata": {},
   "outputs": [],
   "source": [
    "columns_to_keep = ['Player', 'Pos', 'Age', 'Tm', 'G', 'FG%', 'TRB', 'AST', 'PTS', 'STL', 'BLK']\n",
    "nba_stats_df = nba_stats_df[columns_to_keep]"
   ]
  },
  {
   "cell_type": "code",
   "execution_count": 11,
   "metadata": {},
   "outputs": [
    {
     "data": {
      "text/html": [
       "<div>\n",
       "<style scoped>\n",
       "    .dataframe tbody tr th:only-of-type {\n",
       "        vertical-align: middle;\n",
       "    }\n",
       "\n",
       "    .dataframe tbody tr th {\n",
       "        vertical-align: top;\n",
       "    }\n",
       "\n",
       "    .dataframe thead th {\n",
       "        text-align: right;\n",
       "    }\n",
       "</style>\n",
       "<table border=\"1\" class=\"dataframe\">\n",
       "  <thead>\n",
       "    <tr style=\"text-align: right;\">\n",
       "      <th></th>\n",
       "      <th>Player</th>\n",
       "      <th>Pos</th>\n",
       "      <th>Age</th>\n",
       "      <th>Tm</th>\n",
       "      <th>G</th>\n",
       "      <th>FG%</th>\n",
       "      <th>TRB</th>\n",
       "      <th>AST</th>\n",
       "      <th>PTS</th>\n",
       "      <th>STL</th>\n",
       "      <th>BLK</th>\n",
       "    </tr>\n",
       "  </thead>\n",
       "  <tbody>\n",
       "    <tr>\n",
       "      <th>545</th>\n",
       "      <td>Immanuel Quickley</td>\n",
       "      <td>PG-SG</td>\n",
       "      <td>24</td>\n",
       "      <td>TOT</td>\n",
       "      <td>68</td>\n",
       "      <td>0.434</td>\n",
       "      <td>3.8</td>\n",
       "      <td>4.9</td>\n",
       "      <td>17.0</td>\n",
       "      <td>0.7</td>\n",
       "      <td>0.1</td>\n",
       "    </tr>\n",
       "    <tr>\n",
       "      <th>32</th>\n",
       "      <td>Paolo Banchero</td>\n",
       "      <td>PF</td>\n",
       "      <td>21</td>\n",
       "      <td>ORL</td>\n",
       "      <td>80</td>\n",
       "      <td>0.455</td>\n",
       "      <td>6.9</td>\n",
       "      <td>5.4</td>\n",
       "      <td>22.6</td>\n",
       "      <td>0.9</td>\n",
       "      <td>0.6</td>\n",
       "    </tr>\n",
       "    <tr>\n",
       "      <th>253</th>\n",
       "      <td>Jalen Green</td>\n",
       "      <td>SG</td>\n",
       "      <td>21</td>\n",
       "      <td>HOU</td>\n",
       "      <td>82</td>\n",
       "      <td>0.423</td>\n",
       "      <td>5.2</td>\n",
       "      <td>3.5</td>\n",
       "      <td>19.6</td>\n",
       "      <td>0.8</td>\n",
       "      <td>0.3</td>\n",
       "    </tr>\n",
       "    <tr>\n",
       "      <th>363</th>\n",
       "      <td>Kyle Kuzma</td>\n",
       "      <td>PF</td>\n",
       "      <td>28</td>\n",
       "      <td>WAS</td>\n",
       "      <td>70</td>\n",
       "      <td>0.463</td>\n",
       "      <td>6.6</td>\n",
       "      <td>4.2</td>\n",
       "      <td>22.2</td>\n",
       "      <td>0.5</td>\n",
       "      <td>0.7</td>\n",
       "    </tr>\n",
       "    <tr>\n",
       "      <th>637</th>\n",
       "      <td>Cam Thomas</td>\n",
       "      <td>SG</td>\n",
       "      <td>22</td>\n",
       "      <td>BRK</td>\n",
       "      <td>66</td>\n",
       "      <td>0.442</td>\n",
       "      <td>3.2</td>\n",
       "      <td>2.9</td>\n",
       "      <td>22.5</td>\n",
       "      <td>0.7</td>\n",
       "      <td>0.2</td>\n",
       "    </tr>\n",
       "    <tr>\n",
       "      <th>313</th>\n",
       "      <td>Brandon Ingram</td>\n",
       "      <td>SF</td>\n",
       "      <td>26</td>\n",
       "      <td>NOP</td>\n",
       "      <td>64</td>\n",
       "      <td>0.492</td>\n",
       "      <td>5.1</td>\n",
       "      <td>5.7</td>\n",
       "      <td>20.8</td>\n",
       "      <td>0.8</td>\n",
       "      <td>0.6</td>\n",
       "    </tr>\n",
       "    <tr>\n",
       "      <th>316</th>\n",
       "      <td>Jaden Ivey</td>\n",
       "      <td>SG</td>\n",
       "      <td>21</td>\n",
       "      <td>DET</td>\n",
       "      <td>77</td>\n",
       "      <td>0.429</td>\n",
       "      <td>3.4</td>\n",
       "      <td>3.8</td>\n",
       "      <td>15.4</td>\n",
       "      <td>0.7</td>\n",
       "      <td>0.5</td>\n",
       "    </tr>\n",
       "    <tr>\n",
       "      <th>268</th>\n",
       "      <td>James Harden</td>\n",
       "      <td>PG</td>\n",
       "      <td>34</td>\n",
       "      <td>LAC</td>\n",
       "      <td>72</td>\n",
       "      <td>0.428</td>\n",
       "      <td>5.1</td>\n",
       "      <td>8.5</td>\n",
       "      <td>16.6</td>\n",
       "      <td>1.1</td>\n",
       "      <td>0.8</td>\n",
       "    </tr>\n",
       "    <tr>\n",
       "      <th>337</th>\n",
       "      <td>Keldon Johnson</td>\n",
       "      <td>SF</td>\n",
       "      <td>24</td>\n",
       "      <td>SAS</td>\n",
       "      <td>69</td>\n",
       "      <td>0.454</td>\n",
       "      <td>5.5</td>\n",
       "      <td>2.8</td>\n",
       "      <td>15.7</td>\n",
       "      <td>0.7</td>\n",
       "      <td>0.3</td>\n",
       "    </tr>\n",
       "    <tr>\n",
       "      <th>508</th>\n",
       "      <td>Kelly Oubre Jr.</td>\n",
       "      <td>SF</td>\n",
       "      <td>28</td>\n",
       "      <td>PHI</td>\n",
       "      <td>68</td>\n",
       "      <td>0.441</td>\n",
       "      <td>5.0</td>\n",
       "      <td>1.5</td>\n",
       "      <td>15.4</td>\n",
       "      <td>1.1</td>\n",
       "      <td>0.7</td>\n",
       "    </tr>\n",
       "  </tbody>\n",
       "</table>\n",
       "</div>"
      ],
      "text/plain": [
       "                Player    Pos  Age   Tm   G    FG%  TRB  AST   PTS  STL  BLK\n",
       "545  Immanuel Quickley  PG-SG   24  TOT  68  0.434  3.8  4.9  17.0  0.7  0.1\n",
       "32      Paolo Banchero     PF   21  ORL  80  0.455  6.9  5.4  22.6  0.9  0.6\n",
       "253        Jalen Green     SG   21  HOU  82  0.423  5.2  3.5  19.6  0.8  0.3\n",
       "363         Kyle Kuzma     PF   28  WAS  70  0.463  6.6  4.2  22.2  0.5  0.7\n",
       "637         Cam Thomas     SG   22  BRK  66  0.442  3.2  2.9  22.5  0.7  0.2\n",
       "313     Brandon Ingram     SF   26  NOP  64  0.492  5.1  5.7  20.8  0.8  0.6\n",
       "316         Jaden Ivey     SG   21  DET  77  0.429  3.4  3.8  15.4  0.7  0.5\n",
       "268       James Harden     PG   34  LAC  72  0.428  5.1  8.5  16.6  1.1  0.8\n",
       "337     Keldon Johnson     SF   24  SAS  69  0.454  5.5  2.8  15.7  0.7  0.3\n",
       "508    Kelly Oubre Jr.     SF   28  PHI  68  0.441  5.0  1.5  15.4  1.1  0.7"
      ]
     },
     "execution_count": 11,
     "metadata": {},
     "output_type": "execute_result"
    }
   ],
   "source": [
    "nba_stats_df.sample(10)"
   ]
  },
  {
   "cell_type": "markdown",
   "metadata": {},
   "source": [
    "<div class=\"alert alert-info\">\n",
    "<h2> Student's comment</h2>\n",
    "\n",
    "I don't think all of the stats given were necassary, so I only kept ones that seemed relevant. \n",
    "</div>"
   ]
  },
  {
   "cell_type": "code",
   "execution_count": 12,
   "metadata": {},
   "outputs": [
    {
     "data": {
      "text/plain": [
       "Player    Bam AdebayoJarrett AllenGiannis AntetokounmpoP...\n",
       "Pos       CCPFPFSGSGPGSFSFSFPGPFPFPGPGCSFSGPGPFSGPGPFPGS...\n",
       "Age                                                    1860\n",
       "Tm        MIACLEMILORLTORATLPHOBRKCHOBOSNYKMIAUTADETGSWL...\n",
       "G                                                      5102\n",
       "FG%                                                  33.797\n",
       "TRB                                                   416.6\n",
       "AST                                                   330.3\n",
       "PTS                                                  1459.1\n",
       "STL                                                    70.6\n",
       "BLK                                                    48.8\n",
       "dtype: object"
      ]
     },
     "execution_count": 12,
     "metadata": {},
     "output_type": "execute_result"
    }
   ],
   "source": [
    "nba_stats_df.sum()"
   ]
  },
  {
   "cell_type": "code",
   "execution_count": 13,
   "metadata": {},
   "outputs": [
    {
     "data": {
      "text/html": [
       "<div>\n",
       "<style scoped>\n",
       "    .dataframe tbody tr th:only-of-type {\n",
       "        vertical-align: middle;\n",
       "    }\n",
       "\n",
       "    .dataframe tbody tr th {\n",
       "        vertical-align: top;\n",
       "    }\n",
       "\n",
       "    .dataframe thead th {\n",
       "        text-align: right;\n",
       "    }\n",
       "</style>\n",
       "<table border=\"1\" class=\"dataframe\">\n",
       "  <thead>\n",
       "    <tr style=\"text-align: right;\">\n",
       "      <th></th>\n",
       "      <th>Age</th>\n",
       "      <th>G</th>\n",
       "      <th>FG%</th>\n",
       "      <th>TRB</th>\n",
       "      <th>AST</th>\n",
       "      <th>PTS</th>\n",
       "      <th>STL</th>\n",
       "      <th>BLK</th>\n",
       "    </tr>\n",
       "  </thead>\n",
       "  <tbody>\n",
       "    <tr>\n",
       "      <th>count</th>\n",
       "      <td>70.000000</td>\n",
       "      <td>70.000000</td>\n",
       "      <td>70.000000</td>\n",
       "      <td>70.000000</td>\n",
       "      <td>70.000000</td>\n",
       "      <td>70.000000</td>\n",
       "      <td>70.000000</td>\n",
       "      <td>70.000000</td>\n",
       "    </tr>\n",
       "    <tr>\n",
       "      <th>mean</th>\n",
       "      <td>26.571429</td>\n",
       "      <td>72.885714</td>\n",
       "      <td>0.482814</td>\n",
       "      <td>5.951429</td>\n",
       "      <td>4.718571</td>\n",
       "      <td>20.844286</td>\n",
       "      <td>1.008571</td>\n",
       "      <td>0.697143</td>\n",
       "    </tr>\n",
       "    <tr>\n",
       "      <th>std</th>\n",
       "      <td>4.329111</td>\n",
       "      <td>5.829816</td>\n",
       "      <td>0.048147</td>\n",
       "      <td>2.583938</td>\n",
       "      <td>2.077505</td>\n",
       "      <td>4.295418</td>\n",
       "      <td>0.311491</td>\n",
       "      <td>0.563110</td>\n",
       "    </tr>\n",
       "    <tr>\n",
       "      <th>min</th>\n",
       "      <td>20.000000</td>\n",
       "      <td>60.000000</td>\n",
       "      <td>0.413000</td>\n",
       "      <td>2.600000</td>\n",
       "      <td>1.100000</td>\n",
       "      <td>15.100000</td>\n",
       "      <td>0.500000</td>\n",
       "      <td>0.100000</td>\n",
       "    </tr>\n",
       "    <tr>\n",
       "      <th>25%</th>\n",
       "      <td>23.000000</td>\n",
       "      <td>69.000000</td>\n",
       "      <td>0.447500</td>\n",
       "      <td>4.225000</td>\n",
       "      <td>3.300000</td>\n",
       "      <td>17.225000</td>\n",
       "      <td>0.800000</td>\n",
       "      <td>0.400000</td>\n",
       "    </tr>\n",
       "    <tr>\n",
       "      <th>50%</th>\n",
       "      <td>26.000000</td>\n",
       "      <td>73.000000</td>\n",
       "      <td>0.471500</td>\n",
       "      <td>5.250000</td>\n",
       "      <td>4.750000</td>\n",
       "      <td>19.950000</td>\n",
       "      <td>1.000000</td>\n",
       "      <td>0.550000</td>\n",
       "    </tr>\n",
       "    <tr>\n",
       "      <th>75%</th>\n",
       "      <td>29.000000</td>\n",
       "      <td>77.000000</td>\n",
       "      <td>0.516750</td>\n",
       "      <td>7.075000</td>\n",
       "      <td>5.675000</td>\n",
       "      <td>22.975000</td>\n",
       "      <td>1.200000</td>\n",
       "      <td>0.800000</td>\n",
       "    </tr>\n",
       "    <tr>\n",
       "      <th>max</th>\n",
       "      <td>39.000000</td>\n",
       "      <td>82.000000</td>\n",
       "      <td>0.634000</td>\n",
       "      <td>13.700000</td>\n",
       "      <td>10.900000</td>\n",
       "      <td>33.900000</td>\n",
       "      <td>2.000000</td>\n",
       "      <td>3.600000</td>\n",
       "    </tr>\n",
       "  </tbody>\n",
       "</table>\n",
       "</div>"
      ],
      "text/plain": [
       "             Age          G        FG%        TRB        AST        PTS  \\\n",
       "count  70.000000  70.000000  70.000000  70.000000  70.000000  70.000000   \n",
       "mean   26.571429  72.885714   0.482814   5.951429   4.718571  20.844286   \n",
       "std     4.329111   5.829816   0.048147   2.583938   2.077505   4.295418   \n",
       "min    20.000000  60.000000   0.413000   2.600000   1.100000  15.100000   \n",
       "25%    23.000000  69.000000   0.447500   4.225000   3.300000  17.225000   \n",
       "50%    26.000000  73.000000   0.471500   5.250000   4.750000  19.950000   \n",
       "75%    29.000000  77.000000   0.516750   7.075000   5.675000  22.975000   \n",
       "max    39.000000  82.000000   0.634000  13.700000  10.900000  33.900000   \n",
       "\n",
       "             STL        BLK  \n",
       "count  70.000000  70.000000  \n",
       "mean    1.008571   0.697143  \n",
       "std     0.311491   0.563110  \n",
       "min     0.500000   0.100000  \n",
       "25%     0.800000   0.400000  \n",
       "50%     1.000000   0.550000  \n",
       "75%     1.200000   0.800000  \n",
       "max     2.000000   3.600000  "
      ]
     },
     "execution_count": 13,
     "metadata": {},
     "output_type": "execute_result"
    }
   ],
   "source": [
    "nba_stats_df.describe()"
   ]
  },
  {
   "cell_type": "markdown",
   "metadata": {},
   "source": [
    "<div class=\"alert alert-info\">\n",
    "<h2> Student's comment</h2>\n",
    "\n",
    "The avg ppg for the group is only 20.8\n",
    "</div>"
   ]
  },
  {
   "cell_type": "code",
   "execution_count": 14,
   "metadata": {},
   "outputs": [
    {
     "data": {
      "text/html": [
       "<div>\n",
       "<style scoped>\n",
       "    .dataframe tbody tr th:only-of-type {\n",
       "        vertical-align: middle;\n",
       "    }\n",
       "\n",
       "    .dataframe tbody tr th {\n",
       "        vertical-align: top;\n",
       "    }\n",
       "\n",
       "    .dataframe thead th {\n",
       "        text-align: right;\n",
       "    }\n",
       "</style>\n",
       "<table border=\"1\" class=\"dataframe\">\n",
       "  <thead>\n",
       "    <tr style=\"text-align: right;\">\n",
       "      <th></th>\n",
       "      <th>index</th>\n",
       "      <th>Player</th>\n",
       "      <th>Pos</th>\n",
       "      <th>Age</th>\n",
       "      <th>Tm</th>\n",
       "      <th>G</th>\n",
       "      <th>FG%</th>\n",
       "      <th>TRB</th>\n",
       "      <th>AST</th>\n",
       "      <th>PTS</th>\n",
       "      <th>STL</th>\n",
       "      <th>BLK</th>\n",
       "    </tr>\n",
       "  </thead>\n",
       "  <tbody>\n",
       "    <tr>\n",
       "      <th>0</th>\n",
       "      <td>3</td>\n",
       "      <td>Bam Adebayo</td>\n",
       "      <td>C</td>\n",
       "      <td>26</td>\n",
       "      <td>MIA</td>\n",
       "      <td>71</td>\n",
       "      <td>0.521</td>\n",
       "      <td>10.4</td>\n",
       "      <td>3.9</td>\n",
       "      <td>19.3</td>\n",
       "      <td>1.1</td>\n",
       "      <td>0.9</td>\n",
       "    </tr>\n",
       "    <tr>\n",
       "      <th>1</th>\n",
       "      <td>10</td>\n",
       "      <td>Jarrett Allen</td>\n",
       "      <td>C</td>\n",
       "      <td>25</td>\n",
       "      <td>CLE</td>\n",
       "      <td>77</td>\n",
       "      <td>0.634</td>\n",
       "      <td>10.5</td>\n",
       "      <td>2.7</td>\n",
       "      <td>16.5</td>\n",
       "      <td>0.7</td>\n",
       "      <td>1.1</td>\n",
       "    </tr>\n",
       "    <tr>\n",
       "      <th>2</th>\n",
       "      <td>14</td>\n",
       "      <td>Giannis Antetokounmpo</td>\n",
       "      <td>PF</td>\n",
       "      <td>29</td>\n",
       "      <td>MIL</td>\n",
       "      <td>73</td>\n",
       "      <td>0.611</td>\n",
       "      <td>11.5</td>\n",
       "      <td>6.5</td>\n",
       "      <td>30.4</td>\n",
       "      <td>1.2</td>\n",
       "      <td>1.1</td>\n",
       "    </tr>\n",
       "    <tr>\n",
       "      <th>3</th>\n",
       "      <td>32</td>\n",
       "      <td>Paolo Banchero</td>\n",
       "      <td>PF</td>\n",
       "      <td>21</td>\n",
       "      <td>ORL</td>\n",
       "      <td>80</td>\n",
       "      <td>0.455</td>\n",
       "      <td>6.9</td>\n",
       "      <td>5.4</td>\n",
       "      <td>22.6</td>\n",
       "      <td>0.9</td>\n",
       "      <td>0.6</td>\n",
       "    </tr>\n",
       "    <tr>\n",
       "      <th>4</th>\n",
       "      <td>39</td>\n",
       "      <td>Scottie Barnes</td>\n",
       "      <td>SG</td>\n",
       "      <td>22</td>\n",
       "      <td>TOR</td>\n",
       "      <td>60</td>\n",
       "      <td>0.475</td>\n",
       "      <td>8.2</td>\n",
       "      <td>6.1</td>\n",
       "      <td>19.9</td>\n",
       "      <td>1.3</td>\n",
       "      <td>1.5</td>\n",
       "    </tr>\n",
       "    <tr>\n",
       "      <th>...</th>\n",
       "      <td>...</td>\n",
       "      <td>...</td>\n",
       "      <td>...</td>\n",
       "      <td>...</td>\n",
       "      <td>...</td>\n",
       "      <td>...</td>\n",
       "      <td>...</td>\n",
       "      <td>...</td>\n",
       "      <td>...</td>\n",
       "      <td>...</td>\n",
       "      <td>...</td>\n",
       "      <td>...</td>\n",
       "    </tr>\n",
       "    <tr>\n",
       "      <th>65</th>\n",
       "      <td>690</td>\n",
       "      <td>Victor Wembanyama</td>\n",
       "      <td>C</td>\n",
       "      <td>20</td>\n",
       "      <td>SAS</td>\n",
       "      <td>71</td>\n",
       "      <td>0.465</td>\n",
       "      <td>10.6</td>\n",
       "      <td>3.9</td>\n",
       "      <td>21.4</td>\n",
       "      <td>1.2</td>\n",
       "      <td>3.6</td>\n",
       "    </tr>\n",
       "    <tr>\n",
       "      <th>66</th>\n",
       "      <td>693</td>\n",
       "      <td>Coby White</td>\n",
       "      <td>PG</td>\n",
       "      <td>23</td>\n",
       "      <td>CHI</td>\n",
       "      <td>79</td>\n",
       "      <td>0.447</td>\n",
       "      <td>4.5</td>\n",
       "      <td>5.1</td>\n",
       "      <td>19.1</td>\n",
       "      <td>0.7</td>\n",
       "      <td>0.2</td>\n",
       "    </tr>\n",
       "    <tr>\n",
       "      <th>67</th>\n",
       "      <td>694</td>\n",
       "      <td>Derrick White</td>\n",
       "      <td>SG</td>\n",
       "      <td>29</td>\n",
       "      <td>BOS</td>\n",
       "      <td>73</td>\n",
       "      <td>0.461</td>\n",
       "      <td>4.2</td>\n",
       "      <td>5.2</td>\n",
       "      <td>15.2</td>\n",
       "      <td>1.0</td>\n",
       "      <td>1.2</td>\n",
       "    </tr>\n",
       "    <tr>\n",
       "      <th>68</th>\n",
       "      <td>705</td>\n",
       "      <td>Jalen Williams</td>\n",
       "      <td>PF</td>\n",
       "      <td>22</td>\n",
       "      <td>OKC</td>\n",
       "      <td>71</td>\n",
       "      <td>0.540</td>\n",
       "      <td>4.0</td>\n",
       "      <td>4.5</td>\n",
       "      <td>19.1</td>\n",
       "      <td>1.1</td>\n",
       "      <td>0.6</td>\n",
       "    </tr>\n",
       "    <tr>\n",
       "      <th>69</th>\n",
       "      <td>715</td>\n",
       "      <td>Zion Williamson</td>\n",
       "      <td>PF</td>\n",
       "      <td>23</td>\n",
       "      <td>NOP</td>\n",
       "      <td>70</td>\n",
       "      <td>0.570</td>\n",
       "      <td>5.8</td>\n",
       "      <td>5.0</td>\n",
       "      <td>22.9</td>\n",
       "      <td>1.1</td>\n",
       "      <td>0.7</td>\n",
       "    </tr>\n",
       "  </tbody>\n",
       "</table>\n",
       "<p>70 rows × 12 columns</p>\n",
       "</div>"
      ],
      "text/plain": [
       "    index                 Player Pos  Age   Tm   G    FG%   TRB  AST   PTS  \\\n",
       "0       3            Bam Adebayo   C   26  MIA  71  0.521  10.4  3.9  19.3   \n",
       "1      10          Jarrett Allen   C   25  CLE  77  0.634  10.5  2.7  16.5   \n",
       "2      14  Giannis Antetokounmpo  PF   29  MIL  73  0.611  11.5  6.5  30.4   \n",
       "3      32         Paolo Banchero  PF   21  ORL  80  0.455   6.9  5.4  22.6   \n",
       "4      39         Scottie Barnes  SG   22  TOR  60  0.475   8.2  6.1  19.9   \n",
       "..    ...                    ...  ..  ...  ...  ..    ...   ...  ...   ...   \n",
       "65    690      Victor Wembanyama   C   20  SAS  71  0.465  10.6  3.9  21.4   \n",
       "66    693             Coby White  PG   23  CHI  79  0.447   4.5  5.1  19.1   \n",
       "67    694          Derrick White  SG   29  BOS  73  0.461   4.2  5.2  15.2   \n",
       "68    705         Jalen Williams  PF   22  OKC  71  0.540   4.0  4.5  19.1   \n",
       "69    715        Zion Williamson  PF   23  NOP  70  0.570   5.8  5.0  22.9   \n",
       "\n",
       "    STL  BLK  \n",
       "0   1.1  0.9  \n",
       "1   0.7  1.1  \n",
       "2   1.2  1.1  \n",
       "3   0.9  0.6  \n",
       "4   1.3  1.5  \n",
       "..  ...  ...  \n",
       "65  1.2  3.6  \n",
       "66  0.7  0.2  \n",
       "67  1.0  1.2  \n",
       "68  1.1  0.6  \n",
       "69  1.1  0.7  \n",
       "\n",
       "[70 rows x 12 columns]"
      ]
     },
     "execution_count": 14,
     "metadata": {},
     "output_type": "execute_result"
    }
   ],
   "source": [
    "nba_stats_df.reset_index()"
   ]
  },
  {
   "cell_type": "code",
   "execution_count": 15,
   "metadata": {},
   "outputs": [],
   "source": [
    "ppg_df = nba_stats_df.sort_values(by='PTS', ascending=False)"
   ]
  },
  {
   "cell_type": "code",
   "execution_count": 16,
   "metadata": {},
   "outputs": [
    {
     "data": {
      "text/html": [
       "<div>\n",
       "<style scoped>\n",
       "    .dataframe tbody tr th:only-of-type {\n",
       "        vertical-align: middle;\n",
       "    }\n",
       "\n",
       "    .dataframe tbody tr th {\n",
       "        vertical-align: top;\n",
       "    }\n",
       "\n",
       "    .dataframe thead th {\n",
       "        text-align: right;\n",
       "    }\n",
       "</style>\n",
       "<table border=\"1\" class=\"dataframe\">\n",
       "  <thead>\n",
       "    <tr style=\"text-align: right;\">\n",
       "      <th></th>\n",
       "      <th>index</th>\n",
       "      <th>Player</th>\n",
       "      <th>Pos</th>\n",
       "      <th>Age</th>\n",
       "      <th>Tm</th>\n",
       "      <th>G</th>\n",
       "      <th>FG%</th>\n",
       "      <th>TRB</th>\n",
       "      <th>AST</th>\n",
       "      <th>PTS</th>\n",
       "      <th>STL</th>\n",
       "      <th>BLK</th>\n",
       "    </tr>\n",
       "  </thead>\n",
       "  <tbody>\n",
       "    <tr>\n",
       "      <th>0</th>\n",
       "      <td>171</td>\n",
       "      <td>Luka Don?i?</td>\n",
       "      <td>PG</td>\n",
       "      <td>24</td>\n",
       "      <td>DAL</td>\n",
       "      <td>70</td>\n",
       "      <td>0.487</td>\n",
       "      <td>9.2</td>\n",
       "      <td>9.8</td>\n",
       "      <td>33.9</td>\n",
       "      <td>1.4</td>\n",
       "      <td>0.5</td>\n",
       "    </tr>\n",
       "    <tr>\n",
       "      <th>1</th>\n",
       "      <td>14</td>\n",
       "      <td>Giannis Antetokounmpo</td>\n",
       "      <td>PF</td>\n",
       "      <td>29</td>\n",
       "      <td>MIL</td>\n",
       "      <td>73</td>\n",
       "      <td>0.611</td>\n",
       "      <td>11.5</td>\n",
       "      <td>6.5</td>\n",
       "      <td>30.4</td>\n",
       "      <td>1.2</td>\n",
       "      <td>1.1</td>\n",
       "    </tr>\n",
       "    <tr>\n",
       "      <th>2</th>\n",
       "      <td>235</td>\n",
       "      <td>Shai Gilgeous-Alexander</td>\n",
       "      <td>PG</td>\n",
       "      <td>25</td>\n",
       "      <td>OKC</td>\n",
       "      <td>75</td>\n",
       "      <td>0.535</td>\n",
       "      <td>5.5</td>\n",
       "      <td>6.2</td>\n",
       "      <td>30.1</td>\n",
       "      <td>2.0</td>\n",
       "      <td>0.9</td>\n",
       "    </tr>\n",
       "    <tr>\n",
       "      <th>3</th>\n",
       "      <td>109</td>\n",
       "      <td>Jalen Brunson</td>\n",
       "      <td>PG</td>\n",
       "      <td>27</td>\n",
       "      <td>NYK</td>\n",
       "      <td>77</td>\n",
       "      <td>0.479</td>\n",
       "      <td>3.6</td>\n",
       "      <td>6.7</td>\n",
       "      <td>28.7</td>\n",
       "      <td>0.9</td>\n",
       "      <td>0.2</td>\n",
       "    </tr>\n",
       "    <tr>\n",
       "      <th>4</th>\n",
       "      <td>180</td>\n",
       "      <td>Kevin Durant</td>\n",
       "      <td>PF</td>\n",
       "      <td>35</td>\n",
       "      <td>PHO</td>\n",
       "      <td>75</td>\n",
       "      <td>0.523</td>\n",
       "      <td>6.6</td>\n",
       "      <td>5.0</td>\n",
       "      <td>27.1</td>\n",
       "      <td>0.9</td>\n",
       "      <td>1.2</td>\n",
       "    </tr>\n",
       "    <tr>\n",
       "      <th>...</th>\n",
       "      <td>...</td>\n",
       "      <td>...</td>\n",
       "      <td>...</td>\n",
       "      <td>...</td>\n",
       "      <td>...</td>\n",
       "      <td>...</td>\n",
       "      <td>...</td>\n",
       "      <td>...</td>\n",
       "      <td>...</td>\n",
       "      <td>...</td>\n",
       "      <td>...</td>\n",
       "      <td>...</td>\n",
       "    </tr>\n",
       "    <tr>\n",
       "      <th>65</th>\n",
       "      <td>508</td>\n",
       "      <td>Kelly Oubre Jr.</td>\n",
       "      <td>SF</td>\n",
       "      <td>28</td>\n",
       "      <td>PHI</td>\n",
       "      <td>68</td>\n",
       "      <td>0.441</td>\n",
       "      <td>5.0</td>\n",
       "      <td>1.5</td>\n",
       "      <td>15.4</td>\n",
       "      <td>1.1</td>\n",
       "      <td>0.7</td>\n",
       "    </tr>\n",
       "    <tr>\n",
       "      <th>66</th>\n",
       "      <td>457</td>\n",
       "      <td>Malik Monk</td>\n",
       "      <td>SG</td>\n",
       "      <td>25</td>\n",
       "      <td>SAC</td>\n",
       "      <td>72</td>\n",
       "      <td>0.443</td>\n",
       "      <td>2.9</td>\n",
       "      <td>5.1</td>\n",
       "      <td>15.4</td>\n",
       "      <td>0.6</td>\n",
       "      <td>0.5</td>\n",
       "    </tr>\n",
       "    <tr>\n",
       "      <th>67</th>\n",
       "      <td>473</td>\n",
       "      <td>Keegan Murray</td>\n",
       "      <td>SF</td>\n",
       "      <td>23</td>\n",
       "      <td>SAC</td>\n",
       "      <td>77</td>\n",
       "      <td>0.454</td>\n",
       "      <td>5.5</td>\n",
       "      <td>1.7</td>\n",
       "      <td>15.2</td>\n",
       "      <td>1.0</td>\n",
       "      <td>0.8</td>\n",
       "    </tr>\n",
       "    <tr>\n",
       "      <th>68</th>\n",
       "      <td>694</td>\n",
       "      <td>Derrick White</td>\n",
       "      <td>SG</td>\n",
       "      <td>29</td>\n",
       "      <td>BOS</td>\n",
       "      <td>73</td>\n",
       "      <td>0.461</td>\n",
       "      <td>4.2</td>\n",
       "      <td>5.2</td>\n",
       "      <td>15.2</td>\n",
       "      <td>1.0</td>\n",
       "      <td>1.2</td>\n",
       "    </tr>\n",
       "    <tr>\n",
       "      <th>69</th>\n",
       "      <td>137</td>\n",
       "      <td>John Collins</td>\n",
       "      <td>PF</td>\n",
       "      <td>26</td>\n",
       "      <td>UTA</td>\n",
       "      <td>68</td>\n",
       "      <td>0.532</td>\n",
       "      <td>8.5</td>\n",
       "      <td>1.1</td>\n",
       "      <td>15.1</td>\n",
       "      <td>0.6</td>\n",
       "      <td>0.9</td>\n",
       "    </tr>\n",
       "  </tbody>\n",
       "</table>\n",
       "<p>70 rows × 12 columns</p>\n",
       "</div>"
      ],
      "text/plain": [
       "    index                   Player Pos  Age   Tm   G    FG%   TRB  AST   PTS  \\\n",
       "0     171              Luka Don?i?  PG   24  DAL  70  0.487   9.2  9.8  33.9   \n",
       "1      14    Giannis Antetokounmpo  PF   29  MIL  73  0.611  11.5  6.5  30.4   \n",
       "2     235  Shai Gilgeous-Alexander  PG   25  OKC  75  0.535   5.5  6.2  30.1   \n",
       "3     109            Jalen Brunson  PG   27  NYK  77  0.479   3.6  6.7  28.7   \n",
       "4     180             Kevin Durant  PF   35  PHO  75  0.523   6.6  5.0  27.1   \n",
       "..    ...                      ...  ..  ...  ...  ..    ...   ...  ...   ...   \n",
       "65    508          Kelly Oubre Jr.  SF   28  PHI  68  0.441   5.0  1.5  15.4   \n",
       "66    457               Malik Monk  SG   25  SAC  72  0.443   2.9  5.1  15.4   \n",
       "67    473            Keegan Murray  SF   23  SAC  77  0.454   5.5  1.7  15.2   \n",
       "68    694            Derrick White  SG   29  BOS  73  0.461   4.2  5.2  15.2   \n",
       "69    137             John Collins  PF   26  UTA  68  0.532   8.5  1.1  15.1   \n",
       "\n",
       "    STL  BLK  \n",
       "0   1.4  0.5  \n",
       "1   1.2  1.1  \n",
       "2   2.0  0.9  \n",
       "3   0.9  0.2  \n",
       "4   0.9  1.2  \n",
       "..  ...  ...  \n",
       "65  1.1  0.7  \n",
       "66  0.6  0.5  \n",
       "67  1.0  0.8  \n",
       "68  1.0  1.2  \n",
       "69  0.6  0.9  \n",
       "\n",
       "[70 rows x 12 columns]"
      ]
     },
     "execution_count": 16,
     "metadata": {},
     "output_type": "execute_result"
    }
   ],
   "source": [
    "ppg_df.reset_index()"
   ]
  },
  {
   "cell_type": "markdown",
   "metadata": {},
   "source": [
    "<div class=\"alert alert-info\">\n",
    "<h2> Student's comment</h2>\n",
    "\n",
    "Sorted group by ppg. \"Points per game\"\n",
    "</div>"
   ]
  },
  {
   "cell_type": "code",
   "execution_count": 17,
   "metadata": {},
   "outputs": [],
   "source": [
    "nba_stats_df.to_csv('nba_player_stats.csv', index=False)"
   ]
  },
  {
   "cell_type": "code",
   "execution_count": 18,
   "metadata": {},
   "outputs": [
    {
     "data": {
      "text/html": [
       "<div>\n",
       "<style scoped>\n",
       "    .dataframe tbody tr th:only-of-type {\n",
       "        vertical-align: middle;\n",
       "    }\n",
       "\n",
       "    .dataframe tbody tr th {\n",
       "        vertical-align: top;\n",
       "    }\n",
       "\n",
       "    .dataframe thead th {\n",
       "        text-align: right;\n",
       "    }\n",
       "</style>\n",
       "<table border=\"1\" class=\"dataframe\">\n",
       "  <thead>\n",
       "    <tr style=\"text-align: right;\">\n",
       "      <th></th>\n",
       "      <th>Player</th>\n",
       "      <th>Pos</th>\n",
       "      <th>Age</th>\n",
       "      <th>Tm</th>\n",
       "      <th>G</th>\n",
       "      <th>FG%</th>\n",
       "      <th>TRB</th>\n",
       "      <th>AST</th>\n",
       "      <th>PTS</th>\n",
       "      <th>STL</th>\n",
       "      <th>BLK</th>\n",
       "    </tr>\n",
       "  </thead>\n",
       "  <tbody>\n",
       "    <tr>\n",
       "      <th>170</th>\n",
       "      <td>Donte DiVincenzo</td>\n",
       "      <td>SG</td>\n",
       "      <td>27</td>\n",
       "      <td>NYK</td>\n",
       "      <td>81</td>\n",
       "      <td>0.443</td>\n",
       "      <td>3.7</td>\n",
       "      <td>2.7</td>\n",
       "      <td>15.5</td>\n",
       "      <td>1.3</td>\n",
       "      <td>0.4</td>\n",
       "    </tr>\n",
       "    <tr>\n",
       "      <th>362</th>\n",
       "      <td>Jonathan Kuminga</td>\n",
       "      <td>PF</td>\n",
       "      <td>21</td>\n",
       "      <td>GSW</td>\n",
       "      <td>74</td>\n",
       "      <td>0.529</td>\n",
       "      <td>4.8</td>\n",
       "      <td>2.2</td>\n",
       "      <td>16.1</td>\n",
       "      <td>0.7</td>\n",
       "      <td>0.5</td>\n",
       "    </tr>\n",
       "    <tr>\n",
       "      <th>630</th>\n",
       "      <td>Jayson Tatum</td>\n",
       "      <td>PF</td>\n",
       "      <td>25</td>\n",
       "      <td>BOS</td>\n",
       "      <td>74</td>\n",
       "      <td>0.471</td>\n",
       "      <td>8.1</td>\n",
       "      <td>4.9</td>\n",
       "      <td>26.9</td>\n",
       "      <td>1.0</td>\n",
       "      <td>0.6</td>\n",
       "    </tr>\n",
       "    <tr>\n",
       "      <th>3</th>\n",
       "      <td>Bam Adebayo</td>\n",
       "      <td>C</td>\n",
       "      <td>26</td>\n",
       "      <td>MIA</td>\n",
       "      <td>71</td>\n",
       "      <td>0.521</td>\n",
       "      <td>10.4</td>\n",
       "      <td>3.9</td>\n",
       "      <td>19.3</td>\n",
       "      <td>1.1</td>\n",
       "      <td>0.9</td>\n",
       "    </tr>\n",
       "    <tr>\n",
       "      <th>10</th>\n",
       "      <td>Jarrett Allen</td>\n",
       "      <td>C</td>\n",
       "      <td>25</td>\n",
       "      <td>CLE</td>\n",
       "      <td>77</td>\n",
       "      <td>0.634</td>\n",
       "      <td>10.5</td>\n",
       "      <td>2.7</td>\n",
       "      <td>16.5</td>\n",
       "      <td>0.7</td>\n",
       "      <td>1.1</td>\n",
       "    </tr>\n",
       "    <tr>\n",
       "      <th>235</th>\n",
       "      <td>Shai Gilgeous-Alexander</td>\n",
       "      <td>PG</td>\n",
       "      <td>25</td>\n",
       "      <td>OKC</td>\n",
       "      <td>75</td>\n",
       "      <td>0.535</td>\n",
       "      <td>5.5</td>\n",
       "      <td>6.2</td>\n",
       "      <td>30.1</td>\n",
       "      <td>2.0</td>\n",
       "      <td>0.9</td>\n",
       "    </tr>\n",
       "    <tr>\n",
       "      <th>117</th>\n",
       "      <td>Jimmy Butler</td>\n",
       "      <td>PF</td>\n",
       "      <td>34</td>\n",
       "      <td>MIA</td>\n",
       "      <td>60</td>\n",
       "      <td>0.499</td>\n",
       "      <td>5.3</td>\n",
       "      <td>5.0</td>\n",
       "      <td>20.8</td>\n",
       "      <td>1.3</td>\n",
       "      <td>0.3</td>\n",
       "    </tr>\n",
       "    <tr>\n",
       "      <th>666</th>\n",
       "      <td>Nikola Vu?evi?</td>\n",
       "      <td>C</td>\n",
       "      <td>33</td>\n",
       "      <td>CHI</td>\n",
       "      <td>76</td>\n",
       "      <td>0.484</td>\n",
       "      <td>10.5</td>\n",
       "      <td>3.3</td>\n",
       "      <td>18.0</td>\n",
       "      <td>0.7</td>\n",
       "      <td>0.8</td>\n",
       "    </tr>\n",
       "    <tr>\n",
       "      <th>137</th>\n",
       "      <td>John Collins</td>\n",
       "      <td>PF</td>\n",
       "      <td>26</td>\n",
       "      <td>UTA</td>\n",
       "      <td>68</td>\n",
       "      <td>0.532</td>\n",
       "      <td>8.5</td>\n",
       "      <td>1.1</td>\n",
       "      <td>15.1</td>\n",
       "      <td>0.6</td>\n",
       "      <td>0.9</td>\n",
       "    </tr>\n",
       "    <tr>\n",
       "      <th>274</th>\n",
       "      <td>Tobias Harris</td>\n",
       "      <td>PF</td>\n",
       "      <td>31</td>\n",
       "      <td>PHI</td>\n",
       "      <td>70</td>\n",
       "      <td>0.487</td>\n",
       "      <td>6.5</td>\n",
       "      <td>3.1</td>\n",
       "      <td>17.2</td>\n",
       "      <td>1.0</td>\n",
       "      <td>0.7</td>\n",
       "    </tr>\n",
       "    <tr>\n",
       "      <th>693</th>\n",
       "      <td>Coby White</td>\n",
       "      <td>PG</td>\n",
       "      <td>23</td>\n",
       "      <td>CHI</td>\n",
       "      <td>79</td>\n",
       "      <td>0.447</td>\n",
       "      <td>4.5</td>\n",
       "      <td>5.1</td>\n",
       "      <td>19.1</td>\n",
       "      <td>0.7</td>\n",
       "      <td>0.2</td>\n",
       "    </tr>\n",
       "    <tr>\n",
       "      <th>508</th>\n",
       "      <td>Kelly Oubre Jr.</td>\n",
       "      <td>SF</td>\n",
       "      <td>28</td>\n",
       "      <td>PHI</td>\n",
       "      <td>68</td>\n",
       "      <td>0.441</td>\n",
       "      <td>5.0</td>\n",
       "      <td>1.5</td>\n",
       "      <td>15.4</td>\n",
       "      <td>1.1</td>\n",
       "      <td>0.7</td>\n",
       "    </tr>\n",
       "    <tr>\n",
       "      <th>590</th>\n",
       "      <td>Alperen Sengun</td>\n",
       "      <td>C</td>\n",
       "      <td>21</td>\n",
       "      <td>HOU</td>\n",
       "      <td>63</td>\n",
       "      <td>0.537</td>\n",
       "      <td>9.3</td>\n",
       "      <td>5.0</td>\n",
       "      <td>21.1</td>\n",
       "      <td>1.2</td>\n",
       "      <td>0.7</td>\n",
       "    </tr>\n",
       "    <tr>\n",
       "      <th>14</th>\n",
       "      <td>Giannis Antetokounmpo</td>\n",
       "      <td>PF</td>\n",
       "      <td>29</td>\n",
       "      <td>MIL</td>\n",
       "      <td>73</td>\n",
       "      <td>0.611</td>\n",
       "      <td>11.5</td>\n",
       "      <td>6.5</td>\n",
       "      <td>30.4</td>\n",
       "      <td>1.2</td>\n",
       "      <td>1.1</td>\n",
       "    </tr>\n",
       "    <tr>\n",
       "      <th>73</th>\n",
       "      <td>Bogdan Bogdanovi?</td>\n",
       "      <td>SG</td>\n",
       "      <td>31</td>\n",
       "      <td>ATL</td>\n",
       "      <td>79</td>\n",
       "      <td>0.428</td>\n",
       "      <td>3.4</td>\n",
       "      <td>3.1</td>\n",
       "      <td>16.9</td>\n",
       "      <td>1.2</td>\n",
       "      <td>0.3</td>\n",
       "    </tr>\n",
       "    <tr>\n",
       "      <th>340</th>\n",
       "      <td>Nikola Joki?</td>\n",
       "      <td>C</td>\n",
       "      <td>28</td>\n",
       "      <td>DEN</td>\n",
       "      <td>79</td>\n",
       "      <td>0.583</td>\n",
       "      <td>12.4</td>\n",
       "      <td>9.0</td>\n",
       "      <td>26.4</td>\n",
       "      <td>1.4</td>\n",
       "      <td>0.9</td>\n",
       "    </tr>\n",
       "    <tr>\n",
       "      <th>471</th>\n",
       "      <td>Dejounte Murray</td>\n",
       "      <td>SG</td>\n",
       "      <td>27</td>\n",
       "      <td>ATL</td>\n",
       "      <td>78</td>\n",
       "      <td>0.459</td>\n",
       "      <td>5.3</td>\n",
       "      <td>6.4</td>\n",
       "      <td>22.5</td>\n",
       "      <td>1.4</td>\n",
       "      <td>0.3</td>\n",
       "    </tr>\n",
       "    <tr>\n",
       "      <th>597</th>\n",
       "      <td>Pascal Siakam</td>\n",
       "      <td>PF</td>\n",
       "      <td>29</td>\n",
       "      <td>TOT</td>\n",
       "      <td>80</td>\n",
       "      <td>0.536</td>\n",
       "      <td>7.1</td>\n",
       "      <td>4.3</td>\n",
       "      <td>21.7</td>\n",
       "      <td>0.8</td>\n",
       "      <td>0.3</td>\n",
       "    </tr>\n",
       "    <tr>\n",
       "      <th>440</th>\n",
       "      <td>Brandon Miller</td>\n",
       "      <td>SF</td>\n",
       "      <td>21</td>\n",
       "      <td>CHO</td>\n",
       "      <td>74</td>\n",
       "      <td>0.440</td>\n",
       "      <td>4.3</td>\n",
       "      <td>2.4</td>\n",
       "      <td>17.3</td>\n",
       "      <td>0.9</td>\n",
       "      <td>0.6</td>\n",
       "    </tr>\n",
       "    <tr>\n",
       "      <th>159</th>\n",
       "      <td>DeMar DeRozan</td>\n",
       "      <td>SF</td>\n",
       "      <td>34</td>\n",
       "      <td>CHI</td>\n",
       "      <td>79</td>\n",
       "      <td>0.480</td>\n",
       "      <td>4.3</td>\n",
       "      <td>5.3</td>\n",
       "      <td>24.0</td>\n",
       "      <td>1.1</td>\n",
       "      <td>0.6</td>\n",
       "    </tr>\n",
       "  </tbody>\n",
       "</table>\n",
       "</div>"
      ],
      "text/plain": [
       "                      Player Pos  Age   Tm   G    FG%   TRB  AST   PTS  STL  \\\n",
       "170         Donte DiVincenzo  SG   27  NYK  81  0.443   3.7  2.7  15.5  1.3   \n",
       "362         Jonathan Kuminga  PF   21  GSW  74  0.529   4.8  2.2  16.1  0.7   \n",
       "630             Jayson Tatum  PF   25  BOS  74  0.471   8.1  4.9  26.9  1.0   \n",
       "3                Bam Adebayo   C   26  MIA  71  0.521  10.4  3.9  19.3  1.1   \n",
       "10             Jarrett Allen   C   25  CLE  77  0.634  10.5  2.7  16.5  0.7   \n",
       "235  Shai Gilgeous-Alexander  PG   25  OKC  75  0.535   5.5  6.2  30.1  2.0   \n",
       "117             Jimmy Butler  PF   34  MIA  60  0.499   5.3  5.0  20.8  1.3   \n",
       "666           Nikola Vu?evi?   C   33  CHI  76  0.484  10.5  3.3  18.0  0.7   \n",
       "137             John Collins  PF   26  UTA  68  0.532   8.5  1.1  15.1  0.6   \n",
       "274            Tobias Harris  PF   31  PHI  70  0.487   6.5  3.1  17.2  1.0   \n",
       "693               Coby White  PG   23  CHI  79  0.447   4.5  5.1  19.1  0.7   \n",
       "508          Kelly Oubre Jr.  SF   28  PHI  68  0.441   5.0  1.5  15.4  1.1   \n",
       "590           Alperen Sengun   C   21  HOU  63  0.537   9.3  5.0  21.1  1.2   \n",
       "14     Giannis Antetokounmpo  PF   29  MIL  73  0.611  11.5  6.5  30.4  1.2   \n",
       "73         Bogdan Bogdanovi?  SG   31  ATL  79  0.428   3.4  3.1  16.9  1.2   \n",
       "340             Nikola Joki?   C   28  DEN  79  0.583  12.4  9.0  26.4  1.4   \n",
       "471          Dejounte Murray  SG   27  ATL  78  0.459   5.3  6.4  22.5  1.4   \n",
       "597            Pascal Siakam  PF   29  TOT  80  0.536   7.1  4.3  21.7  0.8   \n",
       "440           Brandon Miller  SF   21  CHO  74  0.440   4.3  2.4  17.3  0.9   \n",
       "159            DeMar DeRozan  SF   34  CHI  79  0.480   4.3  5.3  24.0  1.1   \n",
       "\n",
       "     BLK  \n",
       "170  0.4  \n",
       "362  0.5  \n",
       "630  0.6  \n",
       "3    0.9  \n",
       "10   1.1  \n",
       "235  0.9  \n",
       "117  0.3  \n",
       "666  0.8  \n",
       "137  0.9  \n",
       "274  0.7  \n",
       "693  0.2  \n",
       "508  0.7  \n",
       "590  0.7  \n",
       "14   1.1  \n",
       "73   0.3  \n",
       "340  0.9  \n",
       "471  0.3  \n",
       "597  0.3  \n",
       "440  0.6  \n",
       "159  0.6  "
      ]
     },
     "execution_count": 18,
     "metadata": {},
     "output_type": "execute_result"
    }
   ],
   "source": [
    "nba_stats_df.sample(20)"
   ]
  },
  {
   "cell_type": "code",
   "execution_count": 19,
   "metadata": {},
   "outputs": [],
   "source": [
    "ppg_df.to_csv('nba_player_stats.csv', index=False)"
   ]
  },
  {
   "cell_type": "code",
   "execution_count": 20,
   "metadata": {},
   "outputs": [
    {
     "data": {
      "text/html": [
       "<div>\n",
       "<style scoped>\n",
       "    .dataframe tbody tr th:only-of-type {\n",
       "        vertical-align: middle;\n",
       "    }\n",
       "\n",
       "    .dataframe tbody tr th {\n",
       "        vertical-align: top;\n",
       "    }\n",
       "\n",
       "    .dataframe thead th {\n",
       "        text-align: right;\n",
       "    }\n",
       "</style>\n",
       "<table border=\"1\" class=\"dataframe\">\n",
       "  <thead>\n",
       "    <tr style=\"text-align: right;\">\n",
       "      <th></th>\n",
       "      <th>index</th>\n",
       "      <th>Player</th>\n",
       "      <th>Pos</th>\n",
       "      <th>Age</th>\n",
       "      <th>Tm</th>\n",
       "      <th>G</th>\n",
       "      <th>FG%</th>\n",
       "      <th>TRB</th>\n",
       "      <th>AST</th>\n",
       "      <th>PTS</th>\n",
       "      <th>STL</th>\n",
       "      <th>BLK</th>\n",
       "    </tr>\n",
       "  </thead>\n",
       "  <tbody>\n",
       "    <tr>\n",
       "      <th>0</th>\n",
       "      <td>171</td>\n",
       "      <td>Luka Don?i?</td>\n",
       "      <td>PG</td>\n",
       "      <td>24</td>\n",
       "      <td>DAL</td>\n",
       "      <td>70</td>\n",
       "      <td>0.487</td>\n",
       "      <td>9.2</td>\n",
       "      <td>9.8</td>\n",
       "      <td>33.9</td>\n",
       "      <td>1.4</td>\n",
       "      <td>0.5</td>\n",
       "    </tr>\n",
       "    <tr>\n",
       "      <th>1</th>\n",
       "      <td>14</td>\n",
       "      <td>Giannis Antetokounmpo</td>\n",
       "      <td>PF</td>\n",
       "      <td>29</td>\n",
       "      <td>MIL</td>\n",
       "      <td>73</td>\n",
       "      <td>0.611</td>\n",
       "      <td>11.5</td>\n",
       "      <td>6.5</td>\n",
       "      <td>30.4</td>\n",
       "      <td>1.2</td>\n",
       "      <td>1.1</td>\n",
       "    </tr>\n",
       "    <tr>\n",
       "      <th>2</th>\n",
       "      <td>235</td>\n",
       "      <td>Shai Gilgeous-Alexander</td>\n",
       "      <td>PG</td>\n",
       "      <td>25</td>\n",
       "      <td>OKC</td>\n",
       "      <td>75</td>\n",
       "      <td>0.535</td>\n",
       "      <td>5.5</td>\n",
       "      <td>6.2</td>\n",
       "      <td>30.1</td>\n",
       "      <td>2.0</td>\n",
       "      <td>0.9</td>\n",
       "    </tr>\n",
       "    <tr>\n",
       "      <th>3</th>\n",
       "      <td>109</td>\n",
       "      <td>Jalen Brunson</td>\n",
       "      <td>PG</td>\n",
       "      <td>27</td>\n",
       "      <td>NYK</td>\n",
       "      <td>77</td>\n",
       "      <td>0.479</td>\n",
       "      <td>3.6</td>\n",
       "      <td>6.7</td>\n",
       "      <td>28.7</td>\n",
       "      <td>0.9</td>\n",
       "      <td>0.2</td>\n",
       "    </tr>\n",
       "    <tr>\n",
       "      <th>4</th>\n",
       "      <td>180</td>\n",
       "      <td>Kevin Durant</td>\n",
       "      <td>PF</td>\n",
       "      <td>35</td>\n",
       "      <td>PHO</td>\n",
       "      <td>75</td>\n",
       "      <td>0.523</td>\n",
       "      <td>6.6</td>\n",
       "      <td>5.0</td>\n",
       "      <td>27.1</td>\n",
       "      <td>0.9</td>\n",
       "      <td>1.2</td>\n",
       "    </tr>\n",
       "    <tr>\n",
       "      <th>5</th>\n",
       "      <td>81</td>\n",
       "      <td>Devin Booker</td>\n",
       "      <td>PG</td>\n",
       "      <td>27</td>\n",
       "      <td>PHO</td>\n",
       "      <td>68</td>\n",
       "      <td>0.492</td>\n",
       "      <td>4.5</td>\n",
       "      <td>6.9</td>\n",
       "      <td>27.1</td>\n",
       "      <td>0.9</td>\n",
       "      <td>0.4</td>\n",
       "    </tr>\n",
       "    <tr>\n",
       "      <th>6</th>\n",
       "      <td>630</td>\n",
       "      <td>Jayson Tatum</td>\n",
       "      <td>PF</td>\n",
       "      <td>25</td>\n",
       "      <td>BOS</td>\n",
       "      <td>74</td>\n",
       "      <td>0.471</td>\n",
       "      <td>8.1</td>\n",
       "      <td>4.9</td>\n",
       "      <td>26.9</td>\n",
       "      <td>1.0</td>\n",
       "      <td>0.6</td>\n",
       "    </tr>\n",
       "    <tr>\n",
       "      <th>7</th>\n",
       "      <td>207</td>\n",
       "      <td>De'Aaron Fox</td>\n",
       "      <td>PG</td>\n",
       "      <td>26</td>\n",
       "      <td>SAC</td>\n",
       "      <td>74</td>\n",
       "      <td>0.465</td>\n",
       "      <td>4.6</td>\n",
       "      <td>5.6</td>\n",
       "      <td>26.6</td>\n",
       "      <td>2.0</td>\n",
       "      <td>0.4</td>\n",
       "    </tr>\n",
       "    <tr>\n",
       "      <th>8</th>\n",
       "      <td>340</td>\n",
       "      <td>Nikola Joki?</td>\n",
       "      <td>C</td>\n",
       "      <td>28</td>\n",
       "      <td>DEN</td>\n",
       "      <td>79</td>\n",
       "      <td>0.583</td>\n",
       "      <td>12.4</td>\n",
       "      <td>9.0</td>\n",
       "      <td>26.4</td>\n",
       "      <td>1.4</td>\n",
       "      <td>0.9</td>\n",
       "    </tr>\n",
       "    <tr>\n",
       "      <th>9</th>\n",
       "      <td>153</td>\n",
       "      <td>Stephen Curry</td>\n",
       "      <td>PG</td>\n",
       "      <td>35</td>\n",
       "      <td>GSW</td>\n",
       "      <td>74</td>\n",
       "      <td>0.450</td>\n",
       "      <td>4.5</td>\n",
       "      <td>5.1</td>\n",
       "      <td>26.4</td>\n",
       "      <td>0.7</td>\n",
       "      <td>0.4</td>\n",
       "    </tr>\n",
       "    <tr>\n",
       "      <th>10</th>\n",
       "      <td>415</td>\n",
       "      <td>Tyrese Maxey</td>\n",
       "      <td>PG</td>\n",
       "      <td>23</td>\n",
       "      <td>PHI</td>\n",
       "      <td>70</td>\n",
       "      <td>0.450</td>\n",
       "      <td>3.7</td>\n",
       "      <td>6.2</td>\n",
       "      <td>25.9</td>\n",
       "      <td>1.0</td>\n",
       "      <td>0.5</td>\n",
       "    </tr>\n",
       "    <tr>\n",
       "      <th>11</th>\n",
       "      <td>183</td>\n",
       "      <td>Anthony Edwards</td>\n",
       "      <td>SG</td>\n",
       "      <td>22</td>\n",
       "      <td>MIN</td>\n",
       "      <td>79</td>\n",
       "      <td>0.461</td>\n",
       "      <td>5.4</td>\n",
       "      <td>5.1</td>\n",
       "      <td>25.9</td>\n",
       "      <td>1.3</td>\n",
       "      <td>0.5</td>\n",
       "    </tr>\n",
       "    <tr>\n",
       "      <th>12</th>\n",
       "      <td>325</td>\n",
       "      <td>LeBron James</td>\n",
       "      <td>PF</td>\n",
       "      <td>39</td>\n",
       "      <td>LAL</td>\n",
       "      <td>71</td>\n",
       "      <td>0.540</td>\n",
       "      <td>7.3</td>\n",
       "      <td>8.3</td>\n",
       "      <td>25.7</td>\n",
       "      <td>1.3</td>\n",
       "      <td>0.5</td>\n",
       "    </tr>\n",
       "    <tr>\n",
       "      <th>13</th>\n",
       "      <td>155</td>\n",
       "      <td>Anthony Davis</td>\n",
       "      <td>C</td>\n",
       "      <td>30</td>\n",
       "      <td>LAL</td>\n",
       "      <td>76</td>\n",
       "      <td>0.556</td>\n",
       "      <td>12.6</td>\n",
       "      <td>3.5</td>\n",
       "      <td>24.7</td>\n",
       "      <td>1.2</td>\n",
       "      <td>2.3</td>\n",
       "    </tr>\n",
       "    <tr>\n",
       "      <th>14</th>\n",
       "      <td>378</td>\n",
       "      <td>Damian Lillard</td>\n",
       "      <td>PG</td>\n",
       "      <td>33</td>\n",
       "      <td>MIL</td>\n",
       "      <td>73</td>\n",
       "      <td>0.424</td>\n",
       "      <td>4.4</td>\n",
       "      <td>7.0</td>\n",
       "      <td>24.3</td>\n",
       "      <td>1.0</td>\n",
       "      <td>0.2</td>\n",
       "    </tr>\n",
       "    <tr>\n",
       "      <th>15</th>\n",
       "      <td>159</td>\n",
       "      <td>DeMar DeRozan</td>\n",
       "      <td>SF</td>\n",
       "      <td>34</td>\n",
       "      <td>CHI</td>\n",
       "      <td>79</td>\n",
       "      <td>0.480</td>\n",
       "      <td>4.3</td>\n",
       "      <td>5.3</td>\n",
       "      <td>24.0</td>\n",
       "      <td>1.1</td>\n",
       "      <td>0.6</td>\n",
       "    </tr>\n",
       "    <tr>\n",
       "      <th>16</th>\n",
       "      <td>370</td>\n",
       "      <td>Kawhi Leonard</td>\n",
       "      <td>SF</td>\n",
       "      <td>32</td>\n",
       "      <td>LAC</td>\n",
       "      <td>68</td>\n",
       "      <td>0.525</td>\n",
       "      <td>6.1</td>\n",
       "      <td>3.6</td>\n",
       "      <td>23.7</td>\n",
       "      <td>1.6</td>\n",
       "      <td>0.9</td>\n",
       "    </tr>\n",
       "    <tr>\n",
       "      <th>17</th>\n",
       "      <td>102</td>\n",
       "      <td>Jaylen Brown</td>\n",
       "      <td>SF</td>\n",
       "      <td>27</td>\n",
       "      <td>BOS</td>\n",
       "      <td>70</td>\n",
       "      <td>0.499</td>\n",
       "      <td>5.5</td>\n",
       "      <td>3.6</td>\n",
       "      <td>23.0</td>\n",
       "      <td>1.2</td>\n",
       "      <td>0.5</td>\n",
       "    </tr>\n",
       "    <tr>\n",
       "      <th>18</th>\n",
       "      <td>715</td>\n",
       "      <td>Zion Williamson</td>\n",
       "      <td>PF</td>\n",
       "      <td>23</td>\n",
       "      <td>NOP</td>\n",
       "      <td>70</td>\n",
       "      <td>0.570</td>\n",
       "      <td>5.8</td>\n",
       "      <td>5.0</td>\n",
       "      <td>22.9</td>\n",
       "      <td>1.1</td>\n",
       "      <td>0.7</td>\n",
       "    </tr>\n",
       "    <tr>\n",
       "      <th>19</th>\n",
       "      <td>149</td>\n",
       "      <td>Cade Cunningham</td>\n",
       "      <td>PG</td>\n",
       "      <td>22</td>\n",
       "      <td>DET</td>\n",
       "      <td>62</td>\n",
       "      <td>0.449</td>\n",
       "      <td>4.3</td>\n",
       "      <td>7.5</td>\n",
       "      <td>22.7</td>\n",
       "      <td>0.9</td>\n",
       "      <td>0.4</td>\n",
       "    </tr>\n",
       "  </tbody>\n",
       "</table>\n",
       "</div>"
      ],
      "text/plain": [
       "    index                   Player Pos  Age   Tm   G    FG%   TRB  AST   PTS  \\\n",
       "0     171              Luka Don?i?  PG   24  DAL  70  0.487   9.2  9.8  33.9   \n",
       "1      14    Giannis Antetokounmpo  PF   29  MIL  73  0.611  11.5  6.5  30.4   \n",
       "2     235  Shai Gilgeous-Alexander  PG   25  OKC  75  0.535   5.5  6.2  30.1   \n",
       "3     109            Jalen Brunson  PG   27  NYK  77  0.479   3.6  6.7  28.7   \n",
       "4     180             Kevin Durant  PF   35  PHO  75  0.523   6.6  5.0  27.1   \n",
       "5      81             Devin Booker  PG   27  PHO  68  0.492   4.5  6.9  27.1   \n",
       "6     630             Jayson Tatum  PF   25  BOS  74  0.471   8.1  4.9  26.9   \n",
       "7     207             De'Aaron Fox  PG   26  SAC  74  0.465   4.6  5.6  26.6   \n",
       "8     340             Nikola Joki?   C   28  DEN  79  0.583  12.4  9.0  26.4   \n",
       "9     153            Stephen Curry  PG   35  GSW  74  0.450   4.5  5.1  26.4   \n",
       "10    415             Tyrese Maxey  PG   23  PHI  70  0.450   3.7  6.2  25.9   \n",
       "11    183          Anthony Edwards  SG   22  MIN  79  0.461   5.4  5.1  25.9   \n",
       "12    325             LeBron James  PF   39  LAL  71  0.540   7.3  8.3  25.7   \n",
       "13    155            Anthony Davis   C   30  LAL  76  0.556  12.6  3.5  24.7   \n",
       "14    378           Damian Lillard  PG   33  MIL  73  0.424   4.4  7.0  24.3   \n",
       "15    159            DeMar DeRozan  SF   34  CHI  79  0.480   4.3  5.3  24.0   \n",
       "16    370            Kawhi Leonard  SF   32  LAC  68  0.525   6.1  3.6  23.7   \n",
       "17    102             Jaylen Brown  SF   27  BOS  70  0.499   5.5  3.6  23.0   \n",
       "18    715          Zion Williamson  PF   23  NOP  70  0.570   5.8  5.0  22.9   \n",
       "19    149          Cade Cunningham  PG   22  DET  62  0.449   4.3  7.5  22.7   \n",
       "\n",
       "    STL  BLK  \n",
       "0   1.4  0.5  \n",
       "1   1.2  1.1  \n",
       "2   2.0  0.9  \n",
       "3   0.9  0.2  \n",
       "4   0.9  1.2  \n",
       "5   0.9  0.4  \n",
       "6   1.0  0.6  \n",
       "7   2.0  0.4  \n",
       "8   1.4  0.9  \n",
       "9   0.7  0.4  \n",
       "10  1.0  0.5  \n",
       "11  1.3  0.5  \n",
       "12  1.3  0.5  \n",
       "13  1.2  2.3  \n",
       "14  1.0  0.2  \n",
       "15  1.1  0.6  \n",
       "16  1.6  0.9  \n",
       "17  1.2  0.5  \n",
       "18  1.1  0.7  \n",
       "19  0.9  0.4  "
      ]
     },
     "execution_count": 20,
     "metadata": {},
     "output_type": "execute_result"
    }
   ],
   "source": [
    "ppg_df.head(20).reset_index()"
   ]
  },
  {
   "cell_type": "code",
   "execution_count": 21,
   "metadata": {},
   "outputs": [
    {
     "name": "stderr",
     "output_type": "stream",
     "text": [
      "<>:1: SyntaxWarning: invalid escape sequence '\\?'\n",
      "<>:1: SyntaxWarning: invalid escape sequence '\\?'\n",
      "/var/folders/1f/1v9z1y115x7d969hzbnc1dd80000gn/T/ipykernel_33103/3767763573.py:1: SyntaxWarning: invalid escape sequence '\\?'\n",
      "  nba_stats_df[nba_stats_df['Player'].str.contains('\\?')]\n"
     ]
    },
    {
     "data": {
      "text/html": [
       "<div>\n",
       "<style scoped>\n",
       "    .dataframe tbody tr th:only-of-type {\n",
       "        vertical-align: middle;\n",
       "    }\n",
       "\n",
       "    .dataframe tbody tr th {\n",
       "        vertical-align: top;\n",
       "    }\n",
       "\n",
       "    .dataframe thead th {\n",
       "        text-align: right;\n",
       "    }\n",
       "</style>\n",
       "<table border=\"1\" class=\"dataframe\">\n",
       "  <thead>\n",
       "    <tr style=\"text-align: right;\">\n",
       "      <th></th>\n",
       "      <th>Player</th>\n",
       "      <th>Pos</th>\n",
       "      <th>Age</th>\n",
       "      <th>Tm</th>\n",
       "      <th>G</th>\n",
       "      <th>FG%</th>\n",
       "      <th>TRB</th>\n",
       "      <th>AST</th>\n",
       "      <th>PTS</th>\n",
       "      <th>STL</th>\n",
       "      <th>BLK</th>\n",
       "    </tr>\n",
       "  </thead>\n",
       "  <tbody>\n",
       "    <tr>\n",
       "      <th>73</th>\n",
       "      <td>Bogdan Bogdanovi?</td>\n",
       "      <td>SG</td>\n",
       "      <td>31</td>\n",
       "      <td>ATL</td>\n",
       "      <td>79</td>\n",
       "      <td>0.428</td>\n",
       "      <td>3.4</td>\n",
       "      <td>3.1</td>\n",
       "      <td>16.9</td>\n",
       "      <td>1.2</td>\n",
       "      <td>0.3</td>\n",
       "    </tr>\n",
       "    <tr>\n",
       "      <th>171</th>\n",
       "      <td>Luka Don?i?</td>\n",
       "      <td>PG</td>\n",
       "      <td>24</td>\n",
       "      <td>DAL</td>\n",
       "      <td>70</td>\n",
       "      <td>0.487</td>\n",
       "      <td>9.2</td>\n",
       "      <td>9.8</td>\n",
       "      <td>33.9</td>\n",
       "      <td>1.4</td>\n",
       "      <td>0.5</td>\n",
       "    </tr>\n",
       "    <tr>\n",
       "      <th>340</th>\n",
       "      <td>Nikola Joki?</td>\n",
       "      <td>C</td>\n",
       "      <td>28</td>\n",
       "      <td>DEN</td>\n",
       "      <td>79</td>\n",
       "      <td>0.583</td>\n",
       "      <td>12.4</td>\n",
       "      <td>9.0</td>\n",
       "      <td>26.4</td>\n",
       "      <td>1.4</td>\n",
       "      <td>0.9</td>\n",
       "    </tr>\n",
       "    <tr>\n",
       "      <th>666</th>\n",
       "      <td>Nikola Vu?evi?</td>\n",
       "      <td>C</td>\n",
       "      <td>33</td>\n",
       "      <td>CHI</td>\n",
       "      <td>76</td>\n",
       "      <td>0.484</td>\n",
       "      <td>10.5</td>\n",
       "      <td>3.3</td>\n",
       "      <td>18.0</td>\n",
       "      <td>0.7</td>\n",
       "      <td>0.8</td>\n",
       "    </tr>\n",
       "  </tbody>\n",
       "</table>\n",
       "</div>"
      ],
      "text/plain": [
       "                Player Pos  Age   Tm   G    FG%   TRB  AST   PTS  STL  BLK\n",
       "73   Bogdan Bogdanovi?  SG   31  ATL  79  0.428   3.4  3.1  16.9  1.2  0.3\n",
       "171        Luka Don?i?  PG   24  DAL  70  0.487   9.2  9.8  33.9  1.4  0.5\n",
       "340       Nikola Joki?   C   28  DEN  79  0.583  12.4  9.0  26.4  1.4  0.9\n",
       "666     Nikola Vu?evi?   C   33  CHI  76  0.484  10.5  3.3  18.0  0.7  0.8"
      ]
     },
     "execution_count": 21,
     "metadata": {},
     "output_type": "execute_result"
    }
   ],
   "source": [
    "nba_stats_df[nba_stats_df['Player'].str.contains('\\?')]"
   ]
  },
  {
   "cell_type": "code",
   "execution_count": 22,
   "metadata": {},
   "outputs": [],
   "source": [
    "nba_stats_df['Player'] = nba_stats_df['Player'].str.replace('?', 'c')"
   ]
  },
  {
   "cell_type": "code",
   "execution_count": 23,
   "metadata": {},
   "outputs": [
    {
     "data": {
      "text/html": [
       "<div>\n",
       "<style scoped>\n",
       "    .dataframe tbody tr th:only-of-type {\n",
       "        vertical-align: middle;\n",
       "    }\n",
       "\n",
       "    .dataframe tbody tr th {\n",
       "        vertical-align: top;\n",
       "    }\n",
       "\n",
       "    .dataframe thead th {\n",
       "        text-align: right;\n",
       "    }\n",
       "</style>\n",
       "<table border=\"1\" class=\"dataframe\">\n",
       "  <thead>\n",
       "    <tr style=\"text-align: right;\">\n",
       "      <th></th>\n",
       "      <th>Player</th>\n",
       "      <th>Pos</th>\n",
       "      <th>Age</th>\n",
       "      <th>Tm</th>\n",
       "      <th>G</th>\n",
       "      <th>FG%</th>\n",
       "      <th>TRB</th>\n",
       "      <th>AST</th>\n",
       "      <th>PTS</th>\n",
       "      <th>STL</th>\n",
       "      <th>BLK</th>\n",
       "    </tr>\n",
       "  </thead>\n",
       "  <tbody>\n",
       "    <tr>\n",
       "      <th>171</th>\n",
       "      <td>Luka Don?i?</td>\n",
       "      <td>PG</td>\n",
       "      <td>24</td>\n",
       "      <td>DAL</td>\n",
       "      <td>70</td>\n",
       "      <td>0.487</td>\n",
       "      <td>9.2</td>\n",
       "      <td>9.8</td>\n",
       "      <td>33.9</td>\n",
       "      <td>1.4</td>\n",
       "      <td>0.5</td>\n",
       "    </tr>\n",
       "    <tr>\n",
       "      <th>14</th>\n",
       "      <td>Giannis Antetokounmpo</td>\n",
       "      <td>PF</td>\n",
       "      <td>29</td>\n",
       "      <td>MIL</td>\n",
       "      <td>73</td>\n",
       "      <td>0.611</td>\n",
       "      <td>11.5</td>\n",
       "      <td>6.5</td>\n",
       "      <td>30.4</td>\n",
       "      <td>1.2</td>\n",
       "      <td>1.1</td>\n",
       "    </tr>\n",
       "    <tr>\n",
       "      <th>235</th>\n",
       "      <td>Shai Gilgeous-Alexander</td>\n",
       "      <td>PG</td>\n",
       "      <td>25</td>\n",
       "      <td>OKC</td>\n",
       "      <td>75</td>\n",
       "      <td>0.535</td>\n",
       "      <td>5.5</td>\n",
       "      <td>6.2</td>\n",
       "      <td>30.1</td>\n",
       "      <td>2.0</td>\n",
       "      <td>0.9</td>\n",
       "    </tr>\n",
       "    <tr>\n",
       "      <th>109</th>\n",
       "      <td>Jalen Brunson</td>\n",
       "      <td>PG</td>\n",
       "      <td>27</td>\n",
       "      <td>NYK</td>\n",
       "      <td>77</td>\n",
       "      <td>0.479</td>\n",
       "      <td>3.6</td>\n",
       "      <td>6.7</td>\n",
       "      <td>28.7</td>\n",
       "      <td>0.9</td>\n",
       "      <td>0.2</td>\n",
       "    </tr>\n",
       "    <tr>\n",
       "      <th>180</th>\n",
       "      <td>Kevin Durant</td>\n",
       "      <td>PF</td>\n",
       "      <td>35</td>\n",
       "      <td>PHO</td>\n",
       "      <td>75</td>\n",
       "      <td>0.523</td>\n",
       "      <td>6.6</td>\n",
       "      <td>5.0</td>\n",
       "      <td>27.1</td>\n",
       "      <td>0.9</td>\n",
       "      <td>1.2</td>\n",
       "    </tr>\n",
       "    <tr>\n",
       "      <th>81</th>\n",
       "      <td>Devin Booker</td>\n",
       "      <td>PG</td>\n",
       "      <td>27</td>\n",
       "      <td>PHO</td>\n",
       "      <td>68</td>\n",
       "      <td>0.492</td>\n",
       "      <td>4.5</td>\n",
       "      <td>6.9</td>\n",
       "      <td>27.1</td>\n",
       "      <td>0.9</td>\n",
       "      <td>0.4</td>\n",
       "    </tr>\n",
       "    <tr>\n",
       "      <th>630</th>\n",
       "      <td>Jayson Tatum</td>\n",
       "      <td>PF</td>\n",
       "      <td>25</td>\n",
       "      <td>BOS</td>\n",
       "      <td>74</td>\n",
       "      <td>0.471</td>\n",
       "      <td>8.1</td>\n",
       "      <td>4.9</td>\n",
       "      <td>26.9</td>\n",
       "      <td>1.0</td>\n",
       "      <td>0.6</td>\n",
       "    </tr>\n",
       "    <tr>\n",
       "      <th>207</th>\n",
       "      <td>De'Aaron Fox</td>\n",
       "      <td>PG</td>\n",
       "      <td>26</td>\n",
       "      <td>SAC</td>\n",
       "      <td>74</td>\n",
       "      <td>0.465</td>\n",
       "      <td>4.6</td>\n",
       "      <td>5.6</td>\n",
       "      <td>26.6</td>\n",
       "      <td>2.0</td>\n",
       "      <td>0.4</td>\n",
       "    </tr>\n",
       "    <tr>\n",
       "      <th>340</th>\n",
       "      <td>Nikola Joki?</td>\n",
       "      <td>C</td>\n",
       "      <td>28</td>\n",
       "      <td>DEN</td>\n",
       "      <td>79</td>\n",
       "      <td>0.583</td>\n",
       "      <td>12.4</td>\n",
       "      <td>9.0</td>\n",
       "      <td>26.4</td>\n",
       "      <td>1.4</td>\n",
       "      <td>0.9</td>\n",
       "    </tr>\n",
       "    <tr>\n",
       "      <th>153</th>\n",
       "      <td>Stephen Curry</td>\n",
       "      <td>PG</td>\n",
       "      <td>35</td>\n",
       "      <td>GSW</td>\n",
       "      <td>74</td>\n",
       "      <td>0.450</td>\n",
       "      <td>4.5</td>\n",
       "      <td>5.1</td>\n",
       "      <td>26.4</td>\n",
       "      <td>0.7</td>\n",
       "      <td>0.4</td>\n",
       "    </tr>\n",
       "  </tbody>\n",
       "</table>\n",
       "</div>"
      ],
      "text/plain": [
       "                      Player Pos  Age   Tm   G    FG%   TRB  AST   PTS  STL  \\\n",
       "171              Luka Don?i?  PG   24  DAL  70  0.487   9.2  9.8  33.9  1.4   \n",
       "14     Giannis Antetokounmpo  PF   29  MIL  73  0.611  11.5  6.5  30.4  1.2   \n",
       "235  Shai Gilgeous-Alexander  PG   25  OKC  75  0.535   5.5  6.2  30.1  2.0   \n",
       "109            Jalen Brunson  PG   27  NYK  77  0.479   3.6  6.7  28.7  0.9   \n",
       "180             Kevin Durant  PF   35  PHO  75  0.523   6.6  5.0  27.1  0.9   \n",
       "81              Devin Booker  PG   27  PHO  68  0.492   4.5  6.9  27.1  0.9   \n",
       "630             Jayson Tatum  PF   25  BOS  74  0.471   8.1  4.9  26.9  1.0   \n",
       "207             De'Aaron Fox  PG   26  SAC  74  0.465   4.6  5.6  26.6  2.0   \n",
       "340             Nikola Joki?   C   28  DEN  79  0.583  12.4  9.0  26.4  1.4   \n",
       "153            Stephen Curry  PG   35  GSW  74  0.450   4.5  5.1  26.4  0.7   \n",
       "\n",
       "     BLK  \n",
       "171  0.5  \n",
       "14   1.1  \n",
       "235  0.9  \n",
       "109  0.2  \n",
       "180  1.2  \n",
       "81   0.4  \n",
       "630  0.6  \n",
       "207  0.4  \n",
       "340  0.9  \n",
       "153  0.4  "
      ]
     },
     "execution_count": 23,
     "metadata": {},
     "output_type": "execute_result"
    }
   ],
   "source": [
    "ppg_df.head(10)"
   ]
  },
  {
   "cell_type": "code",
   "execution_count": 24,
   "metadata": {},
   "outputs": [],
   "source": [
    "ppg_df = nba_stats_df.sort_values(by='PTS', ascending=False)"
   ]
  },
  {
   "cell_type": "code",
   "execution_count": 25,
   "metadata": {},
   "outputs": [
    {
     "data": {
      "text/html": [
       "<div>\n",
       "<style scoped>\n",
       "    .dataframe tbody tr th:only-of-type {\n",
       "        vertical-align: middle;\n",
       "    }\n",
       "\n",
       "    .dataframe tbody tr th {\n",
       "        vertical-align: top;\n",
       "    }\n",
       "\n",
       "    .dataframe thead th {\n",
       "        text-align: right;\n",
       "    }\n",
       "</style>\n",
       "<table border=\"1\" class=\"dataframe\">\n",
       "  <thead>\n",
       "    <tr style=\"text-align: right;\">\n",
       "      <th></th>\n",
       "      <th>Player</th>\n",
       "      <th>Pos</th>\n",
       "      <th>Age</th>\n",
       "      <th>Tm</th>\n",
       "      <th>G</th>\n",
       "      <th>FG%</th>\n",
       "      <th>TRB</th>\n",
       "      <th>AST</th>\n",
       "      <th>PTS</th>\n",
       "      <th>STL</th>\n",
       "      <th>BLK</th>\n",
       "    </tr>\n",
       "  </thead>\n",
       "  <tbody>\n",
       "    <tr>\n",
       "      <th>171</th>\n",
       "      <td>Luka Doncic</td>\n",
       "      <td>PG</td>\n",
       "      <td>24</td>\n",
       "      <td>DAL</td>\n",
       "      <td>70</td>\n",
       "      <td>0.487</td>\n",
       "      <td>9.2</td>\n",
       "      <td>9.8</td>\n",
       "      <td>33.9</td>\n",
       "      <td>1.4</td>\n",
       "      <td>0.5</td>\n",
       "    </tr>\n",
       "    <tr>\n",
       "      <th>14</th>\n",
       "      <td>Giannis Antetokounmpo</td>\n",
       "      <td>PF</td>\n",
       "      <td>29</td>\n",
       "      <td>MIL</td>\n",
       "      <td>73</td>\n",
       "      <td>0.611</td>\n",
       "      <td>11.5</td>\n",
       "      <td>6.5</td>\n",
       "      <td>30.4</td>\n",
       "      <td>1.2</td>\n",
       "      <td>1.1</td>\n",
       "    </tr>\n",
       "    <tr>\n",
       "      <th>235</th>\n",
       "      <td>Shai Gilgeous-Alexander</td>\n",
       "      <td>PG</td>\n",
       "      <td>25</td>\n",
       "      <td>OKC</td>\n",
       "      <td>75</td>\n",
       "      <td>0.535</td>\n",
       "      <td>5.5</td>\n",
       "      <td>6.2</td>\n",
       "      <td>30.1</td>\n",
       "      <td>2.0</td>\n",
       "      <td>0.9</td>\n",
       "    </tr>\n",
       "    <tr>\n",
       "      <th>109</th>\n",
       "      <td>Jalen Brunson</td>\n",
       "      <td>PG</td>\n",
       "      <td>27</td>\n",
       "      <td>NYK</td>\n",
       "      <td>77</td>\n",
       "      <td>0.479</td>\n",
       "      <td>3.6</td>\n",
       "      <td>6.7</td>\n",
       "      <td>28.7</td>\n",
       "      <td>0.9</td>\n",
       "      <td>0.2</td>\n",
       "    </tr>\n",
       "    <tr>\n",
       "      <th>180</th>\n",
       "      <td>Kevin Durant</td>\n",
       "      <td>PF</td>\n",
       "      <td>35</td>\n",
       "      <td>PHO</td>\n",
       "      <td>75</td>\n",
       "      <td>0.523</td>\n",
       "      <td>6.6</td>\n",
       "      <td>5.0</td>\n",
       "      <td>27.1</td>\n",
       "      <td>0.9</td>\n",
       "      <td>1.2</td>\n",
       "    </tr>\n",
       "    <tr>\n",
       "      <th>81</th>\n",
       "      <td>Devin Booker</td>\n",
       "      <td>PG</td>\n",
       "      <td>27</td>\n",
       "      <td>PHO</td>\n",
       "      <td>68</td>\n",
       "      <td>0.492</td>\n",
       "      <td>4.5</td>\n",
       "      <td>6.9</td>\n",
       "      <td>27.1</td>\n",
       "      <td>0.9</td>\n",
       "      <td>0.4</td>\n",
       "    </tr>\n",
       "    <tr>\n",
       "      <th>630</th>\n",
       "      <td>Jayson Tatum</td>\n",
       "      <td>PF</td>\n",
       "      <td>25</td>\n",
       "      <td>BOS</td>\n",
       "      <td>74</td>\n",
       "      <td>0.471</td>\n",
       "      <td>8.1</td>\n",
       "      <td>4.9</td>\n",
       "      <td>26.9</td>\n",
       "      <td>1.0</td>\n",
       "      <td>0.6</td>\n",
       "    </tr>\n",
       "    <tr>\n",
       "      <th>207</th>\n",
       "      <td>De'Aaron Fox</td>\n",
       "      <td>PG</td>\n",
       "      <td>26</td>\n",
       "      <td>SAC</td>\n",
       "      <td>74</td>\n",
       "      <td>0.465</td>\n",
       "      <td>4.6</td>\n",
       "      <td>5.6</td>\n",
       "      <td>26.6</td>\n",
       "      <td>2.0</td>\n",
       "      <td>0.4</td>\n",
       "    </tr>\n",
       "    <tr>\n",
       "      <th>340</th>\n",
       "      <td>Nikola Jokic</td>\n",
       "      <td>C</td>\n",
       "      <td>28</td>\n",
       "      <td>DEN</td>\n",
       "      <td>79</td>\n",
       "      <td>0.583</td>\n",
       "      <td>12.4</td>\n",
       "      <td>9.0</td>\n",
       "      <td>26.4</td>\n",
       "      <td>1.4</td>\n",
       "      <td>0.9</td>\n",
       "    </tr>\n",
       "    <tr>\n",
       "      <th>153</th>\n",
       "      <td>Stephen Curry</td>\n",
       "      <td>PG</td>\n",
       "      <td>35</td>\n",
       "      <td>GSW</td>\n",
       "      <td>74</td>\n",
       "      <td>0.450</td>\n",
       "      <td>4.5</td>\n",
       "      <td>5.1</td>\n",
       "      <td>26.4</td>\n",
       "      <td>0.7</td>\n",
       "      <td>0.4</td>\n",
       "    </tr>\n",
       "  </tbody>\n",
       "</table>\n",
       "</div>"
      ],
      "text/plain": [
       "                      Player Pos  Age   Tm   G    FG%   TRB  AST   PTS  STL  \\\n",
       "171              Luka Doncic  PG   24  DAL  70  0.487   9.2  9.8  33.9  1.4   \n",
       "14     Giannis Antetokounmpo  PF   29  MIL  73  0.611  11.5  6.5  30.4  1.2   \n",
       "235  Shai Gilgeous-Alexander  PG   25  OKC  75  0.535   5.5  6.2  30.1  2.0   \n",
       "109            Jalen Brunson  PG   27  NYK  77  0.479   3.6  6.7  28.7  0.9   \n",
       "180             Kevin Durant  PF   35  PHO  75  0.523   6.6  5.0  27.1  0.9   \n",
       "81              Devin Booker  PG   27  PHO  68  0.492   4.5  6.9  27.1  0.9   \n",
       "630             Jayson Tatum  PF   25  BOS  74  0.471   8.1  4.9  26.9  1.0   \n",
       "207             De'Aaron Fox  PG   26  SAC  74  0.465   4.6  5.6  26.6  2.0   \n",
       "340             Nikola Jokic   C   28  DEN  79  0.583  12.4  9.0  26.4  1.4   \n",
       "153            Stephen Curry  PG   35  GSW  74  0.450   4.5  5.1  26.4  0.7   \n",
       "\n",
       "     BLK  \n",
       "171  0.5  \n",
       "14   1.1  \n",
       "235  0.9  \n",
       "109  0.2  \n",
       "180  1.2  \n",
       "81   0.4  \n",
       "630  0.6  \n",
       "207  0.4  \n",
       "340  0.9  \n",
       "153  0.4  "
      ]
     },
     "execution_count": 25,
     "metadata": {},
     "output_type": "execute_result"
    }
   ],
   "source": [
    "ppg_df.head(10)"
   ]
  },
  {
   "cell_type": "markdown",
   "metadata": {},
   "source": [
    "<div class=\"alert alert-info\">\n",
    "<h2> Student's comment</h2>\n",
    "\n",
    "For some reason all the names with 'C' in them were '?'. So I had to fix that.\n",
    "</div>"
   ]
  },
  {
   "cell_type": "code",
   "execution_count": 26,
   "metadata": {},
   "outputs": [
    {
     "data": {
      "text/plain": [
       "np.int64(0)"
      ]
     },
     "execution_count": 26,
     "metadata": {},
     "output_type": "execute_result"
    }
   ],
   "source": [
    "nba_stats_df.duplicated(subset=['Player']).sum()"
   ]
  },
  {
   "cell_type": "code",
   "execution_count": 27,
   "metadata": {},
   "outputs": [
    {
     "data": {
      "text/plain": [
       "np.int64(0)"
      ]
     },
     "execution_count": 27,
     "metadata": {},
     "output_type": "execute_result"
    }
   ],
   "source": [
    "ppg_df.duplicated(subset=['Player']).sum()"
   ]
  },
  {
   "cell_type": "code",
   "execution_count": 28,
   "metadata": {},
   "outputs": [],
   "source": [
    "nba_stats_df['P_R_A'] = nba_stats_df['PTS'] + nba_stats_df['AST'] + nba_stats_df['TRB'] "
   ]
  },
  {
   "cell_type": "code",
   "execution_count": 29,
   "metadata": {},
   "outputs": [
    {
     "data": {
      "text/html": [
       "<div>\n",
       "<style scoped>\n",
       "    .dataframe tbody tr th:only-of-type {\n",
       "        vertical-align: middle;\n",
       "    }\n",
       "\n",
       "    .dataframe tbody tr th {\n",
       "        vertical-align: top;\n",
       "    }\n",
       "\n",
       "    .dataframe thead th {\n",
       "        text-align: right;\n",
       "    }\n",
       "</style>\n",
       "<table border=\"1\" class=\"dataframe\">\n",
       "  <thead>\n",
       "    <tr style=\"text-align: right;\">\n",
       "      <th></th>\n",
       "      <th>Player</th>\n",
       "      <th>Pos</th>\n",
       "      <th>Age</th>\n",
       "      <th>Tm</th>\n",
       "      <th>G</th>\n",
       "      <th>FG%</th>\n",
       "      <th>TRB</th>\n",
       "      <th>AST</th>\n",
       "      <th>PTS</th>\n",
       "      <th>STL</th>\n",
       "      <th>BLK</th>\n",
       "      <th>P_R_A</th>\n",
       "    </tr>\n",
       "  </thead>\n",
       "  <tbody>\n",
       "    <tr>\n",
       "      <th>415</th>\n",
       "      <td>Tyrese Maxey</td>\n",
       "      <td>PG</td>\n",
       "      <td>23</td>\n",
       "      <td>PHI</td>\n",
       "      <td>70</td>\n",
       "      <td>0.450</td>\n",
       "      <td>3.7</td>\n",
       "      <td>6.2</td>\n",
       "      <td>25.9</td>\n",
       "      <td>1.0</td>\n",
       "      <td>0.5</td>\n",
       "      <td>35.8</td>\n",
       "    </tr>\n",
       "    <tr>\n",
       "      <th>577</th>\n",
       "      <td>Domantas Sabonis</td>\n",
       "      <td>C</td>\n",
       "      <td>27</td>\n",
       "      <td>SAC</td>\n",
       "      <td>82</td>\n",
       "      <td>0.594</td>\n",
       "      <td>13.7</td>\n",
       "      <td>8.2</td>\n",
       "      <td>19.4</td>\n",
       "      <td>0.9</td>\n",
       "      <td>0.6</td>\n",
       "      <td>41.3</td>\n",
       "    </tr>\n",
       "    <tr>\n",
       "      <th>325</th>\n",
       "      <td>LeBron James</td>\n",
       "      <td>PF</td>\n",
       "      <td>39</td>\n",
       "      <td>LAL</td>\n",
       "      <td>71</td>\n",
       "      <td>0.540</td>\n",
       "      <td>7.3</td>\n",
       "      <td>8.3</td>\n",
       "      <td>25.7</td>\n",
       "      <td>1.3</td>\n",
       "      <td>0.5</td>\n",
       "      <td>41.3</td>\n",
       "    </tr>\n",
       "    <tr>\n",
       "      <th>268</th>\n",
       "      <td>James Harden</td>\n",
       "      <td>PG</td>\n",
       "      <td>34</td>\n",
       "      <td>LAC</td>\n",
       "      <td>72</td>\n",
       "      <td>0.428</td>\n",
       "      <td>5.1</td>\n",
       "      <td>8.5</td>\n",
       "      <td>16.6</td>\n",
       "      <td>1.1</td>\n",
       "      <td>0.8</td>\n",
       "      <td>30.2</td>\n",
       "    </tr>\n",
       "    <tr>\n",
       "      <th>590</th>\n",
       "      <td>Alperen Sengun</td>\n",
       "      <td>C</td>\n",
       "      <td>21</td>\n",
       "      <td>HOU</td>\n",
       "      <td>63</td>\n",
       "      <td>0.537</td>\n",
       "      <td>9.3</td>\n",
       "      <td>5.0</td>\n",
       "      <td>21.1</td>\n",
       "      <td>1.2</td>\n",
       "      <td>0.7</td>\n",
       "      <td>35.4</td>\n",
       "    </tr>\n",
       "    <tr>\n",
       "      <th>693</th>\n",
       "      <td>Coby White</td>\n",
       "      <td>PG</td>\n",
       "      <td>23</td>\n",
       "      <td>CHI</td>\n",
       "      <td>79</td>\n",
       "      <td>0.447</td>\n",
       "      <td>4.5</td>\n",
       "      <td>5.1</td>\n",
       "      <td>19.1</td>\n",
       "      <td>0.7</td>\n",
       "      <td>0.2</td>\n",
       "      <td>28.7</td>\n",
       "    </tr>\n",
       "    <tr>\n",
       "      <th>300</th>\n",
       "      <td>Chet Holmgren</td>\n",
       "      <td>C</td>\n",
       "      <td>21</td>\n",
       "      <td>OKC</td>\n",
       "      <td>82</td>\n",
       "      <td>0.530</td>\n",
       "      <td>7.9</td>\n",
       "      <td>2.4</td>\n",
       "      <td>16.5</td>\n",
       "      <td>0.6</td>\n",
       "      <td>2.3</td>\n",
       "      <td>26.8</td>\n",
       "    </tr>\n",
       "    <tr>\n",
       "      <th>153</th>\n",
       "      <td>Stephen Curry</td>\n",
       "      <td>PG</td>\n",
       "      <td>35</td>\n",
       "      <td>GSW</td>\n",
       "      <td>74</td>\n",
       "      <td>0.450</td>\n",
       "      <td>4.5</td>\n",
       "      <td>5.1</td>\n",
       "      <td>26.4</td>\n",
       "      <td>0.7</td>\n",
       "      <td>0.4</td>\n",
       "      <td>36.0</td>\n",
       "    </tr>\n",
       "    <tr>\n",
       "      <th>666</th>\n",
       "      <td>Nikola Vucevic</td>\n",
       "      <td>C</td>\n",
       "      <td>33</td>\n",
       "      <td>CHI</td>\n",
       "      <td>76</td>\n",
       "      <td>0.484</td>\n",
       "      <td>10.5</td>\n",
       "      <td>3.3</td>\n",
       "      <td>18.0</td>\n",
       "      <td>0.7</td>\n",
       "      <td>0.8</td>\n",
       "      <td>31.8</td>\n",
       "    </tr>\n",
       "    <tr>\n",
       "      <th>662</th>\n",
       "      <td>Fred VanVleet</td>\n",
       "      <td>PG</td>\n",
       "      <td>29</td>\n",
       "      <td>HOU</td>\n",
       "      <td>73</td>\n",
       "      <td>0.416</td>\n",
       "      <td>3.8</td>\n",
       "      <td>8.1</td>\n",
       "      <td>17.4</td>\n",
       "      <td>1.4</td>\n",
       "      <td>0.8</td>\n",
       "      <td>29.3</td>\n",
       "    </tr>\n",
       "    <tr>\n",
       "      <th>508</th>\n",
       "      <td>Kelly Oubre Jr.</td>\n",
       "      <td>SF</td>\n",
       "      <td>28</td>\n",
       "      <td>PHI</td>\n",
       "      <td>68</td>\n",
       "      <td>0.441</td>\n",
       "      <td>5.0</td>\n",
       "      <td>1.5</td>\n",
       "      <td>15.4</td>\n",
       "      <td>1.1</td>\n",
       "      <td>0.7</td>\n",
       "      <td>21.9</td>\n",
       "    </tr>\n",
       "    <tr>\n",
       "      <th>528</th>\n",
       "      <td>Jordan Poole</td>\n",
       "      <td>SG</td>\n",
       "      <td>24</td>\n",
       "      <td>WAS</td>\n",
       "      <td>78</td>\n",
       "      <td>0.413</td>\n",
       "      <td>2.7</td>\n",
       "      <td>4.4</td>\n",
       "      <td>17.4</td>\n",
       "      <td>1.1</td>\n",
       "      <td>0.3</td>\n",
       "      <td>24.5</td>\n",
       "    </tr>\n",
       "    <tr>\n",
       "      <th>705</th>\n",
       "      <td>Jalen Williams</td>\n",
       "      <td>PF</td>\n",
       "      <td>22</td>\n",
       "      <td>OKC</td>\n",
       "      <td>71</td>\n",
       "      <td>0.540</td>\n",
       "      <td>4.0</td>\n",
       "      <td>4.5</td>\n",
       "      <td>19.1</td>\n",
       "      <td>1.1</td>\n",
       "      <td>0.6</td>\n",
       "      <td>27.6</td>\n",
       "    </tr>\n",
       "    <tr>\n",
       "      <th>337</th>\n",
       "      <td>Keldon Johnson</td>\n",
       "      <td>SF</td>\n",
       "      <td>24</td>\n",
       "      <td>SAS</td>\n",
       "      <td>69</td>\n",
       "      <td>0.454</td>\n",
       "      <td>5.5</td>\n",
       "      <td>2.8</td>\n",
       "      <td>15.7</td>\n",
       "      <td>0.7</td>\n",
       "      <td>0.3</td>\n",
       "      <td>24.0</td>\n",
       "    </tr>\n",
       "    <tr>\n",
       "      <th>715</th>\n",
       "      <td>Zion Williamson</td>\n",
       "      <td>PF</td>\n",
       "      <td>23</td>\n",
       "      <td>NOP</td>\n",
       "      <td>70</td>\n",
       "      <td>0.570</td>\n",
       "      <td>5.8</td>\n",
       "      <td>5.0</td>\n",
       "      <td>22.9</td>\n",
       "      <td>1.1</td>\n",
       "      <td>0.7</td>\n",
       "      <td>33.7</td>\n",
       "    </tr>\n",
       "    <tr>\n",
       "      <th>39</th>\n",
       "      <td>Scottie Barnes</td>\n",
       "      <td>SG</td>\n",
       "      <td>22</td>\n",
       "      <td>TOR</td>\n",
       "      <td>60</td>\n",
       "      <td>0.475</td>\n",
       "      <td>8.2</td>\n",
       "      <td>6.1</td>\n",
       "      <td>19.9</td>\n",
       "      <td>1.3</td>\n",
       "      <td>1.5</td>\n",
       "      <td>34.2</td>\n",
       "    </tr>\n",
       "    <tr>\n",
       "      <th>81</th>\n",
       "      <td>Devin Booker</td>\n",
       "      <td>PG</td>\n",
       "      <td>27</td>\n",
       "      <td>PHO</td>\n",
       "      <td>68</td>\n",
       "      <td>0.492</td>\n",
       "      <td>4.5</td>\n",
       "      <td>6.9</td>\n",
       "      <td>27.1</td>\n",
       "      <td>0.9</td>\n",
       "      <td>0.4</td>\n",
       "      <td>38.5</td>\n",
       "    </tr>\n",
       "    <tr>\n",
       "      <th>651</th>\n",
       "      <td>Karl-Anthony Towns</td>\n",
       "      <td>PF</td>\n",
       "      <td>28</td>\n",
       "      <td>MIN</td>\n",
       "      <td>62</td>\n",
       "      <td>0.504</td>\n",
       "      <td>8.3</td>\n",
       "      <td>3.0</td>\n",
       "      <td>21.8</td>\n",
       "      <td>0.7</td>\n",
       "      <td>0.7</td>\n",
       "      <td>33.1</td>\n",
       "    </tr>\n",
       "    <tr>\n",
       "      <th>637</th>\n",
       "      <td>Cam Thomas</td>\n",
       "      <td>SG</td>\n",
       "      <td>22</td>\n",
       "      <td>BRK</td>\n",
       "      <td>66</td>\n",
       "      <td>0.442</td>\n",
       "      <td>3.2</td>\n",
       "      <td>2.9</td>\n",
       "      <td>22.5</td>\n",
       "      <td>0.7</td>\n",
       "      <td>0.2</td>\n",
       "      <td>28.6</td>\n",
       "    </tr>\n",
       "    <tr>\n",
       "      <th>316</th>\n",
       "      <td>Jaden Ivey</td>\n",
       "      <td>SG</td>\n",
       "      <td>21</td>\n",
       "      <td>DET</td>\n",
       "      <td>77</td>\n",
       "      <td>0.429</td>\n",
       "      <td>3.4</td>\n",
       "      <td>3.8</td>\n",
       "      <td>15.4</td>\n",
       "      <td>0.7</td>\n",
       "      <td>0.5</td>\n",
       "      <td>22.6</td>\n",
       "    </tr>\n",
       "  </tbody>\n",
       "</table>\n",
       "</div>"
      ],
      "text/plain": [
       "                 Player Pos  Age   Tm   G    FG%   TRB  AST   PTS  STL  BLK  \\\n",
       "415        Tyrese Maxey  PG   23  PHI  70  0.450   3.7  6.2  25.9  1.0  0.5   \n",
       "577    Domantas Sabonis   C   27  SAC  82  0.594  13.7  8.2  19.4  0.9  0.6   \n",
       "325        LeBron James  PF   39  LAL  71  0.540   7.3  8.3  25.7  1.3  0.5   \n",
       "268        James Harden  PG   34  LAC  72  0.428   5.1  8.5  16.6  1.1  0.8   \n",
       "590      Alperen Sengun   C   21  HOU  63  0.537   9.3  5.0  21.1  1.2  0.7   \n",
       "693          Coby White  PG   23  CHI  79  0.447   4.5  5.1  19.1  0.7  0.2   \n",
       "300       Chet Holmgren   C   21  OKC  82  0.530   7.9  2.4  16.5  0.6  2.3   \n",
       "153       Stephen Curry  PG   35  GSW  74  0.450   4.5  5.1  26.4  0.7  0.4   \n",
       "666      Nikola Vucevic   C   33  CHI  76  0.484  10.5  3.3  18.0  0.7  0.8   \n",
       "662       Fred VanVleet  PG   29  HOU  73  0.416   3.8  8.1  17.4  1.4  0.8   \n",
       "508     Kelly Oubre Jr.  SF   28  PHI  68  0.441   5.0  1.5  15.4  1.1  0.7   \n",
       "528        Jordan Poole  SG   24  WAS  78  0.413   2.7  4.4  17.4  1.1  0.3   \n",
       "705      Jalen Williams  PF   22  OKC  71  0.540   4.0  4.5  19.1  1.1  0.6   \n",
       "337      Keldon Johnson  SF   24  SAS  69  0.454   5.5  2.8  15.7  0.7  0.3   \n",
       "715     Zion Williamson  PF   23  NOP  70  0.570   5.8  5.0  22.9  1.1  0.7   \n",
       "39       Scottie Barnes  SG   22  TOR  60  0.475   8.2  6.1  19.9  1.3  1.5   \n",
       "81         Devin Booker  PG   27  PHO  68  0.492   4.5  6.9  27.1  0.9  0.4   \n",
       "651  Karl-Anthony Towns  PF   28  MIN  62  0.504   8.3  3.0  21.8  0.7  0.7   \n",
       "637          Cam Thomas  SG   22  BRK  66  0.442   3.2  2.9  22.5  0.7  0.2   \n",
       "316          Jaden Ivey  SG   21  DET  77  0.429   3.4  3.8  15.4  0.7  0.5   \n",
       "\n",
       "     P_R_A  \n",
       "415   35.8  \n",
       "577   41.3  \n",
       "325   41.3  \n",
       "268   30.2  \n",
       "590   35.4  \n",
       "693   28.7  \n",
       "300   26.8  \n",
       "153   36.0  \n",
       "666   31.8  \n",
       "662   29.3  \n",
       "508   21.9  \n",
       "528   24.5  \n",
       "705   27.6  \n",
       "337   24.0  \n",
       "715   33.7  \n",
       "39    34.2  \n",
       "81    38.5  \n",
       "651   33.1  \n",
       "637   28.6  \n",
       "316   22.6  "
      ]
     },
     "execution_count": 29,
     "metadata": {},
     "output_type": "execute_result"
    }
   ],
   "source": [
    "nba_stats_df.sample(20)"
   ]
  },
  {
   "cell_type": "markdown",
   "metadata": {},
   "source": [
    "<div class=\"alert alert-info\">\n",
    "<h2> Student's comment</h2>\n",
    "\n",
    "The P_R_A column is the total points, rebounds, and assist per player. This will be considered \"total contribution\" which will show who actually single handedly helps their team the most.\n",
    "</div>"
   ]
  },
  {
   "cell_type": "code",
   "execution_count": 30,
   "metadata": {},
   "outputs": [],
   "source": [
    "total_contribution = nba_stats_df.sort_values(by='P_R_A', ascending=False)"
   ]
  },
  {
   "cell_type": "code",
   "execution_count": 31,
   "metadata": {},
   "outputs": [
    {
     "data": {
      "text/html": [
       "<div>\n",
       "<style scoped>\n",
       "    .dataframe tbody tr th:only-of-type {\n",
       "        vertical-align: middle;\n",
       "    }\n",
       "\n",
       "    .dataframe tbody tr th {\n",
       "        vertical-align: top;\n",
       "    }\n",
       "\n",
       "    .dataframe thead th {\n",
       "        text-align: right;\n",
       "    }\n",
       "</style>\n",
       "<table border=\"1\" class=\"dataframe\">\n",
       "  <thead>\n",
       "    <tr style=\"text-align: right;\">\n",
       "      <th></th>\n",
       "      <th>index</th>\n",
       "      <th>Player</th>\n",
       "      <th>Pos</th>\n",
       "      <th>Age</th>\n",
       "      <th>Tm</th>\n",
       "      <th>G</th>\n",
       "      <th>FG%</th>\n",
       "      <th>TRB</th>\n",
       "      <th>AST</th>\n",
       "      <th>PTS</th>\n",
       "      <th>STL</th>\n",
       "      <th>BLK</th>\n",
       "      <th>P_R_A</th>\n",
       "    </tr>\n",
       "  </thead>\n",
       "  <tbody>\n",
       "    <tr>\n",
       "      <th>0</th>\n",
       "      <td>171</td>\n",
       "      <td>Luka Doncic</td>\n",
       "      <td>PG</td>\n",
       "      <td>24</td>\n",
       "      <td>DAL</td>\n",
       "      <td>70</td>\n",
       "      <td>0.487</td>\n",
       "      <td>9.2</td>\n",
       "      <td>9.8</td>\n",
       "      <td>33.9</td>\n",
       "      <td>1.4</td>\n",
       "      <td>0.5</td>\n",
       "      <td>52.9</td>\n",
       "    </tr>\n",
       "    <tr>\n",
       "      <th>1</th>\n",
       "      <td>14</td>\n",
       "      <td>Giannis Antetokounmpo</td>\n",
       "      <td>PF</td>\n",
       "      <td>29</td>\n",
       "      <td>MIL</td>\n",
       "      <td>73</td>\n",
       "      <td>0.611</td>\n",
       "      <td>11.5</td>\n",
       "      <td>6.5</td>\n",
       "      <td>30.4</td>\n",
       "      <td>1.2</td>\n",
       "      <td>1.1</td>\n",
       "      <td>48.4</td>\n",
       "    </tr>\n",
       "    <tr>\n",
       "      <th>2</th>\n",
       "      <td>340</td>\n",
       "      <td>Nikola Jokic</td>\n",
       "      <td>C</td>\n",
       "      <td>28</td>\n",
       "      <td>DEN</td>\n",
       "      <td>79</td>\n",
       "      <td>0.583</td>\n",
       "      <td>12.4</td>\n",
       "      <td>9.0</td>\n",
       "      <td>26.4</td>\n",
       "      <td>1.4</td>\n",
       "      <td>0.9</td>\n",
       "      <td>47.8</td>\n",
       "    </tr>\n",
       "    <tr>\n",
       "      <th>3</th>\n",
       "      <td>235</td>\n",
       "      <td>Shai Gilgeous-Alexander</td>\n",
       "      <td>PG</td>\n",
       "      <td>25</td>\n",
       "      <td>OKC</td>\n",
       "      <td>75</td>\n",
       "      <td>0.535</td>\n",
       "      <td>5.5</td>\n",
       "      <td>6.2</td>\n",
       "      <td>30.1</td>\n",
       "      <td>2.0</td>\n",
       "      <td>0.9</td>\n",
       "      <td>41.8</td>\n",
       "    </tr>\n",
       "    <tr>\n",
       "      <th>4</th>\n",
       "      <td>325</td>\n",
       "      <td>LeBron James</td>\n",
       "      <td>PF</td>\n",
       "      <td>39</td>\n",
       "      <td>LAL</td>\n",
       "      <td>71</td>\n",
       "      <td>0.540</td>\n",
       "      <td>7.3</td>\n",
       "      <td>8.3</td>\n",
       "      <td>25.7</td>\n",
       "      <td>1.3</td>\n",
       "      <td>0.5</td>\n",
       "      <td>41.3</td>\n",
       "    </tr>\n",
       "    <tr>\n",
       "      <th>5</th>\n",
       "      <td>577</td>\n",
       "      <td>Domantas Sabonis</td>\n",
       "      <td>C</td>\n",
       "      <td>27</td>\n",
       "      <td>SAC</td>\n",
       "      <td>82</td>\n",
       "      <td>0.594</td>\n",
       "      <td>13.7</td>\n",
       "      <td>8.2</td>\n",
       "      <td>19.4</td>\n",
       "      <td>0.9</td>\n",
       "      <td>0.6</td>\n",
       "      <td>41.3</td>\n",
       "    </tr>\n",
       "    <tr>\n",
       "      <th>6</th>\n",
       "      <td>155</td>\n",
       "      <td>Anthony Davis</td>\n",
       "      <td>C</td>\n",
       "      <td>30</td>\n",
       "      <td>LAL</td>\n",
       "      <td>76</td>\n",
       "      <td>0.556</td>\n",
       "      <td>12.6</td>\n",
       "      <td>3.5</td>\n",
       "      <td>24.7</td>\n",
       "      <td>1.2</td>\n",
       "      <td>2.3</td>\n",
       "      <td>40.8</td>\n",
       "    </tr>\n",
       "    <tr>\n",
       "      <th>7</th>\n",
       "      <td>630</td>\n",
       "      <td>Jayson Tatum</td>\n",
       "      <td>PF</td>\n",
       "      <td>25</td>\n",
       "      <td>BOS</td>\n",
       "      <td>74</td>\n",
       "      <td>0.471</td>\n",
       "      <td>8.1</td>\n",
       "      <td>4.9</td>\n",
       "      <td>26.9</td>\n",
       "      <td>1.0</td>\n",
       "      <td>0.6</td>\n",
       "      <td>39.9</td>\n",
       "    </tr>\n",
       "    <tr>\n",
       "      <th>8</th>\n",
       "      <td>109</td>\n",
       "      <td>Jalen Brunson</td>\n",
       "      <td>PG</td>\n",
       "      <td>27</td>\n",
       "      <td>NYK</td>\n",
       "      <td>77</td>\n",
       "      <td>0.479</td>\n",
       "      <td>3.6</td>\n",
       "      <td>6.7</td>\n",
       "      <td>28.7</td>\n",
       "      <td>0.9</td>\n",
       "      <td>0.2</td>\n",
       "      <td>39.0</td>\n",
       "    </tr>\n",
       "    <tr>\n",
       "      <th>9</th>\n",
       "      <td>180</td>\n",
       "      <td>Kevin Durant</td>\n",
       "      <td>PF</td>\n",
       "      <td>35</td>\n",
       "      <td>PHO</td>\n",
       "      <td>75</td>\n",
       "      <td>0.523</td>\n",
       "      <td>6.6</td>\n",
       "      <td>5.0</td>\n",
       "      <td>27.1</td>\n",
       "      <td>0.9</td>\n",
       "      <td>1.2</td>\n",
       "      <td>38.7</td>\n",
       "    </tr>\n",
       "    <tr>\n",
       "      <th>10</th>\n",
       "      <td>81</td>\n",
       "      <td>Devin Booker</td>\n",
       "      <td>PG</td>\n",
       "      <td>27</td>\n",
       "      <td>PHO</td>\n",
       "      <td>68</td>\n",
       "      <td>0.492</td>\n",
       "      <td>4.5</td>\n",
       "      <td>6.9</td>\n",
       "      <td>27.1</td>\n",
       "      <td>0.9</td>\n",
       "      <td>0.4</td>\n",
       "      <td>38.5</td>\n",
       "    </tr>\n",
       "    <tr>\n",
       "      <th>11</th>\n",
       "      <td>207</td>\n",
       "      <td>De'Aaron Fox</td>\n",
       "      <td>PG</td>\n",
       "      <td>26</td>\n",
       "      <td>SAC</td>\n",
       "      <td>74</td>\n",
       "      <td>0.465</td>\n",
       "      <td>4.6</td>\n",
       "      <td>5.6</td>\n",
       "      <td>26.6</td>\n",
       "      <td>2.0</td>\n",
       "      <td>0.4</td>\n",
       "      <td>36.8</td>\n",
       "    </tr>\n",
       "    <tr>\n",
       "      <th>12</th>\n",
       "      <td>183</td>\n",
       "      <td>Anthony Edwards</td>\n",
       "      <td>SG</td>\n",
       "      <td>22</td>\n",
       "      <td>MIN</td>\n",
       "      <td>79</td>\n",
       "      <td>0.461</td>\n",
       "      <td>5.4</td>\n",
       "      <td>5.1</td>\n",
       "      <td>25.9</td>\n",
       "      <td>1.3</td>\n",
       "      <td>0.5</td>\n",
       "      <td>36.4</td>\n",
       "    </tr>\n",
       "    <tr>\n",
       "      <th>13</th>\n",
       "      <td>153</td>\n",
       "      <td>Stephen Curry</td>\n",
       "      <td>PG</td>\n",
       "      <td>35</td>\n",
       "      <td>GSW</td>\n",
       "      <td>74</td>\n",
       "      <td>0.450</td>\n",
       "      <td>4.5</td>\n",
       "      <td>5.1</td>\n",
       "      <td>26.4</td>\n",
       "      <td>0.7</td>\n",
       "      <td>0.4</td>\n",
       "      <td>36.0</td>\n",
       "    </tr>\n",
       "    <tr>\n",
       "      <th>14</th>\n",
       "      <td>690</td>\n",
       "      <td>Victor Wembanyama</td>\n",
       "      <td>C</td>\n",
       "      <td>20</td>\n",
       "      <td>SAS</td>\n",
       "      <td>71</td>\n",
       "      <td>0.465</td>\n",
       "      <td>10.6</td>\n",
       "      <td>3.9</td>\n",
       "      <td>21.4</td>\n",
       "      <td>1.2</td>\n",
       "      <td>3.6</td>\n",
       "      <td>35.9</td>\n",
       "    </tr>\n",
       "    <tr>\n",
       "      <th>15</th>\n",
       "      <td>415</td>\n",
       "      <td>Tyrese Maxey</td>\n",
       "      <td>PG</td>\n",
       "      <td>23</td>\n",
       "      <td>PHI</td>\n",
       "      <td>70</td>\n",
       "      <td>0.450</td>\n",
       "      <td>3.7</td>\n",
       "      <td>6.2</td>\n",
       "      <td>25.9</td>\n",
       "      <td>1.0</td>\n",
       "      <td>0.5</td>\n",
       "      <td>35.8</td>\n",
       "    </tr>\n",
       "    <tr>\n",
       "      <th>16</th>\n",
       "      <td>378</td>\n",
       "      <td>Damian Lillard</td>\n",
       "      <td>PG</td>\n",
       "      <td>33</td>\n",
       "      <td>MIL</td>\n",
       "      <td>73</td>\n",
       "      <td>0.424</td>\n",
       "      <td>4.4</td>\n",
       "      <td>7.0</td>\n",
       "      <td>24.3</td>\n",
       "      <td>1.0</td>\n",
       "      <td>0.2</td>\n",
       "      <td>35.7</td>\n",
       "    </tr>\n",
       "    <tr>\n",
       "      <th>17</th>\n",
       "      <td>590</td>\n",
       "      <td>Alperen Sengun</td>\n",
       "      <td>C</td>\n",
       "      <td>21</td>\n",
       "      <td>HOU</td>\n",
       "      <td>63</td>\n",
       "      <td>0.537</td>\n",
       "      <td>9.3</td>\n",
       "      <td>5.0</td>\n",
       "      <td>21.1</td>\n",
       "      <td>1.2</td>\n",
       "      <td>0.7</td>\n",
       "      <td>35.4</td>\n",
       "    </tr>\n",
       "    <tr>\n",
       "      <th>18</th>\n",
       "      <td>265</td>\n",
       "      <td>Tyrese Haliburton</td>\n",
       "      <td>PG</td>\n",
       "      <td>23</td>\n",
       "      <td>IND</td>\n",
       "      <td>69</td>\n",
       "      <td>0.477</td>\n",
       "      <td>3.9</td>\n",
       "      <td>10.9</td>\n",
       "      <td>20.1</td>\n",
       "      <td>1.2</td>\n",
       "      <td>0.7</td>\n",
       "      <td>34.9</td>\n",
       "    </tr>\n",
       "    <tr>\n",
       "      <th>19</th>\n",
       "      <td>32</td>\n",
       "      <td>Paolo Banchero</td>\n",
       "      <td>PF</td>\n",
       "      <td>21</td>\n",
       "      <td>ORL</td>\n",
       "      <td>80</td>\n",
       "      <td>0.455</td>\n",
       "      <td>6.9</td>\n",
       "      <td>5.4</td>\n",
       "      <td>22.6</td>\n",
       "      <td>0.9</td>\n",
       "      <td>0.6</td>\n",
       "      <td>34.9</td>\n",
       "    </tr>\n",
       "  </tbody>\n",
       "</table>\n",
       "</div>"
      ],
      "text/plain": [
       "    index                   Player Pos  Age   Tm   G    FG%   TRB   AST   PTS  \\\n",
       "0     171              Luka Doncic  PG   24  DAL  70  0.487   9.2   9.8  33.9   \n",
       "1      14    Giannis Antetokounmpo  PF   29  MIL  73  0.611  11.5   6.5  30.4   \n",
       "2     340             Nikola Jokic   C   28  DEN  79  0.583  12.4   9.0  26.4   \n",
       "3     235  Shai Gilgeous-Alexander  PG   25  OKC  75  0.535   5.5   6.2  30.1   \n",
       "4     325             LeBron James  PF   39  LAL  71  0.540   7.3   8.3  25.7   \n",
       "5     577         Domantas Sabonis   C   27  SAC  82  0.594  13.7   8.2  19.4   \n",
       "6     155            Anthony Davis   C   30  LAL  76  0.556  12.6   3.5  24.7   \n",
       "7     630             Jayson Tatum  PF   25  BOS  74  0.471   8.1   4.9  26.9   \n",
       "8     109            Jalen Brunson  PG   27  NYK  77  0.479   3.6   6.7  28.7   \n",
       "9     180             Kevin Durant  PF   35  PHO  75  0.523   6.6   5.0  27.1   \n",
       "10     81             Devin Booker  PG   27  PHO  68  0.492   4.5   6.9  27.1   \n",
       "11    207             De'Aaron Fox  PG   26  SAC  74  0.465   4.6   5.6  26.6   \n",
       "12    183          Anthony Edwards  SG   22  MIN  79  0.461   5.4   5.1  25.9   \n",
       "13    153            Stephen Curry  PG   35  GSW  74  0.450   4.5   5.1  26.4   \n",
       "14    690        Victor Wembanyama   C   20  SAS  71  0.465  10.6   3.9  21.4   \n",
       "15    415             Tyrese Maxey  PG   23  PHI  70  0.450   3.7   6.2  25.9   \n",
       "16    378           Damian Lillard  PG   33  MIL  73  0.424   4.4   7.0  24.3   \n",
       "17    590           Alperen Sengun   C   21  HOU  63  0.537   9.3   5.0  21.1   \n",
       "18    265        Tyrese Haliburton  PG   23  IND  69  0.477   3.9  10.9  20.1   \n",
       "19     32           Paolo Banchero  PF   21  ORL  80  0.455   6.9   5.4  22.6   \n",
       "\n",
       "    STL  BLK  P_R_A  \n",
       "0   1.4  0.5   52.9  \n",
       "1   1.2  1.1   48.4  \n",
       "2   1.4  0.9   47.8  \n",
       "3   2.0  0.9   41.8  \n",
       "4   1.3  0.5   41.3  \n",
       "5   0.9  0.6   41.3  \n",
       "6   1.2  2.3   40.8  \n",
       "7   1.0  0.6   39.9  \n",
       "8   0.9  0.2   39.0  \n",
       "9   0.9  1.2   38.7  \n",
       "10  0.9  0.4   38.5  \n",
       "11  2.0  0.4   36.8  \n",
       "12  1.3  0.5   36.4  \n",
       "13  0.7  0.4   36.0  \n",
       "14  1.2  3.6   35.9  \n",
       "15  1.0  0.5   35.8  \n",
       "16  1.0  0.2   35.7  \n",
       "17  1.2  0.7   35.4  \n",
       "18  1.2  0.7   34.9  \n",
       "19  0.9  0.6   34.9  "
      ]
     },
     "execution_count": 31,
     "metadata": {},
     "output_type": "execute_result"
    }
   ],
   "source": [
    "total_contribution.head(20).reset_index()"
   ]
  },
  {
   "cell_type": "markdown",
   "metadata": {},
   "source": [
    "<div class=\"alert alert-info\">\n",
    "<h2> Student's comment</h2>\n",
    "\n",
    "This list is the top 20 players in the NBA that contributed most to their teams during the 2023/2024 regular season.\n",
    "</div>"
   ]
  },
  {
   "cell_type": "code",
   "execution_count": 32,
   "metadata": {},
   "outputs": [
    {
     "data": {
      "image/png": "[encoded data removed]",
      "text/plain": [
       "<Figure size 1000x600 with 1 Axes>"
      ]
     },
     "metadata": {},
     "output_type": "display_data"
    }
   ],
   "source": [
    "plt.figure(figsize=(10, 6))\n",
    "plt.hist(nba_stats_df['P_R_A'], bins=10, edgecolor='black')\n",
    "plt.title('Distribution of P_R_A')\n",
    "plt.xlabel('P_R_A')\n",
    "plt.ylabel('Frequency')\n",
    "plt.grid(True)\n",
    "plt.show()"
   ]
  },
  {
   "cell_type": "markdown",
   "metadata": {},
   "source": [
    "<div class=\"alert alert-info\">\n",
    "<h2> Student's comment</h2>\n",
    "\n",
    "Looking at this P_R_A histogram you can see that most of the players are between 30-35, with the top 3 being around 47-53!\n",
    "</div>"
   ]
  },
  {
   "cell_type": "code",
   "execution_count": 33,
   "metadata": {},
   "outputs": [],
   "source": [
    "team_stats = total_contribution.groupby('Tm')"
   ]
  },
  {
   "cell_type": "code",
   "execution_count": 34,
   "metadata": {},
   "outputs": [
    {
     "name": "stdout",
     "output_type": "stream",
     "text": [
      "<class 'pandas.core.frame.DataFrame'>\n",
      "Index: 70 entries, 171 to 170\n",
      "Data columns (total 12 columns):\n",
      " #   Column  Non-Null Count  Dtype  \n",
      "---  ------  --------------  -----  \n",
      " 0   Player  70 non-null     object \n",
      " 1   Pos     70 non-null     object \n",
      " 2   Age     70 non-null     int64  \n",
      " 3   Tm      70 non-null     object \n",
      " 4   G       70 non-null     int64  \n",
      " 5   FG%     70 non-null     float64\n",
      " 6   TRB     70 non-null     float64\n",
      " 7   AST     70 non-null     float64\n",
      " 8   PTS     70 non-null     float64\n",
      " 9   STL     70 non-null     float64\n",
      " 10  BLK     70 non-null     float64\n",
      " 11  P_R_A   70 non-null     float64\n",
      "dtypes: float64(7), int64(2), object(3)\n",
      "memory usage: 7.1+ KB\n"
     ]
    }
   ],
   "source": [
    "total_contribution.info()"
   ]
  },
  {
   "cell_type": "code",
   "execution_count": 35,
   "metadata": {},
   "outputs": [],
   "source": [
    "grouped_tm = total_contribution.groupby('Tm')['P_R_A'].sum().reset_index()"
   ]
  },
  {
   "cell_type": "code",
   "execution_count": 36,
   "metadata": {},
   "outputs": [
    {
     "data": {
      "text/html": [
       "<div>\n",
       "<style scoped>\n",
       "    .dataframe tbody tr th:only-of-type {\n",
       "        vertical-align: middle;\n",
       "    }\n",
       "\n",
       "    .dataframe tbody tr th {\n",
       "        vertical-align: top;\n",
       "    }\n",
       "\n",
       "    .dataframe thead th {\n",
       "        text-align: right;\n",
       "    }\n",
       "</style>\n",
       "<table border=\"1\" class=\"dataframe\">\n",
       "  <thead>\n",
       "    <tr style=\"text-align: right;\">\n",
       "      <th></th>\n",
       "      <th>Tm</th>\n",
       "      <th>P_R_A</th>\n",
       "    </tr>\n",
       "  </thead>\n",
       "  <tbody>\n",
       "    <tr>\n",
       "      <th>0</th>\n",
       "      <td>ATL</td>\n",
       "      <td>57.6</td>\n",
       "    </tr>\n",
       "    <tr>\n",
       "      <th>1</th>\n",
       "      <td>BOS</td>\n",
       "      <td>96.6</td>\n",
       "    </tr>\n",
       "    <tr>\n",
       "      <th>2</th>\n",
       "      <td>BRK</td>\n",
       "      <td>56.3</td>\n",
       "    </tr>\n",
       "    <tr>\n",
       "      <th>3</th>\n",
       "      <td>CHI</td>\n",
       "      <td>94.1</td>\n",
       "    </tr>\n",
       "    <tr>\n",
       "      <th>4</th>\n",
       "      <td>CHO</td>\n",
       "      <td>55.6</td>\n",
       "    </tr>\n",
       "    <tr>\n",
       "      <th>5</th>\n",
       "      <td>CLE</td>\n",
       "      <td>29.7</td>\n",
       "    </tr>\n",
       "    <tr>\n",
       "      <th>6</th>\n",
       "      <td>DAL</td>\n",
       "      <td>52.9</td>\n",
       "    </tr>\n",
       "    <tr>\n",
       "      <th>7</th>\n",
       "      <td>DEN</td>\n",
       "      <td>73.0</td>\n",
       "    </tr>\n",
       "    <tr>\n",
       "      <th>8</th>\n",
       "      <td>DET</td>\n",
       "      <td>57.1</td>\n",
       "    </tr>\n",
       "    <tr>\n",
       "      <th>9</th>\n",
       "      <td>GSW</td>\n",
       "      <td>82.6</td>\n",
       "    </tr>\n",
       "    <tr>\n",
       "      <th>10</th>\n",
       "      <td>HOU</td>\n",
       "      <td>93.0</td>\n",
       "    </tr>\n",
       "    <tr>\n",
       "      <th>11</th>\n",
       "      <td>IND</td>\n",
       "      <td>60.2</td>\n",
       "    </tr>\n",
       "    <tr>\n",
       "      <th>12</th>\n",
       "      <td>LAC</td>\n",
       "      <td>94.9</td>\n",
       "    </tr>\n",
       "    <tr>\n",
       "      <th>13</th>\n",
       "      <td>LAL</td>\n",
       "      <td>135.2</td>\n",
       "    </tr>\n",
       "    <tr>\n",
       "      <th>14</th>\n",
       "      <td>MEM</td>\n",
       "      <td>30.3</td>\n",
       "    </tr>\n",
       "    <tr>\n",
       "      <th>15</th>\n",
       "      <td>MIA</td>\n",
       "      <td>64.7</td>\n",
       "    </tr>\n",
       "    <tr>\n",
       "      <th>16</th>\n",
       "      <td>MIL</td>\n",
       "      <td>84.1</td>\n",
       "    </tr>\n",
       "    <tr>\n",
       "      <th>17</th>\n",
       "      <td>MIN</td>\n",
       "      <td>69.5</td>\n",
       "    </tr>\n",
       "    <tr>\n",
       "      <th>18</th>\n",
       "      <td>NOP</td>\n",
       "      <td>94.2</td>\n",
       "    </tr>\n",
       "    <tr>\n",
       "      <th>19</th>\n",
       "      <td>NYK</td>\n",
       "      <td>60.9</td>\n",
       "    </tr>\n",
       "    <tr>\n",
       "      <th>20</th>\n",
       "      <td>OKC</td>\n",
       "      <td>96.2</td>\n",
       "    </tr>\n",
       "  </tbody>\n",
       "</table>\n",
       "</div>"
      ],
      "text/plain": [
       "     Tm  P_R_A\n",
       "0   ATL   57.6\n",
       "1   BOS   96.6\n",
       "2   BRK   56.3\n",
       "3   CHI   94.1\n",
       "4   CHO   55.6\n",
       "5   CLE   29.7\n",
       "6   DAL   52.9\n",
       "7   DEN   73.0\n",
       "8   DET   57.1\n",
       "9   GSW   82.6\n",
       "10  HOU   93.0\n",
       "11  IND   60.2\n",
       "12  LAC   94.9\n",
       "13  LAL  135.2\n",
       "14  MEM   30.3\n",
       "15  MIA   64.7\n",
       "16  MIL   84.1\n",
       "17  MIN   69.5\n",
       "18  NOP   94.2\n",
       "19  NYK   60.9\n",
       "20  OKC   96.2"
      ]
     },
     "execution_count": 36,
     "metadata": {},
     "output_type": "execute_result"
    }
   ],
   "source": [
    "grouped_tm.head(21)"
   ]
  },
  {
   "cell_type": "code",
   "execution_count": 37,
   "metadata": {},
   "outputs": [
    {
     "data": {
      "image/png": "[encoded data removed]",
      "text/plain": [
       "<Figure size 1000x600 with 1 Axes>"
      ]
     },
     "metadata": {},
     "output_type": "display_data"
    }
   ],
   "source": [
    "plt.figure(figsize=(10, 6))\n",
    "plt.bar(grouped_tm['Tm'], grouped_tm['P_R_A'], color='skyblue')\n",
    "plt.title('Total P_R_A by Team')\n",
    "plt.xlabel('Team')\n",
    "plt.ylabel('Total P_R_A')\n",
    "plt.xticks(rotation=45)\n",
    "plt.grid(axis='y', linestyle='--', alpha=0.7)\n",
    "plt.tight_layout()\n",
    "plt.show()"
   ]
  },
  {
   "cell_type": "markdown",
   "metadata": {},
   "source": [
    "<div class=\"alert alert-info\">\n",
    "<h2> Student's comment</h2>\n",
    "\n",
    "I was also interested in seeing which teams had the most P_R_A. This most likely is due to having more than 1 player on the top 20. And also stating that just because you have the 'best players' does not mean you have the best team.\n",
    "</div>"
   ]
  },
  {
   "cell_type": "code",
   "execution_count": 38,
   "metadata": {},
   "outputs": [
    {
     "data": {
      "text/plain": [
       "Tm\n",
       "LAL    4\n",
       "SAC    4\n",
       "TOT    3\n",
       "GSW    3\n",
       "CHI    3\n",
       "LAC    3\n",
       "HOU    3\n",
       "PHI    3\n",
       "SAS    3\n",
       "NOP    3\n",
       "BOS    3\n",
       "OKC    3\n",
       "ATL    2\n",
       "WAS    2\n",
       "CHO    2\n",
       "BRK    2\n",
       "MIA    2\n",
       "ORL    2\n",
       "UTA    2\n",
       "DET    2\n",
       "MIL    2\n",
       "Name: count, dtype: int64"
      ]
     },
     "execution_count": 38,
     "metadata": {},
     "output_type": "execute_result"
    }
   ],
   "source": [
    "team_counts = total_contribution['Tm'].value_counts()\n",
    "team_counts.head(21)"
   ]
  },
  {
   "cell_type": "markdown",
   "metadata": {},
   "source": [
    "<div class=\"alert alert-info\">\n",
    "<h2> Student's comment</h2>\n",
    "\n",
    "As I stated with the graph before we can see that both LAL and SAC have the most players on the top 20 list, which is why they have the highest P_R_A on the graph. \n",
    "</div>"
   ]
  },
  {
   "cell_type": "code",
   "execution_count": 39,
   "metadata": {},
   "outputs": [
    {
     "data": {
      "text/html": [
       "<div>\n",
       "<style scoped>\n",
       "    .dataframe tbody tr th:only-of-type {\n",
       "        vertical-align: middle;\n",
       "    }\n",
       "\n",
       "    .dataframe tbody tr th {\n",
       "        vertical-align: top;\n",
       "    }\n",
       "\n",
       "    .dataframe thead th {\n",
       "        text-align: right;\n",
       "    }\n",
       "</style>\n",
       "<table border=\"1\" class=\"dataframe\">\n",
       "  <thead>\n",
       "    <tr style=\"text-align: right;\">\n",
       "      <th></th>\n",
       "      <th>Player</th>\n",
       "      <th>Pos</th>\n",
       "      <th>Age</th>\n",
       "      <th>Tm</th>\n",
       "      <th>G</th>\n",
       "      <th>FG%</th>\n",
       "      <th>TRB</th>\n",
       "      <th>AST</th>\n",
       "      <th>PTS</th>\n",
       "      <th>STL</th>\n",
       "      <th>BLK</th>\n",
       "      <th>P_R_A</th>\n",
       "    </tr>\n",
       "  </thead>\n",
       "  <tbody>\n",
       "    <tr>\n",
       "      <th>171</th>\n",
       "      <td>Luka Doncic</td>\n",
       "      <td>PG</td>\n",
       "      <td>24</td>\n",
       "      <td>DAL</td>\n",
       "      <td>70</td>\n",
       "      <td>0.487</td>\n",
       "      <td>9.2</td>\n",
       "      <td>9.8</td>\n",
       "      <td>33.9</td>\n",
       "      <td>1.4</td>\n",
       "      <td>0.5</td>\n",
       "      <td>52.9</td>\n",
       "    </tr>\n",
       "    <tr>\n",
       "      <th>14</th>\n",
       "      <td>Giannis Antetokounmpo</td>\n",
       "      <td>PF</td>\n",
       "      <td>29</td>\n",
       "      <td>MIL</td>\n",
       "      <td>73</td>\n",
       "      <td>0.611</td>\n",
       "      <td>11.5</td>\n",
       "      <td>6.5</td>\n",
       "      <td>30.4</td>\n",
       "      <td>1.2</td>\n",
       "      <td>1.1</td>\n",
       "      <td>48.4</td>\n",
       "    </tr>\n",
       "    <tr>\n",
       "      <th>340</th>\n",
       "      <td>Nikola Jokic</td>\n",
       "      <td>C</td>\n",
       "      <td>28</td>\n",
       "      <td>DEN</td>\n",
       "      <td>79</td>\n",
       "      <td>0.583</td>\n",
       "      <td>12.4</td>\n",
       "      <td>9.0</td>\n",
       "      <td>26.4</td>\n",
       "      <td>1.4</td>\n",
       "      <td>0.9</td>\n",
       "      <td>47.8</td>\n",
       "    </tr>\n",
       "    <tr>\n",
       "      <th>235</th>\n",
       "      <td>Shai Gilgeous-Alexander</td>\n",
       "      <td>PG</td>\n",
       "      <td>25</td>\n",
       "      <td>OKC</td>\n",
       "      <td>75</td>\n",
       "      <td>0.535</td>\n",
       "      <td>5.5</td>\n",
       "      <td>6.2</td>\n",
       "      <td>30.1</td>\n",
       "      <td>2.0</td>\n",
       "      <td>0.9</td>\n",
       "      <td>41.8</td>\n",
       "    </tr>\n",
       "    <tr>\n",
       "      <th>325</th>\n",
       "      <td>LeBron James</td>\n",
       "      <td>PF</td>\n",
       "      <td>39</td>\n",
       "      <td>LAL</td>\n",
       "      <td>71</td>\n",
       "      <td>0.540</td>\n",
       "      <td>7.3</td>\n",
       "      <td>8.3</td>\n",
       "      <td>25.7</td>\n",
       "      <td>1.3</td>\n",
       "      <td>0.5</td>\n",
       "      <td>41.3</td>\n",
       "    </tr>\n",
       "    <tr>\n",
       "      <th>577</th>\n",
       "      <td>Domantas Sabonis</td>\n",
       "      <td>C</td>\n",
       "      <td>27</td>\n",
       "      <td>SAC</td>\n",
       "      <td>82</td>\n",
       "      <td>0.594</td>\n",
       "      <td>13.7</td>\n",
       "      <td>8.2</td>\n",
       "      <td>19.4</td>\n",
       "      <td>0.9</td>\n",
       "      <td>0.6</td>\n",
       "      <td>41.3</td>\n",
       "    </tr>\n",
       "    <tr>\n",
       "      <th>155</th>\n",
       "      <td>Anthony Davis</td>\n",
       "      <td>C</td>\n",
       "      <td>30</td>\n",
       "      <td>LAL</td>\n",
       "      <td>76</td>\n",
       "      <td>0.556</td>\n",
       "      <td>12.6</td>\n",
       "      <td>3.5</td>\n",
       "      <td>24.7</td>\n",
       "      <td>1.2</td>\n",
       "      <td>2.3</td>\n",
       "      <td>40.8</td>\n",
       "    </tr>\n",
       "    <tr>\n",
       "      <th>630</th>\n",
       "      <td>Jayson Tatum</td>\n",
       "      <td>PF</td>\n",
       "      <td>25</td>\n",
       "      <td>BOS</td>\n",
       "      <td>74</td>\n",
       "      <td>0.471</td>\n",
       "      <td>8.1</td>\n",
       "      <td>4.9</td>\n",
       "      <td>26.9</td>\n",
       "      <td>1.0</td>\n",
       "      <td>0.6</td>\n",
       "      <td>39.9</td>\n",
       "    </tr>\n",
       "    <tr>\n",
       "      <th>109</th>\n",
       "      <td>Jalen Brunson</td>\n",
       "      <td>PG</td>\n",
       "      <td>27</td>\n",
       "      <td>NYK</td>\n",
       "      <td>77</td>\n",
       "      <td>0.479</td>\n",
       "      <td>3.6</td>\n",
       "      <td>6.7</td>\n",
       "      <td>28.7</td>\n",
       "      <td>0.9</td>\n",
       "      <td>0.2</td>\n",
       "      <td>39.0</td>\n",
       "    </tr>\n",
       "    <tr>\n",
       "      <th>180</th>\n",
       "      <td>Kevin Durant</td>\n",
       "      <td>PF</td>\n",
       "      <td>35</td>\n",
       "      <td>PHO</td>\n",
       "      <td>75</td>\n",
       "      <td>0.523</td>\n",
       "      <td>6.6</td>\n",
       "      <td>5.0</td>\n",
       "      <td>27.1</td>\n",
       "      <td>0.9</td>\n",
       "      <td>1.2</td>\n",
       "      <td>38.7</td>\n",
       "    </tr>\n",
       "    <tr>\n",
       "      <th>81</th>\n",
       "      <td>Devin Booker</td>\n",
       "      <td>PG</td>\n",
       "      <td>27</td>\n",
       "      <td>PHO</td>\n",
       "      <td>68</td>\n",
       "      <td>0.492</td>\n",
       "      <td>4.5</td>\n",
       "      <td>6.9</td>\n",
       "      <td>27.1</td>\n",
       "      <td>0.9</td>\n",
       "      <td>0.4</td>\n",
       "      <td>38.5</td>\n",
       "    </tr>\n",
       "    <tr>\n",
       "      <th>207</th>\n",
       "      <td>De'Aaron Fox</td>\n",
       "      <td>PG</td>\n",
       "      <td>26</td>\n",
       "      <td>SAC</td>\n",
       "      <td>74</td>\n",
       "      <td>0.465</td>\n",
       "      <td>4.6</td>\n",
       "      <td>5.6</td>\n",
       "      <td>26.6</td>\n",
       "      <td>2.0</td>\n",
       "      <td>0.4</td>\n",
       "      <td>36.8</td>\n",
       "    </tr>\n",
       "    <tr>\n",
       "      <th>183</th>\n",
       "      <td>Anthony Edwards</td>\n",
       "      <td>SG</td>\n",
       "      <td>22</td>\n",
       "      <td>MIN</td>\n",
       "      <td>79</td>\n",
       "      <td>0.461</td>\n",
       "      <td>5.4</td>\n",
       "      <td>5.1</td>\n",
       "      <td>25.9</td>\n",
       "      <td>1.3</td>\n",
       "      <td>0.5</td>\n",
       "      <td>36.4</td>\n",
       "    </tr>\n",
       "    <tr>\n",
       "      <th>153</th>\n",
       "      <td>Stephen Curry</td>\n",
       "      <td>PG</td>\n",
       "      <td>35</td>\n",
       "      <td>GSW</td>\n",
       "      <td>74</td>\n",
       "      <td>0.450</td>\n",
       "      <td>4.5</td>\n",
       "      <td>5.1</td>\n",
       "      <td>26.4</td>\n",
       "      <td>0.7</td>\n",
       "      <td>0.4</td>\n",
       "      <td>36.0</td>\n",
       "    </tr>\n",
       "    <tr>\n",
       "      <th>690</th>\n",
       "      <td>Victor Wembanyama</td>\n",
       "      <td>C</td>\n",
       "      <td>20</td>\n",
       "      <td>SAS</td>\n",
       "      <td>71</td>\n",
       "      <td>0.465</td>\n",
       "      <td>10.6</td>\n",
       "      <td>3.9</td>\n",
       "      <td>21.4</td>\n",
       "      <td>1.2</td>\n",
       "      <td>3.6</td>\n",
       "      <td>35.9</td>\n",
       "    </tr>\n",
       "    <tr>\n",
       "      <th>415</th>\n",
       "      <td>Tyrese Maxey</td>\n",
       "      <td>PG</td>\n",
       "      <td>23</td>\n",
       "      <td>PHI</td>\n",
       "      <td>70</td>\n",
       "      <td>0.450</td>\n",
       "      <td>3.7</td>\n",
       "      <td>6.2</td>\n",
       "      <td>25.9</td>\n",
       "      <td>1.0</td>\n",
       "      <td>0.5</td>\n",
       "      <td>35.8</td>\n",
       "    </tr>\n",
       "    <tr>\n",
       "      <th>378</th>\n",
       "      <td>Damian Lillard</td>\n",
       "      <td>PG</td>\n",
       "      <td>33</td>\n",
       "      <td>MIL</td>\n",
       "      <td>73</td>\n",
       "      <td>0.424</td>\n",
       "      <td>4.4</td>\n",
       "      <td>7.0</td>\n",
       "      <td>24.3</td>\n",
       "      <td>1.0</td>\n",
       "      <td>0.2</td>\n",
       "      <td>35.7</td>\n",
       "    </tr>\n",
       "    <tr>\n",
       "      <th>590</th>\n",
       "      <td>Alperen Sengun</td>\n",
       "      <td>C</td>\n",
       "      <td>21</td>\n",
       "      <td>HOU</td>\n",
       "      <td>63</td>\n",
       "      <td>0.537</td>\n",
       "      <td>9.3</td>\n",
       "      <td>5.0</td>\n",
       "      <td>21.1</td>\n",
       "      <td>1.2</td>\n",
       "      <td>0.7</td>\n",
       "      <td>35.4</td>\n",
       "    </tr>\n",
       "    <tr>\n",
       "      <th>265</th>\n",
       "      <td>Tyrese Haliburton</td>\n",
       "      <td>PG</td>\n",
       "      <td>23</td>\n",
       "      <td>IND</td>\n",
       "      <td>69</td>\n",
       "      <td>0.477</td>\n",
       "      <td>3.9</td>\n",
       "      <td>10.9</td>\n",
       "      <td>20.1</td>\n",
       "      <td>1.2</td>\n",
       "      <td>0.7</td>\n",
       "      <td>34.9</td>\n",
       "    </tr>\n",
       "    <tr>\n",
       "      <th>32</th>\n",
       "      <td>Paolo Banchero</td>\n",
       "      <td>PF</td>\n",
       "      <td>21</td>\n",
       "      <td>ORL</td>\n",
       "      <td>80</td>\n",
       "      <td>0.455</td>\n",
       "      <td>6.9</td>\n",
       "      <td>5.4</td>\n",
       "      <td>22.6</td>\n",
       "      <td>0.9</td>\n",
       "      <td>0.6</td>\n",
       "      <td>34.9</td>\n",
       "    </tr>\n",
       "    <tr>\n",
       "      <th>149</th>\n",
       "      <td>Cade Cunningham</td>\n",
       "      <td>PG</td>\n",
       "      <td>22</td>\n",
       "      <td>DET</td>\n",
       "      <td>62</td>\n",
       "      <td>0.449</td>\n",
       "      <td>4.3</td>\n",
       "      <td>7.5</td>\n",
       "      <td>22.7</td>\n",
       "      <td>0.9</td>\n",
       "      <td>0.4</td>\n",
       "      <td>34.5</td>\n",
       "    </tr>\n",
       "  </tbody>\n",
       "</table>\n",
       "</div>"
      ],
      "text/plain": [
       "                      Player Pos  Age   Tm   G    FG%   TRB   AST   PTS  STL  \\\n",
       "171              Luka Doncic  PG   24  DAL  70  0.487   9.2   9.8  33.9  1.4   \n",
       "14     Giannis Antetokounmpo  PF   29  MIL  73  0.611  11.5   6.5  30.4  1.2   \n",
       "340             Nikola Jokic   C   28  DEN  79  0.583  12.4   9.0  26.4  1.4   \n",
       "235  Shai Gilgeous-Alexander  PG   25  OKC  75  0.535   5.5   6.2  30.1  2.0   \n",
       "325             LeBron James  PF   39  LAL  71  0.540   7.3   8.3  25.7  1.3   \n",
       "577         Domantas Sabonis   C   27  SAC  82  0.594  13.7   8.2  19.4  0.9   \n",
       "155            Anthony Davis   C   30  LAL  76  0.556  12.6   3.5  24.7  1.2   \n",
       "630             Jayson Tatum  PF   25  BOS  74  0.471   8.1   4.9  26.9  1.0   \n",
       "109            Jalen Brunson  PG   27  NYK  77  0.479   3.6   6.7  28.7  0.9   \n",
       "180             Kevin Durant  PF   35  PHO  75  0.523   6.6   5.0  27.1  0.9   \n",
       "81              Devin Booker  PG   27  PHO  68  0.492   4.5   6.9  27.1  0.9   \n",
       "207             De'Aaron Fox  PG   26  SAC  74  0.465   4.6   5.6  26.6  2.0   \n",
       "183          Anthony Edwards  SG   22  MIN  79  0.461   5.4   5.1  25.9  1.3   \n",
       "153            Stephen Curry  PG   35  GSW  74  0.450   4.5   5.1  26.4  0.7   \n",
       "690        Victor Wembanyama   C   20  SAS  71  0.465  10.6   3.9  21.4  1.2   \n",
       "415             Tyrese Maxey  PG   23  PHI  70  0.450   3.7   6.2  25.9  1.0   \n",
       "378           Damian Lillard  PG   33  MIL  73  0.424   4.4   7.0  24.3  1.0   \n",
       "590           Alperen Sengun   C   21  HOU  63  0.537   9.3   5.0  21.1  1.2   \n",
       "265        Tyrese Haliburton  PG   23  IND  69  0.477   3.9  10.9  20.1  1.2   \n",
       "32            Paolo Banchero  PF   21  ORL  80  0.455   6.9   5.4  22.6  0.9   \n",
       "149          Cade Cunningham  PG   22  DET  62  0.449   4.3   7.5  22.7  0.9   \n",
       "\n",
       "     BLK  P_R_A  \n",
       "171  0.5   52.9  \n",
       "14   1.1   48.4  \n",
       "340  0.9   47.8  \n",
       "235  0.9   41.8  \n",
       "325  0.5   41.3  \n",
       "577  0.6   41.3  \n",
       "155  2.3   40.8  \n",
       "630  0.6   39.9  \n",
       "109  0.2   39.0  \n",
       "180  1.2   38.7  \n",
       "81   0.4   38.5  \n",
       "207  0.4   36.8  \n",
       "183  0.5   36.4  \n",
       "153  0.4   36.0  \n",
       "690  3.6   35.9  \n",
       "415  0.5   35.8  \n",
       "378  0.2   35.7  \n",
       "590  0.7   35.4  \n",
       "265  0.7   34.9  \n",
       "32   0.6   34.9  \n",
       "149  0.4   34.5  "
      ]
     },
     "execution_count": 39,
     "metadata": {},
     "output_type": "execute_result"
    }
   ],
   "source": [
    "top_20 = total_contribution.head(21)\n",
    "top_20"
   ]
  },
  {
   "cell_type": "code",
   "execution_count": 40,
   "metadata": {},
   "outputs": [],
   "source": [
    "def top_player(df):\n",
    "    return df.loc[df['P_R_A'].idxmax()]"
   ]
  },
  {
   "cell_type": "code",
   "execution_count": 41,
   "metadata": {},
   "outputs": [
    {
     "name": "stderr",
     "output_type": "stream",
     "text": [
      "/var/folders/1f/1v9z1y115x7d969hzbnc1dd80000gn/T/ipykernel_33103/2217326518.py:1: DeprecationWarning: DataFrameGroupBy.apply operated on the grouping columns. This behavior is deprecated, and in a future version of pandas the grouping columns will be excluded from the operation. Either pass `include_groups=False` to exclude the groupings or explicitly select the grouping columns after groupby to silence this warning.\n",
      "  top_players = nba_stats_df.groupby('Tm').apply(top_player).reset_index(drop=True)\n"
     ]
    }
   ],
   "source": [
    "top_players = nba_stats_df.groupby('Tm').apply(top_player).reset_index(drop=True)"
   ]
  },
  {
   "cell_type": "code",
   "execution_count": 42,
   "metadata": {},
   "outputs": [
    {
     "data": {
      "text/html": [
       "<div>\n",
       "<style scoped>\n",
       "    .dataframe tbody tr th:only-of-type {\n",
       "        vertical-align: middle;\n",
       "    }\n",
       "\n",
       "    .dataframe tbody tr th {\n",
       "        vertical-align: top;\n",
       "    }\n",
       "\n",
       "    .dataframe thead th {\n",
       "        text-align: right;\n",
       "    }\n",
       "</style>\n",
       "<table border=\"1\" class=\"dataframe\">\n",
       "  <thead>\n",
       "    <tr style=\"text-align: right;\">\n",
       "      <th></th>\n",
       "      <th>Player</th>\n",
       "      <th>Pos</th>\n",
       "      <th>Age</th>\n",
       "      <th>Tm</th>\n",
       "      <th>G</th>\n",
       "      <th>FG%</th>\n",
       "      <th>TRB</th>\n",
       "      <th>AST</th>\n",
       "      <th>PTS</th>\n",
       "      <th>STL</th>\n",
       "      <th>BLK</th>\n",
       "      <th>P_R_A</th>\n",
       "    </tr>\n",
       "  </thead>\n",
       "  <tbody>\n",
       "    <tr>\n",
       "      <th>6</th>\n",
       "      <td>Luka Doncic</td>\n",
       "      <td>PG</td>\n",
       "      <td>24</td>\n",
       "      <td>DAL</td>\n",
       "      <td>70</td>\n",
       "      <td>0.487</td>\n",
       "      <td>9.2</td>\n",
       "      <td>9.8</td>\n",
       "      <td>33.9</td>\n",
       "      <td>1.4</td>\n",
       "      <td>0.5</td>\n",
       "      <td>52.9</td>\n",
       "    </tr>\n",
       "    <tr>\n",
       "      <th>16</th>\n",
       "      <td>Giannis Antetokounmpo</td>\n",
       "      <td>PF</td>\n",
       "      <td>29</td>\n",
       "      <td>MIL</td>\n",
       "      <td>73</td>\n",
       "      <td>0.611</td>\n",
       "      <td>11.5</td>\n",
       "      <td>6.5</td>\n",
       "      <td>30.4</td>\n",
       "      <td>1.2</td>\n",
       "      <td>1.1</td>\n",
       "      <td>48.4</td>\n",
       "    </tr>\n",
       "    <tr>\n",
       "      <th>7</th>\n",
       "      <td>Nikola Jokic</td>\n",
       "      <td>C</td>\n",
       "      <td>28</td>\n",
       "      <td>DEN</td>\n",
       "      <td>79</td>\n",
       "      <td>0.583</td>\n",
       "      <td>12.4</td>\n",
       "      <td>9.0</td>\n",
       "      <td>26.4</td>\n",
       "      <td>1.4</td>\n",
       "      <td>0.9</td>\n",
       "      <td>47.8</td>\n",
       "    </tr>\n",
       "    <tr>\n",
       "      <th>20</th>\n",
       "      <td>Shai Gilgeous-Alexander</td>\n",
       "      <td>PG</td>\n",
       "      <td>25</td>\n",
       "      <td>OKC</td>\n",
       "      <td>75</td>\n",
       "      <td>0.535</td>\n",
       "      <td>5.5</td>\n",
       "      <td>6.2</td>\n",
       "      <td>30.1</td>\n",
       "      <td>2.0</td>\n",
       "      <td>0.9</td>\n",
       "      <td>41.8</td>\n",
       "    </tr>\n",
       "    <tr>\n",
       "      <th>13</th>\n",
       "      <td>LeBron James</td>\n",
       "      <td>PF</td>\n",
       "      <td>39</td>\n",
       "      <td>LAL</td>\n",
       "      <td>71</td>\n",
       "      <td>0.540</td>\n",
       "      <td>7.3</td>\n",
       "      <td>8.3</td>\n",
       "      <td>25.7</td>\n",
       "      <td>1.3</td>\n",
       "      <td>0.5</td>\n",
       "      <td>41.3</td>\n",
       "    </tr>\n",
       "    <tr>\n",
       "      <th>24</th>\n",
       "      <td>Domantas Sabonis</td>\n",
       "      <td>C</td>\n",
       "      <td>27</td>\n",
       "      <td>SAC</td>\n",
       "      <td>82</td>\n",
       "      <td>0.594</td>\n",
       "      <td>13.7</td>\n",
       "      <td>8.2</td>\n",
       "      <td>19.4</td>\n",
       "      <td>0.9</td>\n",
       "      <td>0.6</td>\n",
       "      <td>41.3</td>\n",
       "    </tr>\n",
       "    <tr>\n",
       "      <th>1</th>\n",
       "      <td>Jayson Tatum</td>\n",
       "      <td>PF</td>\n",
       "      <td>25</td>\n",
       "      <td>BOS</td>\n",
       "      <td>74</td>\n",
       "      <td>0.471</td>\n",
       "      <td>8.1</td>\n",
       "      <td>4.9</td>\n",
       "      <td>26.9</td>\n",
       "      <td>1.0</td>\n",
       "      <td>0.6</td>\n",
       "      <td>39.9</td>\n",
       "    </tr>\n",
       "    <tr>\n",
       "      <th>19</th>\n",
       "      <td>Jalen Brunson</td>\n",
       "      <td>PG</td>\n",
       "      <td>27</td>\n",
       "      <td>NYK</td>\n",
       "      <td>77</td>\n",
       "      <td>0.479</td>\n",
       "      <td>3.6</td>\n",
       "      <td>6.7</td>\n",
       "      <td>28.7</td>\n",
       "      <td>0.9</td>\n",
       "      <td>0.2</td>\n",
       "      <td>39.0</td>\n",
       "    </tr>\n",
       "    <tr>\n",
       "      <th>23</th>\n",
       "      <td>Kevin Durant</td>\n",
       "      <td>PF</td>\n",
       "      <td>35</td>\n",
       "      <td>PHO</td>\n",
       "      <td>75</td>\n",
       "      <td>0.523</td>\n",
       "      <td>6.6</td>\n",
       "      <td>5.0</td>\n",
       "      <td>27.1</td>\n",
       "      <td>0.9</td>\n",
       "      <td>1.2</td>\n",
       "      <td>38.7</td>\n",
       "    </tr>\n",
       "    <tr>\n",
       "      <th>17</th>\n",
       "      <td>Anthony Edwards</td>\n",
       "      <td>SG</td>\n",
       "      <td>22</td>\n",
       "      <td>MIN</td>\n",
       "      <td>79</td>\n",
       "      <td>0.461</td>\n",
       "      <td>5.4</td>\n",
       "      <td>5.1</td>\n",
       "      <td>25.9</td>\n",
       "      <td>1.3</td>\n",
       "      <td>0.5</td>\n",
       "      <td>36.4</td>\n",
       "    </tr>\n",
       "    <tr>\n",
       "      <th>9</th>\n",
       "      <td>Stephen Curry</td>\n",
       "      <td>PG</td>\n",
       "      <td>35</td>\n",
       "      <td>GSW</td>\n",
       "      <td>74</td>\n",
       "      <td>0.450</td>\n",
       "      <td>4.5</td>\n",
       "      <td>5.1</td>\n",
       "      <td>26.4</td>\n",
       "      <td>0.7</td>\n",
       "      <td>0.4</td>\n",
       "      <td>36.0</td>\n",
       "    </tr>\n",
       "    <tr>\n",
       "      <th>25</th>\n",
       "      <td>Victor Wembanyama</td>\n",
       "      <td>C</td>\n",
       "      <td>20</td>\n",
       "      <td>SAS</td>\n",
       "      <td>71</td>\n",
       "      <td>0.465</td>\n",
       "      <td>10.6</td>\n",
       "      <td>3.9</td>\n",
       "      <td>21.4</td>\n",
       "      <td>1.2</td>\n",
       "      <td>3.6</td>\n",
       "      <td>35.9</td>\n",
       "    </tr>\n",
       "    <tr>\n",
       "      <th>22</th>\n",
       "      <td>Tyrese Maxey</td>\n",
       "      <td>PG</td>\n",
       "      <td>23</td>\n",
       "      <td>PHI</td>\n",
       "      <td>70</td>\n",
       "      <td>0.450</td>\n",
       "      <td>3.7</td>\n",
       "      <td>6.2</td>\n",
       "      <td>25.9</td>\n",
       "      <td>1.0</td>\n",
       "      <td>0.5</td>\n",
       "      <td>35.8</td>\n",
       "    </tr>\n",
       "    <tr>\n",
       "      <th>10</th>\n",
       "      <td>Alperen Sengun</td>\n",
       "      <td>C</td>\n",
       "      <td>21</td>\n",
       "      <td>HOU</td>\n",
       "      <td>63</td>\n",
       "      <td>0.537</td>\n",
       "      <td>9.3</td>\n",
       "      <td>5.0</td>\n",
       "      <td>21.1</td>\n",
       "      <td>1.2</td>\n",
       "      <td>0.7</td>\n",
       "      <td>35.4</td>\n",
       "    </tr>\n",
       "    <tr>\n",
       "      <th>21</th>\n",
       "      <td>Paolo Banchero</td>\n",
       "      <td>PF</td>\n",
       "      <td>21</td>\n",
       "      <td>ORL</td>\n",
       "      <td>80</td>\n",
       "      <td>0.455</td>\n",
       "      <td>6.9</td>\n",
       "      <td>5.4</td>\n",
       "      <td>22.6</td>\n",
       "      <td>0.9</td>\n",
       "      <td>0.6</td>\n",
       "      <td>34.9</td>\n",
       "    </tr>\n",
       "    <tr>\n",
       "      <th>11</th>\n",
       "      <td>Tyrese Haliburton</td>\n",
       "      <td>PG</td>\n",
       "      <td>23</td>\n",
       "      <td>IND</td>\n",
       "      <td>69</td>\n",
       "      <td>0.477</td>\n",
       "      <td>3.9</td>\n",
       "      <td>10.9</td>\n",
       "      <td>20.1</td>\n",
       "      <td>1.2</td>\n",
       "      <td>0.7</td>\n",
       "      <td>34.9</td>\n",
       "    </tr>\n",
       "    <tr>\n",
       "      <th>8</th>\n",
       "      <td>Cade Cunningham</td>\n",
       "      <td>PG</td>\n",
       "      <td>22</td>\n",
       "      <td>DET</td>\n",
       "      <td>62</td>\n",
       "      <td>0.449</td>\n",
       "      <td>4.3</td>\n",
       "      <td>7.5</td>\n",
       "      <td>22.7</td>\n",
       "      <td>0.9</td>\n",
       "      <td>0.4</td>\n",
       "      <td>34.5</td>\n",
       "    </tr>\n",
       "    <tr>\n",
       "      <th>26</th>\n",
       "      <td>Scottie Barnes</td>\n",
       "      <td>SG</td>\n",
       "      <td>22</td>\n",
       "      <td>TOR</td>\n",
       "      <td>60</td>\n",
       "      <td>0.475</td>\n",
       "      <td>8.2</td>\n",
       "      <td>6.1</td>\n",
       "      <td>19.9</td>\n",
       "      <td>1.3</td>\n",
       "      <td>1.5</td>\n",
       "      <td>34.2</td>\n",
       "    </tr>\n",
       "    <tr>\n",
       "      <th>0</th>\n",
       "      <td>Dejounte Murray</td>\n",
       "      <td>SG</td>\n",
       "      <td>27</td>\n",
       "      <td>ATL</td>\n",
       "      <td>78</td>\n",
       "      <td>0.459</td>\n",
       "      <td>5.3</td>\n",
       "      <td>6.4</td>\n",
       "      <td>22.5</td>\n",
       "      <td>1.4</td>\n",
       "      <td>0.3</td>\n",
       "      <td>34.2</td>\n",
       "    </tr>\n",
       "    <tr>\n",
       "      <th>18</th>\n",
       "      <td>Zion Williamson</td>\n",
       "      <td>PF</td>\n",
       "      <td>23</td>\n",
       "      <td>NOP</td>\n",
       "      <td>70</td>\n",
       "      <td>0.570</td>\n",
       "      <td>5.8</td>\n",
       "      <td>5.0</td>\n",
       "      <td>22.9</td>\n",
       "      <td>1.1</td>\n",
       "      <td>0.7</td>\n",
       "      <td>33.7</td>\n",
       "    </tr>\n",
       "    <tr>\n",
       "      <th>15</th>\n",
       "      <td>Bam Adebayo</td>\n",
       "      <td>C</td>\n",
       "      <td>26</td>\n",
       "      <td>MIA</td>\n",
       "      <td>71</td>\n",
       "      <td>0.521</td>\n",
       "      <td>10.4</td>\n",
       "      <td>3.9</td>\n",
       "      <td>19.3</td>\n",
       "      <td>1.1</td>\n",
       "      <td>0.9</td>\n",
       "      <td>33.6</td>\n",
       "    </tr>\n",
       "    <tr>\n",
       "      <th>3</th>\n",
       "      <td>DeMar DeRozan</td>\n",
       "      <td>SF</td>\n",
       "      <td>34</td>\n",
       "      <td>CHI</td>\n",
       "      <td>79</td>\n",
       "      <td>0.480</td>\n",
       "      <td>4.3</td>\n",
       "      <td>5.3</td>\n",
       "      <td>24.0</td>\n",
       "      <td>1.1</td>\n",
       "      <td>0.6</td>\n",
       "      <td>33.6</td>\n",
       "    </tr>\n",
       "    <tr>\n",
       "      <th>12</th>\n",
       "      <td>Kawhi Leonard</td>\n",
       "      <td>SF</td>\n",
       "      <td>32</td>\n",
       "      <td>LAC</td>\n",
       "      <td>68</td>\n",
       "      <td>0.525</td>\n",
       "      <td>6.1</td>\n",
       "      <td>3.6</td>\n",
       "      <td>23.7</td>\n",
       "      <td>1.6</td>\n",
       "      <td>0.9</td>\n",
       "      <td>33.4</td>\n",
       "    </tr>\n",
       "    <tr>\n",
       "      <th>27</th>\n",
       "      <td>Pascal Siakam</td>\n",
       "      <td>PF</td>\n",
       "      <td>29</td>\n",
       "      <td>TOT</td>\n",
       "      <td>80</td>\n",
       "      <td>0.536</td>\n",
       "      <td>7.1</td>\n",
       "      <td>4.3</td>\n",
       "      <td>21.7</td>\n",
       "      <td>0.8</td>\n",
       "      <td>0.3</td>\n",
       "      <td>33.1</td>\n",
       "    </tr>\n",
       "    <tr>\n",
       "      <th>29</th>\n",
       "      <td>Kyle Kuzma</td>\n",
       "      <td>PF</td>\n",
       "      <td>28</td>\n",
       "      <td>WAS</td>\n",
       "      <td>70</td>\n",
       "      <td>0.463</td>\n",
       "      <td>6.6</td>\n",
       "      <td>4.2</td>\n",
       "      <td>22.2</td>\n",
       "      <td>0.5</td>\n",
       "      <td>0.7</td>\n",
       "      <td>33.0</td>\n",
       "    </tr>\n",
       "    <tr>\n",
       "      <th>4</th>\n",
       "      <td>Miles Bridges</td>\n",
       "      <td>SF</td>\n",
       "      <td>25</td>\n",
       "      <td>CHO</td>\n",
       "      <td>69</td>\n",
       "      <td>0.462</td>\n",
       "      <td>7.3</td>\n",
       "      <td>3.3</td>\n",
       "      <td>21.0</td>\n",
       "      <td>0.9</td>\n",
       "      <td>0.5</td>\n",
       "      <td>31.6</td>\n",
       "    </tr>\n",
       "    <tr>\n",
       "      <th>14</th>\n",
       "      <td>Jaren Jackson Jr.</td>\n",
       "      <td>C</td>\n",
       "      <td>24</td>\n",
       "      <td>MEM</td>\n",
       "      <td>66</td>\n",
       "      <td>0.444</td>\n",
       "      <td>5.5</td>\n",
       "      <td>2.3</td>\n",
       "      <td>22.5</td>\n",
       "      <td>1.2</td>\n",
       "      <td>1.6</td>\n",
       "      <td>30.3</td>\n",
       "    </tr>\n",
       "    <tr>\n",
       "      <th>5</th>\n",
       "      <td>Jarrett Allen</td>\n",
       "      <td>C</td>\n",
       "      <td>25</td>\n",
       "      <td>CLE</td>\n",
       "      <td>77</td>\n",
       "      <td>0.634</td>\n",
       "      <td>10.5</td>\n",
       "      <td>2.7</td>\n",
       "      <td>16.5</td>\n",
       "      <td>0.7</td>\n",
       "      <td>1.1</td>\n",
       "      <td>29.7</td>\n",
       "    </tr>\n",
       "    <tr>\n",
       "      <th>2</th>\n",
       "      <td>Cam Thomas</td>\n",
       "      <td>SG</td>\n",
       "      <td>22</td>\n",
       "      <td>BRK</td>\n",
       "      <td>66</td>\n",
       "      <td>0.442</td>\n",
       "      <td>3.2</td>\n",
       "      <td>2.9</td>\n",
       "      <td>22.5</td>\n",
       "      <td>0.7</td>\n",
       "      <td>0.2</td>\n",
       "      <td>28.6</td>\n",
       "    </tr>\n",
       "    <tr>\n",
       "      <th>28</th>\n",
       "      <td>Collin Sexton</td>\n",
       "      <td>SG</td>\n",
       "      <td>25</td>\n",
       "      <td>UTA</td>\n",
       "      <td>78</td>\n",
       "      <td>0.487</td>\n",
       "      <td>2.6</td>\n",
       "      <td>4.9</td>\n",
       "      <td>18.7</td>\n",
       "      <td>0.8</td>\n",
       "      <td>0.2</td>\n",
       "      <td>26.2</td>\n",
       "    </tr>\n",
       "  </tbody>\n",
       "</table>\n",
       "</div>"
      ],
      "text/plain": [
       "                     Player Pos  Age   Tm   G    FG%   TRB   AST   PTS  STL  \\\n",
       "6               Luka Doncic  PG   24  DAL  70  0.487   9.2   9.8  33.9  1.4   \n",
       "16    Giannis Antetokounmpo  PF   29  MIL  73  0.611  11.5   6.5  30.4  1.2   \n",
       "7              Nikola Jokic   C   28  DEN  79  0.583  12.4   9.0  26.4  1.4   \n",
       "20  Shai Gilgeous-Alexander  PG   25  OKC  75  0.535   5.5   6.2  30.1  2.0   \n",
       "13             LeBron James  PF   39  LAL  71  0.540   7.3   8.3  25.7  1.3   \n",
       "24         Domantas Sabonis   C   27  SAC  82  0.594  13.7   8.2  19.4  0.9   \n",
       "1              Jayson Tatum  PF   25  BOS  74  0.471   8.1   4.9  26.9  1.0   \n",
       "19            Jalen Brunson  PG   27  NYK  77  0.479   3.6   6.7  28.7  0.9   \n",
       "23             Kevin Durant  PF   35  PHO  75  0.523   6.6   5.0  27.1  0.9   \n",
       "17          Anthony Edwards  SG   22  MIN  79  0.461   5.4   5.1  25.9  1.3   \n",
       "9             Stephen Curry  PG   35  GSW  74  0.450   4.5   5.1  26.4  0.7   \n",
       "25        Victor Wembanyama   C   20  SAS  71  0.465  10.6   3.9  21.4  1.2   \n",
       "22             Tyrese Maxey  PG   23  PHI  70  0.450   3.7   6.2  25.9  1.0   \n",
       "10           Alperen Sengun   C   21  HOU  63  0.537   9.3   5.0  21.1  1.2   \n",
       "21           Paolo Banchero  PF   21  ORL  80  0.455   6.9   5.4  22.6  0.9   \n",
       "11        Tyrese Haliburton  PG   23  IND  69  0.477   3.9  10.9  20.1  1.2   \n",
       "8           Cade Cunningham  PG   22  DET  62  0.449   4.3   7.5  22.7  0.9   \n",
       "26           Scottie Barnes  SG   22  TOR  60  0.475   8.2   6.1  19.9  1.3   \n",
       "0           Dejounte Murray  SG   27  ATL  78  0.459   5.3   6.4  22.5  1.4   \n",
       "18          Zion Williamson  PF   23  NOP  70  0.570   5.8   5.0  22.9  1.1   \n",
       "15              Bam Adebayo   C   26  MIA  71  0.521  10.4   3.9  19.3  1.1   \n",
       "3             DeMar DeRozan  SF   34  CHI  79  0.480   4.3   5.3  24.0  1.1   \n",
       "12            Kawhi Leonard  SF   32  LAC  68  0.525   6.1   3.6  23.7  1.6   \n",
       "27            Pascal Siakam  PF   29  TOT  80  0.536   7.1   4.3  21.7  0.8   \n",
       "29               Kyle Kuzma  PF   28  WAS  70  0.463   6.6   4.2  22.2  0.5   \n",
       "4             Miles Bridges  SF   25  CHO  69  0.462   7.3   3.3  21.0  0.9   \n",
       "14        Jaren Jackson Jr.   C   24  MEM  66  0.444   5.5   2.3  22.5  1.2   \n",
       "5             Jarrett Allen   C   25  CLE  77  0.634  10.5   2.7  16.5  0.7   \n",
       "2                Cam Thomas  SG   22  BRK  66  0.442   3.2   2.9  22.5  0.7   \n",
       "28            Collin Sexton  SG   25  UTA  78  0.487   2.6   4.9  18.7  0.8   \n",
       "\n",
       "    BLK  P_R_A  \n",
       "6   0.5   52.9  \n",
       "16  1.1   48.4  \n",
       "7   0.9   47.8  \n",
       "20  0.9   41.8  \n",
       "13  0.5   41.3  \n",
       "24  0.6   41.3  \n",
       "1   0.6   39.9  \n",
       "19  0.2   39.0  \n",
       "23  1.2   38.7  \n",
       "17  0.5   36.4  \n",
       "9   0.4   36.0  \n",
       "25  3.6   35.9  \n",
       "22  0.5   35.8  \n",
       "10  0.7   35.4  \n",
       "21  0.6   34.9  \n",
       "11  0.7   34.9  \n",
       "8   0.4   34.5  \n",
       "26  1.5   34.2  \n",
       "0   0.3   34.2  \n",
       "18  0.7   33.7  \n",
       "15  0.9   33.6  \n",
       "3   0.6   33.6  \n",
       "12  0.9   33.4  \n",
       "27  0.3   33.1  \n",
       "29  0.7   33.0  \n",
       "4   0.5   31.6  \n",
       "14  1.6   30.3  \n",
       "5   1.1   29.7  \n",
       "2   0.2   28.6  \n",
       "28  0.2   26.2  "
      ]
     },
     "execution_count": 42,
     "metadata": {},
     "output_type": "execute_result"
    }
   ],
   "source": [
    "top_players.sort_values(by='P_R_A', ascending=False)"
   ]
  },
  {
   "cell_type": "code",
   "execution_count": 43,
   "metadata": {},
   "outputs": [
    {
     "data": {
      "image/png": "[encoded data removed]",
      "text/plain": [
       "<Figure size 1200x600 with 1 Axes>"
      ]
     },
     "metadata": {},
     "output_type": "display_data"
    }
   ],
   "source": [
    "plt.figure(figsize=(12, 6))\n",
    "plt.bar(top_players['Player'], top_players['P_R_A'], color='skyblue')\n",
    "plt.title('Top Player Total Contribution')\n",
    "plt.xlabel('Player')\n",
    "plt.ylabel('Total Contribution (P_R_A)')\n",
    "plt.xticks(rotation=45)\n",
    "plt.grid(axis='y', linestyle='--', alpha=0.7)\n",
    "plt.tight_layout()\n",
    "plt.show()"
   ]
  },
  {
   "cell_type": "markdown",
   "metadata": {},
   "source": [
    "<div class=\"alert alert-info\">\n",
    "<h2> Student's comment</h2>\n",
    "\n",
    "Just a visualization of which players are the top contributors are each team. \n",
    "</div>"
   ]
  },
  {
   "cell_type": "code",
   "execution_count": 44,
   "metadata": {},
   "outputs": [
    {
     "data": {
      "image/png": "[encoded data removed]",
      "text/plain": [
       "<Figure size 1000x600 with 1 Axes>"
      ]
     },
     "metadata": {},
     "output_type": "display_data"
    }
   ],
   "source": [
    "plt.figure(figsize=(10, 6))\n",
    "plt.hist(top_players['P_R_A'], bins=10, edgecolor='black')\n",
    "plt.title('Distribution of P_R_A')\n",
    "plt.xlabel('P_R_A')\n",
    "plt.ylabel('Frequency')\n",
    "plt.grid(True)\n",
    "plt.show()"
   ]
  },
  {
   "cell_type": "markdown",
   "metadata": {},
   "source": [
    "<div class=\"alert alert-info\">\n",
    "<h2> Student's comment</h2>\n",
    "\n",
    "This is the same graph as above but only using the top 20 contributors. It looks the same with majority of players contributing 30-35 P_R_A.\n",
    "</div>"
   ]
  },
  {
   "cell_type": "code",
   "execution_count": 45,
   "metadata": {},
   "outputs": [
    {
     "data": {
      "text/html": [
       "<div>\n",
       "<style scoped>\n",
       "    .dataframe tbody tr th:only-of-type {\n",
       "        vertical-align: middle;\n",
       "    }\n",
       "\n",
       "    .dataframe tbody tr th {\n",
       "        vertical-align: top;\n",
       "    }\n",
       "\n",
       "    .dataframe thead th {\n",
       "        text-align: right;\n",
       "    }\n",
       "</style>\n",
       "<table border=\"1\" class=\"dataframe\">\n",
       "  <thead>\n",
       "    <tr style=\"text-align: right;\">\n",
       "      <th></th>\n",
       "      <th>Age</th>\n",
       "      <th>G</th>\n",
       "      <th>FG%</th>\n",
       "      <th>TRB</th>\n",
       "      <th>AST</th>\n",
       "      <th>PTS</th>\n",
       "      <th>STL</th>\n",
       "      <th>BLK</th>\n",
       "      <th>P_R_A</th>\n",
       "    </tr>\n",
       "  </thead>\n",
       "  <tbody>\n",
       "    <tr>\n",
       "      <th>count</th>\n",
       "      <td>30.000000</td>\n",
       "      <td>30.000000</td>\n",
       "      <td>30.000000</td>\n",
       "      <td>30.000000</td>\n",
       "      <td>30.000000</td>\n",
       "      <td>30.000000</td>\n",
       "      <td>30.000000</td>\n",
       "      <td>30.000000</td>\n",
       "      <td>30.000000</td>\n",
       "    </tr>\n",
       "    <tr>\n",
       "      <th>mean</th>\n",
       "      <td>26.266667</td>\n",
       "      <td>72.533333</td>\n",
       "      <td>0.502167</td>\n",
       "      <td>6.980000</td>\n",
       "      <td>5.620000</td>\n",
       "      <td>23.736667</td>\n",
       "      <td>1.086667</td>\n",
       "      <td>0.780000</td>\n",
       "      <td>36.336667</td>\n",
       "    </tr>\n",
       "    <tr>\n",
       "      <th>std</th>\n",
       "      <td>4.726545</td>\n",
       "      <td>5.769918</td>\n",
       "      <td>0.053943</td>\n",
       "      <td>2.896181</td>\n",
       "      <td>2.089118</td>\n",
       "      <td>3.894513</td>\n",
       "      <td>0.309319</td>\n",
       "      <td>0.640259</td>\n",
       "      <td>5.847397</td>\n",
       "    </tr>\n",
       "    <tr>\n",
       "      <th>min</th>\n",
       "      <td>20.000000</td>\n",
       "      <td>60.000000</td>\n",
       "      <td>0.442000</td>\n",
       "      <td>2.600000</td>\n",
       "      <td>2.300000</td>\n",
       "      <td>16.500000</td>\n",
       "      <td>0.500000</td>\n",
       "      <td>0.200000</td>\n",
       "      <td>26.200000</td>\n",
       "    </tr>\n",
       "    <tr>\n",
       "      <th>25%</th>\n",
       "      <td>23.000000</td>\n",
       "      <td>69.250000</td>\n",
       "      <td>0.461250</td>\n",
       "      <td>4.700000</td>\n",
       "      <td>4.225000</td>\n",
       "      <td>21.175000</td>\n",
       "      <td>0.900000</td>\n",
       "      <td>0.500000</td>\n",
       "      <td>33.450000</td>\n",
       "    </tr>\n",
       "    <tr>\n",
       "      <th>50%</th>\n",
       "      <td>25.000000</td>\n",
       "      <td>72.000000</td>\n",
       "      <td>0.479500</td>\n",
       "      <td>6.600000</td>\n",
       "      <td>5.100000</td>\n",
       "      <td>22.650000</td>\n",
       "      <td>1.100000</td>\n",
       "      <td>0.600000</td>\n",
       "      <td>34.900000</td>\n",
       "    </tr>\n",
       "    <tr>\n",
       "      <th>75%</th>\n",
       "      <td>28.000000</td>\n",
       "      <td>77.750000</td>\n",
       "      <td>0.535750</td>\n",
       "      <td>8.950000</td>\n",
       "      <td>6.475000</td>\n",
       "      <td>26.275000</td>\n",
       "      <td>1.275000</td>\n",
       "      <td>0.900000</td>\n",
       "      <td>38.925000</td>\n",
       "    </tr>\n",
       "    <tr>\n",
       "      <th>max</th>\n",
       "      <td>39.000000</td>\n",
       "      <td>82.000000</td>\n",
       "      <td>0.634000</td>\n",
       "      <td>13.700000</td>\n",
       "      <td>10.900000</td>\n",
       "      <td>33.900000</td>\n",
       "      <td>2.000000</td>\n",
       "      <td>3.600000</td>\n",
       "      <td>52.900000</td>\n",
       "    </tr>\n",
       "  </tbody>\n",
       "</table>\n",
       "</div>"
      ],
      "text/plain": [
       "             Age          G        FG%        TRB        AST        PTS  \\\n",
       "count  30.000000  30.000000  30.000000  30.000000  30.000000  30.000000   \n",
       "mean   26.266667  72.533333   0.502167   6.980000   5.620000  23.736667   \n",
       "std     4.726545   5.769918   0.053943   2.896181   2.089118   3.894513   \n",
       "min    20.000000  60.000000   0.442000   2.600000   2.300000  16.500000   \n",
       "25%    23.000000  69.250000   0.461250   4.700000   4.225000  21.175000   \n",
       "50%    25.000000  72.000000   0.479500   6.600000   5.100000  22.650000   \n",
       "75%    28.000000  77.750000   0.535750   8.950000   6.475000  26.275000   \n",
       "max    39.000000  82.000000   0.634000  13.700000  10.900000  33.900000   \n",
       "\n",
       "             STL        BLK      P_R_A  \n",
       "count  30.000000  30.000000  30.000000  \n",
       "mean    1.086667   0.780000  36.336667  \n",
       "std     0.309319   0.640259   5.847397  \n",
       "min     0.500000   0.200000  26.200000  \n",
       "25%     0.900000   0.500000  33.450000  \n",
       "50%     1.100000   0.600000  34.900000  \n",
       "75%     1.275000   0.900000  38.925000  \n",
       "max     2.000000   3.600000  52.900000  "
      ]
     },
     "execution_count": 45,
     "metadata": {},
     "output_type": "execute_result"
    }
   ],
   "source": [
    "top_players.describe()"
   ]
  },
  {
   "cell_type": "markdown",
   "metadata": {},
   "source": [
    "<div class=\"alert alert-info\">\n",
    "<h2> Student's comment</h2>\n",
    "\n",
    "By only using the top 20 players it increased the avg ppg from 20 up to 23.7\n",
    "</div>"
   ]
  },
  {
   "cell_type": "code",
   "execution_count": 46,
   "metadata": {},
   "outputs": [
    {
     "data": {
      "application/vnd.plotly.v1+json": {
       "config": {
        "plotlyServerURL": "https://plot.ly"
       },
       "data": [
        {
         "hovertemplate": "Player=Dejounte Murray<br>Tm=%{x}<br>P_R_A=%{y}<extra></extra>",
         "legendgroup": "Dejounte Murray",
         "marker": {
          "color": "#636efa",
          "symbol": "circle"
         },
         "mode": "markers",
         "name": "Dejounte Murray",
         "orientation": "v",
         "showlegend": true,
         "type": "scatter",
         "x": [
          "ATL"
         ],
         "xaxis": "x",
         "y": [
          34.199999999999996
         ],
         "yaxis": "y"
        },
        {
         "hovertemplate": "Player=Jayson Tatum<br>Tm=%{x}<br>P_R_A=%{y}<extra></extra>",
         "legendgroup": "Jayson Tatum",
         "marker": {
          "color": "#EF553B",
          "symbol": "circle"
         },
         "mode": "markers",
         "name": "Jayson Tatum",
         "orientation": "v",
         "showlegend": true,
         "type": "scatter",
         "x": [
          "BOS"
         ],
         "xaxis": "x",
         "y": [
          39.9
         ],
         "yaxis": "y"
        },
        {
         "hovertemplate": "Player=Cam Thomas<br>Tm=%{x}<br>P_R_A=%{y}<extra></extra>",
         "legendgroup": "Cam Thomas",
         "marker": {
          "color": "#00cc96",
          "symbol": "circle"
         },
         "mode": "markers",
         "name": "Cam Thomas",
         "orientation": "v",
         "showlegend": true,
         "type": "scatter",
         "x": [
          "BRK"
         ],
         "xaxis": "x",
         "y": [
          28.599999999999998
         ],
         "yaxis": "y"
        },
        {
         "hovertemplate": "Player=DeMar DeRozan<br>Tm=%{x}<br>P_R_A=%{y}<extra></extra>",
         "legendgroup": "DeMar DeRozan",
         "marker": {
          "color": "#ab63fa",
          "symbol": "circle"
         },
         "mode": "markers",
         "name": "DeMar DeRozan",
         "orientation": "v",
         "showlegend": true,
         "type": "scatter",
         "x": [
          "CHI"
         ],
         "xaxis": "x",
         "y": [
          33.6
         ],
         "yaxis": "y"
        },
        {
         "hovertemplate": "Player=Miles Bridges<br>Tm=%{x}<br>P_R_A=%{y}<extra></extra>",
         "legendgroup": "Miles Bridges",
         "marker": {
          "color": "#FFA15A",
          "symbol": "circle"
         },
         "mode": "markers",
         "name": "Miles Bridges",
         "orientation": "v",
         "showlegend": true,
         "type": "scatter",
         "x": [
          "CHO"
         ],
         "xaxis": "x",
         "y": [
          31.6
         ],
         "yaxis": "y"
        },
        {
         "hovertemplate": "Player=Jarrett Allen<br>Tm=%{x}<br>P_R_A=%{y}<extra></extra>",
         "legendgroup": "Jarrett Allen",
         "marker": {
          "color": "#19d3f3",
          "symbol": "circle"
         },
         "mode": "markers",
         "name": "Jarrett Allen",
         "orientation": "v",
         "showlegend": true,
         "type": "scatter",
         "x": [
          "CLE"
         ],
         "xaxis": "x",
         "y": [
          29.7
         ],
         "yaxis": "y"
        },
        {
         "hovertemplate": "Player=Luka Doncic<br>Tm=%{x}<br>P_R_A=%{y}<extra></extra>",
         "legendgroup": "Luka Doncic",
         "marker": {
          "color": "#FF6692",
          "symbol": "circle"
         },
         "mode": "markers",
         "name": "Luka Doncic",
         "orientation": "v",
         "showlegend": true,
         "type": "scatter",
         "x": [
          "DAL"
         ],
         "xaxis": "x",
         "y": [
          52.900000000000006
         ],
         "yaxis": "y"
        },
        {
         "hovertemplate": "Player=Nikola Jokic<br>Tm=%{x}<br>P_R_A=%{y}<extra></extra>",
         "legendgroup": "Nikola Jokic",
         "marker": {
          "color": "#B6E880",
          "symbol": "circle"
         },
         "mode": "markers",
         "name": "Nikola Jokic",
         "orientation": "v",
         "showlegend": true,
         "type": "scatter",
         "x": [
          "DEN"
         ],
         "xaxis": "x",
         "y": [
          47.8
         ],
         "yaxis": "y"
        },
        {
         "hovertemplate": "Player=Cade Cunningham<br>Tm=%{x}<br>P_R_A=%{y}<extra></extra>",
         "legendgroup": "Cade Cunningham",
         "marker": {
          "color": "#FF97FF",
          "symbol": "circle"
         },
         "mode": "markers",
         "name": "Cade Cunningham",
         "orientation": "v",
         "showlegend": true,
         "type": "scatter",
         "x": [
          "DET"
         ],
         "xaxis": "x",
         "y": [
          34.5
         ],
         "yaxis": "y"
        },
        {
         "hovertemplate": "Player=Stephen Curry<br>Tm=%{x}<br>P_R_A=%{y}<extra></extra>",
         "legendgroup": "Stephen Curry",
         "marker": {
          "color": "#FECB52",
          "symbol": "circle"
         },
         "mode": "markers",
         "name": "Stephen Curry",
         "orientation": "v",
         "showlegend": true,
         "type": "scatter",
         "x": [
          "GSW"
         ],
         "xaxis": "x",
         "y": [
          36
         ],
         "yaxis": "y"
        },
        {
         "hovertemplate": "Player=Alperen Sengun<br>Tm=%{x}<br>P_R_A=%{y}<extra></extra>",
         "legendgroup": "Alperen Sengun",
         "marker": {
          "color": "#636efa",
          "symbol": "circle"
         },
         "mode": "markers",
         "name": "Alperen Sengun",
         "orientation": "v",
         "showlegend": true,
         "type": "scatter",
         "x": [
          "HOU"
         ],
         "xaxis": "x",
         "y": [
          35.400000000000006
         ],
         "yaxis": "y"
        },
        {
         "hovertemplate": "Player=Tyrese Haliburton<br>Tm=%{x}<br>P_R_A=%{y}<extra></extra>",
         "legendgroup": "Tyrese Haliburton",
         "marker": {
          "color": "#EF553B",
          "symbol": "circle"
         },
         "mode": "markers",
         "name": "Tyrese Haliburton",
         "orientation": "v",
         "showlegend": true,
         "type": "scatter",
         "x": [
          "IND"
         ],
         "xaxis": "x",
         "y": [
          34.9
         ],
         "yaxis": "y"
        },
        {
         "hovertemplate": "Player=Kawhi Leonard<br>Tm=%{x}<br>P_R_A=%{y}<extra></extra>",
         "legendgroup": "Kawhi Leonard",
         "marker": {
          "color": "#00cc96",
          "symbol": "circle"
         },
         "mode": "markers",
         "name": "Kawhi Leonard",
         "orientation": "v",
         "showlegend": true,
         "type": "scatter",
         "x": [
          "LAC"
         ],
         "xaxis": "x",
         "y": [
          33.4
         ],
         "yaxis": "y"
        },
        {
         "hovertemplate": "Player=LeBron James<br>Tm=%{x}<br>P_R_A=%{y}<extra></extra>",
         "legendgroup": "LeBron James",
         "marker": {
          "color": "#ab63fa",
          "symbol": "circle"
         },
         "mode": "markers",
         "name": "LeBron James",
         "orientation": "v",
         "showlegend": true,
         "type": "scatter",
         "x": [
          "LAL"
         ],
         "xaxis": "x",
         "y": [
          41.3
         ],
         "yaxis": "y"
        },
        {
         "hovertemplate": "Player=Jaren Jackson Jr.<br>Tm=%{x}<br>P_R_A=%{y}<extra></extra>",
         "legendgroup": "Jaren Jackson Jr.",
         "marker": {
          "color": "#FFA15A",
          "symbol": "circle"
         },
         "mode": "markers",
         "name": "Jaren Jackson Jr.",
         "orientation": "v",
         "showlegend": true,
         "type": "scatter",
         "x": [
          "MEM"
         ],
         "xaxis": "x",
         "y": [
          30.3
         ],
         "yaxis": "y"
        },
        {
         "hovertemplate": "Player=Bam Adebayo<br>Tm=%{x}<br>P_R_A=%{y}<extra></extra>",
         "legendgroup": "Bam Adebayo",
         "marker": {
          "color": "#19d3f3",
          "symbol": "circle"
         },
         "mode": "markers",
         "name": "Bam Adebayo",
         "orientation": "v",
         "showlegend": true,
         "type": "scatter",
         "x": [
          "MIA"
         ],
         "xaxis": "x",
         "y": [
          33.6
         ],
         "yaxis": "y"
        },
        {
         "hovertemplate": "Player=Giannis Antetokounmpo<br>Tm=%{x}<br>P_R_A=%{y}<extra></extra>",
         "legendgroup": "Giannis Antetokounmpo",
         "marker": {
          "color": "#FF6692",
          "symbol": "circle"
         },
         "mode": "markers",
         "name": "Giannis Antetokounmpo",
         "orientation": "v",
         "showlegend": true,
         "type": "scatter",
         "x": [
          "MIL"
         ],
         "xaxis": "x",
         "y": [
          48.4
         ],
         "yaxis": "y"
        },
        {
         "hovertemplate": "Player=Anthony Edwards<br>Tm=%{x}<br>P_R_A=%{y}<extra></extra>",
         "legendgroup": "Anthony Edwards",
         "marker": {
          "color": "#B6E880",
          "symbol": "circle"
         },
         "mode": "markers",
         "name": "Anthony Edwards",
         "orientation": "v",
         "showlegend": true,
         "type": "scatter",
         "x": [
          "MIN"
         ],
         "xaxis": "x",
         "y": [
          36.4
         ],
         "yaxis": "y"
        },
        {
         "hovertemplate": "Player=Zion Williamson<br>Tm=%{x}<br>P_R_A=%{y}<extra></extra>",
         "legendgroup": "Zion Williamson",
         "marker": {
          "color": "#FF97FF",
          "symbol": "circle"
         },
         "mode": "markers",
         "name": "Zion Williamson",
         "orientation": "v",
         "showlegend": true,
         "type": "scatter",
         "x": [
          "NOP"
         ],
         "xaxis": "x",
         "y": [
          33.699999999999996
         ],
         "yaxis": "y"
        },
        {
         "hovertemplate": "Player=Jalen Brunson<br>Tm=%{x}<br>P_R_A=%{y}<extra></extra>",
         "legendgroup": "Jalen Brunson",
         "marker": {
          "color": "#FECB52",
          "symbol": "circle"
         },
         "mode": "markers",
         "name": "Jalen Brunson",
         "orientation": "v",
         "showlegend": true,
         "type": "scatter",
         "x": [
          "NYK"
         ],
         "xaxis": "x",
         "y": [
          39
         ],
         "yaxis": "y"
        },
        {
         "hovertemplate": "Player=Shai Gilgeous-Alexander<br>Tm=%{x}<br>P_R_A=%{y}<extra></extra>",
         "legendgroup": "Shai Gilgeous-Alexander",
         "marker": {
          "color": "#636efa",
          "symbol": "circle"
         },
         "mode": "markers",
         "name": "Shai Gilgeous-Alexander",
         "orientation": "v",
         "showlegend": true,
         "type": "scatter",
         "x": [
          "OKC"
         ],
         "xaxis": "x",
         "y": [
          41.800000000000004
         ],
         "yaxis": "y"
        },
        {
         "hovertemplate": "Player=Paolo Banchero<br>Tm=%{x}<br>P_R_A=%{y}<extra></extra>",
         "legendgroup": "Paolo Banchero",
         "marker": {
          "color": "#EF553B",
          "symbol": "circle"
         },
         "mode": "markers",
         "name": "Paolo Banchero",
         "orientation": "v",
         "showlegend": true,
         "type": "scatter",
         "x": [
          "ORL"
         ],
         "xaxis": "x",
         "y": [
          34.9
         ],
         "yaxis": "y"
        },
        {
         "hovertemplate": "Player=Tyrese Maxey<br>Tm=%{x}<br>P_R_A=%{y}<extra></extra>",
         "legendgroup": "Tyrese Maxey",
         "marker": {
          "color": "#00cc96",
          "symbol": "circle"
         },
         "mode": "markers",
         "name": "Tyrese Maxey",
         "orientation": "v",
         "showlegend": true,
         "type": "scatter",
         "x": [
          "PHI"
         ],
         "xaxis": "x",
         "y": [
          35.800000000000004
         ],
         "yaxis": "y"
        },
        {
         "hovertemplate": "Player=Kevin Durant<br>Tm=%{x}<br>P_R_A=%{y}<extra></extra>",
         "legendgroup": "Kevin Durant",
         "marker": {
          "color": "#ab63fa",
          "symbol": "circle"
         },
         "mode": "markers",
         "name": "Kevin Durant",
         "orientation": "v",
         "showlegend": true,
         "type": "scatter",
         "x": [
          "PHO"
         ],
         "xaxis": "x",
         "y": [
          38.7
         ],
         "yaxis": "y"
        },
        {
         "hovertemplate": "Player=Domantas Sabonis<br>Tm=%{x}<br>P_R_A=%{y}<extra></extra>",
         "legendgroup": "Domantas Sabonis",
         "marker": {
          "color": "#FFA15A",
          "symbol": "circle"
         },
         "mode": "markers",
         "name": "Domantas Sabonis",
         "orientation": "v",
         "showlegend": true,
         "type": "scatter",
         "x": [
          "SAC"
         ],
         "xaxis": "x",
         "y": [
          41.3
         ],
         "yaxis": "y"
        },
        {
         "hovertemplate": "Player=Victor Wembanyama<br>Tm=%{x}<br>P_R_A=%{y}<extra></extra>",
         "legendgroup": "Victor Wembanyama",
         "marker": {
          "color": "#19d3f3",
          "symbol": "circle"
         },
         "mode": "markers",
         "name": "Victor Wembanyama",
         "orientation": "v",
         "showlegend": true,
         "type": "scatter",
         "x": [
          "SAS"
         ],
         "xaxis": "x",
         "y": [
          35.9
         ],
         "yaxis": "y"
        },
        {
         "hovertemplate": "Player=Scottie Barnes<br>Tm=%{x}<br>P_R_A=%{y}<extra></extra>",
         "legendgroup": "Scottie Barnes",
         "marker": {
          "color": "#FF6692",
          "symbol": "circle"
         },
         "mode": "markers",
         "name": "Scottie Barnes",
         "orientation": "v",
         "showlegend": true,
         "type": "scatter",
         "x": [
          "TOR"
         ],
         "xaxis": "x",
         "y": [
          34.2
         ],
         "yaxis": "y"
        },
        {
         "hovertemplate": "Player=Pascal Siakam<br>Tm=%{x}<br>P_R_A=%{y}<extra></extra>",
         "legendgroup": "Pascal Siakam",
         "marker": {
          "color": "#B6E880",
          "symbol": "circle"
         },
         "mode": "markers",
         "name": "Pascal Siakam",
         "orientation": "v",
         "showlegend": true,
         "type": "scatter",
         "x": [
          "TOT"
         ],
         "xaxis": "x",
         "y": [
          33.1
         ],
         "yaxis": "y"
        },
        {
         "hovertemplate": "Player=Collin Sexton<br>Tm=%{x}<br>P_R_A=%{y}<extra></extra>",
         "legendgroup": "Collin Sexton",
         "marker": {
          "color": "#FF97FF",
          "symbol": "circle"
         },
         "mode": "markers",
         "name": "Collin Sexton",
         "orientation": "v",
         "showlegend": true,
         "type": "scatter",
         "x": [
          "UTA"
         ],
         "xaxis": "x",
         "y": [
          26.200000000000003
         ],
         "yaxis": "y"
        },
        {
         "hovertemplate": "Player=Kyle Kuzma<br>Tm=%{x}<br>P_R_A=%{y}<extra></extra>",
         "legendgroup": "Kyle Kuzma",
         "marker": {
          "color": "#FECB52",
          "symbol": "circle"
         },
         "mode": "markers",
         "name": "Kyle Kuzma",
         "orientation": "v",
         "showlegend": true,
         "type": "scatter",
         "x": [
          "WAS"
         ],
         "xaxis": "x",
         "y": [
          33
         ],
         "yaxis": "y"
        }
       ],
       "layout": {
        "legend": {
         "title": {
          "text": "Player"
         },
         "tracegroupgap": 0
        },
        "template": {
         "data": {
          "bar": [
           {
            "error_x": {
             "color": "#2a3f5f"
            },
            "error_y": {
             "color": "#2a3f5f"
            },
            "marker": {
             "line": {
              "color": "#E5ECF6",
              "width": 0.5
             },
             "pattern": {
              "fillmode": "overlay",
              "size": 10,
              "solidity": 0.2
             }
            },
            "type": "bar"
           }
          ],
          "barpolar": [
           {
            "marker": {
             "line": {
              "color": "#E5ECF6",
              "width": 0.5
             },
             "pattern": {
              "fillmode": "overlay",
              "size": 10,
              "solidity": 0.2
             }
            },
            "type": "barpolar"
           }
          ],
          "carpet": [
           {
            "aaxis": {
             "endlinecolor": "#2a3f5f",
             "gridcolor": "white",
             "linecolor": "white",
             "minorgridcolor": "white",
             "startlinecolor": "#2a3f5f"
            },
            "baxis": {
             "endlinecolor": "#2a3f5f",
             "gridcolor": "white",
             "linecolor": "white",
             "minorgridcolor": "white",
             "startlinecolor": "#2a3f5f"
            },
            "type": "carpet"
           }
          ],
          "choropleth": [
           {
            "colorbar": {
             "outlinewidth": 0,
             "ticks": ""
            },
            "type": "choropleth"
           }
          ],
          "contour": [
           {
            "colorbar": {
             "outlinewidth": 0,
             "ticks": ""
            },
            "colorscale": [
             [
              0,
              "#0d0887"
             ],
             [
              0.1111111111111111,
              "#46039f"
             ],
             [
              0.2222222222222222,
              "#7201a8"
             ],
             [
              0.3333333333333333,
              "#9c179e"
             ],
             [
              0.4444444444444444,
              "#bd3786"
             ],
             [
              0.5555555555555556,
              "#d8576b"
             ],
             [
              0.6666666666666666,
              "#ed7953"
             ],
             [
              0.7777777777777778,
              "#fb9f3a"
             ],
             [
              0.8888888888888888,
              "#fdca26"
             ],
             [
              1,
              "#f0f921"
             ]
            ],
            "type": "contour"
           }
          ],
          "contourcarpet": [
           {
            "colorbar": {
             "outlinewidth": 0,
             "ticks": ""
            },
            "type": "contourcarpet"
           }
          ],
          "heatmap": [
           {
            "colorbar": {
             "outlinewidth": 0,
             "ticks": ""
            },
            "colorscale": [
             [
              0,
              "#0d0887"
             ],
             [
              0.1111111111111111,
              "#46039f"
             ],
             [
              0.2222222222222222,
              "#7201a8"
             ],
             [
              0.3333333333333333,
              "#9c179e"
             ],
             [
              0.4444444444444444,
              "#bd3786"
             ],
             [
              0.5555555555555556,
              "#d8576b"
             ],
             [
              0.6666666666666666,
              "#ed7953"
             ],
             [
              0.7777777777777778,
              "#fb9f3a"
             ],
             [
              0.8888888888888888,
              "#fdca26"
             ],
             [
              1,
              "#f0f921"
             ]
            ],
            "type": "heatmap"
           }
          ],
          "heatmapgl": [
           {
            "colorbar": {
             "outlinewidth": 0,
             "ticks": ""
            },
            "colorscale": [
             [
              0,
              "#0d0887"
             ],
             [
              0.1111111111111111,
              "#46039f"
             ],
             [
              0.2222222222222222,
              "#7201a8"
             ],
             [
              0.3333333333333333,
              "#9c179e"
             ],
             [
              0.4444444444444444,
              "#bd3786"
             ],
             [
              0.5555555555555556,
              "#d8576b"
             ],
             [
              0.6666666666666666,
              "#ed7953"
             ],
             [
              0.7777777777777778,
              "#fb9f3a"
             ],
             [
              0.8888888888888888,
              "#fdca26"
             ],
             [
              1,
              "#f0f921"
             ]
            ],
            "type": "heatmapgl"
           }
          ],
          "histogram": [
           {
            "marker": {
             "pattern": {
              "fillmode": "overlay",
              "size": 10,
              "solidity": 0.2
             }
            },
            "type": "histogram"
           }
          ],
          "histogram2d": [
           {
            "colorbar": {
             "outlinewidth": 0,
             "ticks": ""
            },
            "colorscale": [
             [
              0,
              "#0d0887"
             ],
             [
              0.1111111111111111,
              "#46039f"
             ],
             [
              0.2222222222222222,
              "#7201a8"
             ],
             [
              0.3333333333333333,
              "#9c179e"
             ],
             [
              0.4444444444444444,
              "#bd3786"
             ],
             [
              0.5555555555555556,
              "#d8576b"
             ],
             [
              0.6666666666666666,
              "#ed7953"
             ],
             [
              0.7777777777777778,
              "#fb9f3a"
             ],
             [
              0.8888888888888888,
              "#fdca26"
             ],
             [
              1,
              "#f0f921"
             ]
            ],
            "type": "histogram2d"
           }
          ],
          "histogram2dcontour": [
           {
            "colorbar": {
             "outlinewidth": 0,
             "ticks": ""
            },
            "colorscale": [
             [
              0,
              "#0d0887"
             ],
             [
              0.1111111111111111,
              "#46039f"
             ],
             [
              0.2222222222222222,
              "#7201a8"
             ],
             [
              0.3333333333333333,
              "#9c179e"
             ],
             [
              0.4444444444444444,
              "#bd3786"
             ],
             [
              0.5555555555555556,
              "#d8576b"
             ],
             [
              0.6666666666666666,
              "#ed7953"
             ],
             [
              0.7777777777777778,
              "#fb9f3a"
             ],
             [
              0.8888888888888888,
              "#fdca26"
             ],
             [
              1,
              "#f0f921"
             ]
            ],
            "type": "histogram2dcontour"
           }
          ],
          "mesh3d": [
           {
            "colorbar": {
             "outlinewidth": 0,
             "ticks": ""
            },
            "type": "mesh3d"
           }
          ],
          "parcoords": [
           {
            "line": {
             "colorbar": {
              "outlinewidth": 0,
              "ticks": ""
             }
            },
            "type": "parcoords"
           }
          ],
          "pie": [
           {
            "automargin": true,
            "type": "pie"
           }
          ],
          "scatter": [
           {
            "fillpattern": {
             "fillmode": "overlay",
             "size": 10,
             "solidity": 0.2
            },
            "type": "scatter"
           }
          ],
          "scatter3d": [
           {
            "line": {
             "colorbar": {
              "outlinewidth": 0,
              "ticks": ""
             }
            },
            "marker": {
             "colorbar": {
              "outlinewidth": 0,
              "ticks": ""
             }
            },
            "type": "scatter3d"
           }
          ],
          "scattercarpet": [
           {
            "marker": {
             "colorbar": {
              "outlinewidth": 0,
              "ticks": ""
             }
            },
            "type": "scattercarpet"
           }
          ],
          "scattergeo": [
           {
            "marker": {
             "colorbar": {
              "outlinewidth": 0,
              "ticks": ""
             }
            },
            "type": "scattergeo"
           }
          ],
          "scattergl": [
           {
            "marker": {
             "colorbar": {
              "outlinewidth": 0,
              "ticks": ""
             }
            },
            "type": "scattergl"
           }
          ],
          "scattermapbox": [
           {
            "marker": {
             "colorbar": {
              "outlinewidth": 0,
              "ticks": ""
             }
            },
            "type": "scattermapbox"
           }
          ],
          "scatterpolar": [
           {
            "marker": {
             "colorbar": {
              "outlinewidth": 0,
              "ticks": ""
             }
            },
            "type": "scatterpolar"
           }
          ],
          "scatterpolargl": [
           {
            "marker": {
             "colorbar": {
              "outlinewidth": 0,
              "ticks": ""
             }
            },
            "type": "scatterpolargl"
           }
          ],
          "scatterternary": [
           {
            "marker": {
             "colorbar": {
              "outlinewidth": 0,
              "ticks": ""
             }
            },
            "type": "scatterternary"
           }
          ],
          "surface": [
           {
            "colorbar": {
             "outlinewidth": 0,
             "ticks": ""
            },
            "colorscale": [
             [
              0,
              "#0d0887"
             ],
             [
              0.1111111111111111,
              "#46039f"
             ],
             [
              0.2222222222222222,
              "#7201a8"
             ],
             [
              0.3333333333333333,
              "#9c179e"
             ],
             [
              0.4444444444444444,
              "#bd3786"
             ],
             [
              0.5555555555555556,
              "#d8576b"
             ],
             [
              0.6666666666666666,
              "#ed7953"
             ],
             [
              0.7777777777777778,
              "#fb9f3a"
             ],
             [
              0.8888888888888888,
              "#fdca26"
             ],
             [
              1,
              "#f0f921"
             ]
            ],
            "type": "surface"
           }
          ],
          "table": [
           {
            "cells": {
             "fill": {
              "color": "#EBF0F8"
             },
             "line": {
              "color": "white"
             }
            },
            "header": {
             "fill": {
              "color": "#C8D4E3"
             },
             "line": {
              "color": "white"
             }
            },
            "type": "table"
           }
          ]
         },
         "layout": {
          "annotationdefaults": {
           "arrowcolor": "#2a3f5f",
           "arrowhead": 0,
           "arrowwidth": 1
          },
          "autotypenumbers": "strict",
          "coloraxis": {
           "colorbar": {
            "outlinewidth": 0,
            "ticks": ""
           }
          },
          "colorscale": {
           "diverging": [
            [
             0,
             "#8e0152"
            ],
            [
             0.1,
             "#c51b7d"
            ],
            [
             0.2,
             "#de77ae"
            ],
            [
             0.3,
             "#f1b6da"
            ],
            [
             0.4,
             "#fde0ef"
            ],
            [
             0.5,
             "#f7f7f7"
            ],
            [
             0.6,
             "#e6f5d0"
            ],
            [
             0.7,
             "#b8e186"
            ],
            [
             0.8,
             "#7fbc41"
            ],
            [
             0.9,
             "#4d9221"
            ],
            [
             1,
             "#276419"
            ]
           ],
           "sequential": [
            [
             0,
             "#0d0887"
            ],
            [
             0.1111111111111111,
             "#46039f"
            ],
            [
             0.2222222222222222,
             "#7201a8"
            ],
            [
             0.3333333333333333,
             "#9c179e"
            ],
            [
             0.4444444444444444,
             "#bd3786"
            ],
            [
             0.5555555555555556,
             "#d8576b"
            ],
            [
             0.6666666666666666,
             "#ed7953"
            ],
            [
             0.7777777777777778,
             "#fb9f3a"
            ],
            [
             0.8888888888888888,
             "#fdca26"
            ],
            [
             1,
             "#f0f921"
            ]
           ],
           "sequentialminus": [
            [
             0,
             "#0d0887"
            ],
            [
             0.1111111111111111,
             "#46039f"
            ],
            [
             0.2222222222222222,
             "#7201a8"
            ],
            [
             0.3333333333333333,
             "#9c179e"
            ],
            [
             0.4444444444444444,
             "#bd3786"
            ],
            [
             0.5555555555555556,
             "#d8576b"
            ],
            [
             0.6666666666666666,
             "#ed7953"
            ],
            [
             0.7777777777777778,
             "#fb9f3a"
            ],
            [
             0.8888888888888888,
             "#fdca26"
            ],
            [
             1,
             "#f0f921"
            ]
           ]
          },
          "colorway": [
           "#636efa",
           "#EF553B",
           "#00cc96",
           "#ab63fa",
           "#FFA15A",
           "#19d3f3",
           "#FF6692",
           "#B6E880",
           "#FF97FF",
           "#FECB52"
          ],
          "font": {
           "color": "#2a3f5f"
          },
          "geo": {
           "bgcolor": "white",
           "lakecolor": "white",
           "landcolor": "#E5ECF6",
           "showlakes": true,
           "showland": true,
           "subunitcolor": "white"
          },
          "hoverlabel": {
           "align": "left"
          },
          "hovermode": "closest",
          "mapbox": {
           "style": "light"
          },
          "paper_bgcolor": "white",
          "plot_bgcolor": "#E5ECF6",
          "polar": {
           "angularaxis": {
            "gridcolor": "white",
            "linecolor": "white",
            "ticks": ""
           },
           "bgcolor": "#E5ECF6",
           "radialaxis": {
            "gridcolor": "white",
            "linecolor": "white",
            "ticks": ""
           }
          },
          "scene": {
           "xaxis": {
            "backgroundcolor": "#E5ECF6",
            "gridcolor": "white",
            "gridwidth": 2,
            "linecolor": "white",
            "showbackground": true,
            "ticks": "",
            "zerolinecolor": "white"
           },
           "yaxis": {
            "backgroundcolor": "#E5ECF6",
            "gridcolor": "white",
            "gridwidth": 2,
            "linecolor": "white",
            "showbackground": true,
            "ticks": "",
            "zerolinecolor": "white"
           },
           "zaxis": {
            "backgroundcolor": "#E5ECF6",
            "gridcolor": "white",
            "gridwidth": 2,
            "linecolor": "white",
            "showbackground": true,
            "ticks": "",
            "zerolinecolor": "white"
           }
          },
          "shapedefaults": {
           "line": {
            "color": "#2a3f5f"
           }
          },
          "ternary": {
           "aaxis": {
            "gridcolor": "white",
            "linecolor": "white",
            "ticks": ""
           },
           "baxis": {
            "gridcolor": "white",
            "linecolor": "white",
            "ticks": ""
           },
           "bgcolor": "#E5ECF6",
           "caxis": {
            "gridcolor": "white",
            "linecolor": "white",
            "ticks": ""
           }
          },
          "title": {
           "x": 0.05
          },
          "xaxis": {
           "automargin": true,
           "gridcolor": "white",
           "linecolor": "white",
           "ticks": "",
           "title": {
            "standoff": 15
           },
           "zerolinecolor": "white",
           "zerolinewidth": 2
          },
          "yaxis": {
           "automargin": true,
           "gridcolor": "white",
           "linecolor": "white",
           "ticks": "",
           "title": {
            "standoff": 15
           },
           "zerolinecolor": "white",
           "zerolinewidth": 2
          }
         }
        },
        "title": {
         "text": "Total Contribution (P_R_A) by Team"
        },
        "xaxis": {
         "anchor": "y",
         "domain": [
          0,
          1
         ],
         "title": {
          "text": "Tm"
         }
        },
        "yaxis": {
         "anchor": "x",
         "domain": [
          0,
          1
         ],
         "title": {
          "text": "P_R_A"
         }
        }
       }
      }
     },
     "metadata": {},
     "output_type": "display_data"
    }
   ],
   "source": [
    "fig_scatter = px.scatter(top_players, x='Tm', y='P_R_A', color='Player', title='Total Contribution (P_R_A) by Team')\n",
    "fig_scatter.show()"
   ]
  },
  {
   "cell_type": "markdown",
   "metadata": {},
   "source": [
    "<div class=\"alert alert-info\">\n",
    "<h2> Student's comment</h2>\n",
    "\n",
    "This graph is more interactive and also shows more detail than the bar graph since it specifies which player belongs to which team.\n",
    "</div>"
   ]
  },
  {
   "cell_type": "code",
   "execution_count": 47,
   "metadata": {},
   "outputs": [
    {
     "data": {
      "application/vnd.plotly.v1+json": {
       "config": {
        "plotlyServerURL": "https://plot.ly"
       },
       "data": [
        {
         "alignmentgroup": "True",
         "bingroup": "x",
         "hovertemplate": "P_R_A=%{x}<br>count=%{y}<extra></extra>",
         "legendgroup": "",
         "marker": {
          "color": "#636efa",
          "pattern": {
           "shape": ""
          }
         },
         "name": "",
         "offsetgroup": "",
         "orientation": "v",
         "showlegend": false,
         "type": "histogram",
         "x": [
          34.199999999999996,
          39.9,
          28.599999999999998,
          33.6,
          31.6,
          29.7,
          52.900000000000006,
          47.8,
          34.5,
          36,
          35.400000000000006,
          34.9,
          33.4,
          41.3,
          30.3,
          33.6,
          48.4,
          36.4,
          33.699999999999996,
          39,
          41.800000000000004,
          34.9,
          35.800000000000004,
          38.7,
          41.3,
          35.9,
          34.2,
          33.1,
          26.200000000000003,
          33
         ],
         "xaxis": "x",
         "yaxis": "y"
        }
       ],
       "layout": {
        "barmode": "relative",
        "legend": {
         "tracegroupgap": 0
        },
        "template": {
         "data": {
          "bar": [
           {
            "error_x": {
             "color": "#2a3f5f"
            },
            "error_y": {
             "color": "#2a3f5f"
            },
            "marker": {
             "line": {
              "color": "#E5ECF6",
              "width": 0.5
             },
             "pattern": {
              "fillmode": "overlay",
              "size": 10,
              "solidity": 0.2
             }
            },
            "type": "bar"
           }
          ],
          "barpolar": [
           {
            "marker": {
             "line": {
              "color": "#E5ECF6",
              "width": 0.5
             },
             "pattern": {
              "fillmode": "overlay",
              "size": 10,
              "solidity": 0.2
             }
            },
            "type": "barpolar"
           }
          ],
          "carpet": [
           {
            "aaxis": {
             "endlinecolor": "#2a3f5f",
             "gridcolor": "white",
             "linecolor": "white",
             "minorgridcolor": "white",
             "startlinecolor": "#2a3f5f"
            },
            "baxis": {
             "endlinecolor": "#2a3f5f",
             "gridcolor": "white",
             "linecolor": "white",
             "minorgridcolor": "white",
             "startlinecolor": "#2a3f5f"
            },
            "type": "carpet"
           }
          ],
          "choropleth": [
           {
            "colorbar": {
             "outlinewidth": 0,
             "ticks": ""
            },
            "type": "choropleth"
           }
          ],
          "contour": [
           {
            "colorbar": {
             "outlinewidth": 0,
             "ticks": ""
            },
            "colorscale": [
             [
              0,
              "#0d0887"
             ],
             [
              0.1111111111111111,
              "#46039f"
             ],
             [
              0.2222222222222222,
              "#7201a8"
             ],
             [
              0.3333333333333333,
              "#9c179e"
             ],
             [
              0.4444444444444444,
              "#bd3786"
             ],
             [
              0.5555555555555556,
              "#d8576b"
             ],
             [
              0.6666666666666666,
              "#ed7953"
             ],
             [
              0.7777777777777778,
              "#fb9f3a"
             ],
             [
              0.8888888888888888,
              "#fdca26"
             ],
             [
              1,
              "#f0f921"
             ]
            ],
            "type": "contour"
           }
          ],
          "contourcarpet": [
           {
            "colorbar": {
             "outlinewidth": 0,
             "ticks": ""
            },
            "type": "contourcarpet"
           }
          ],
          "heatmap": [
           {
            "colorbar": {
             "outlinewidth": 0,
             "ticks": ""
            },
            "colorscale": [
             [
              0,
              "#0d0887"
             ],
             [
              0.1111111111111111,
              "#46039f"
             ],
             [
              0.2222222222222222,
              "#7201a8"
             ],
             [
              0.3333333333333333,
              "#9c179e"
             ],
             [
              0.4444444444444444,
              "#bd3786"
             ],
             [
              0.5555555555555556,
              "#d8576b"
             ],
             [
              0.6666666666666666,
              "#ed7953"
             ],
             [
              0.7777777777777778,
              "#fb9f3a"
             ],
             [
              0.8888888888888888,
              "#fdca26"
             ],
             [
              1,
              "#f0f921"
             ]
            ],
            "type": "heatmap"
           }
          ],
          "heatmapgl": [
           {
            "colorbar": {
             "outlinewidth": 0,
             "ticks": ""
            },
            "colorscale": [
             [
              0,
              "#0d0887"
             ],
             [
              0.1111111111111111,
              "#46039f"
             ],
             [
              0.2222222222222222,
              "#7201a8"
             ],
             [
              0.3333333333333333,
              "#9c179e"
             ],
             [
              0.4444444444444444,
              "#bd3786"
             ],
             [
              0.5555555555555556,
              "#d8576b"
             ],
             [
              0.6666666666666666,
              "#ed7953"
             ],
             [
              0.7777777777777778,
              "#fb9f3a"
             ],
             [
              0.8888888888888888,
              "#fdca26"
             ],
             [
              1,
              "#f0f921"
             ]
            ],
            "type": "heatmapgl"
           }
          ],
          "histogram": [
           {
            "marker": {
             "pattern": {
              "fillmode": "overlay",
              "size": 10,
              "solidity": 0.2
             }
            },
            "type": "histogram"
           }
          ],
          "histogram2d": [
           {
            "colorbar": {
             "outlinewidth": 0,
             "ticks": ""
            },
            "colorscale": [
             [
              0,
              "#0d0887"
             ],
             [
              0.1111111111111111,
              "#46039f"
             ],
             [
              0.2222222222222222,
              "#7201a8"
             ],
             [
              0.3333333333333333,
              "#9c179e"
             ],
             [
              0.4444444444444444,
              "#bd3786"
             ],
             [
              0.5555555555555556,
              "#d8576b"
             ],
             [
              0.6666666666666666,
              "#ed7953"
             ],
             [
              0.7777777777777778,
              "#fb9f3a"
             ],
             [
              0.8888888888888888,
              "#fdca26"
             ],
             [
              1,
              "#f0f921"
             ]
            ],
            "type": "histogram2d"
           }
          ],
          "histogram2dcontour": [
           {
            "colorbar": {
             "outlinewidth": 0,
             "ticks": ""
            },
            "colorscale": [
             [
              0,
              "#0d0887"
             ],
             [
              0.1111111111111111,
              "#46039f"
             ],
             [
              0.2222222222222222,
              "#7201a8"
             ],
             [
              0.3333333333333333,
              "#9c179e"
             ],
             [
              0.4444444444444444,
              "#bd3786"
             ],
             [
              0.5555555555555556,
              "#d8576b"
             ],
             [
              0.6666666666666666,
              "#ed7953"
             ],
             [
              0.7777777777777778,
              "#fb9f3a"
             ],
             [
              0.8888888888888888,
              "#fdca26"
             ],
             [
              1,
              "#f0f921"
             ]
            ],
            "type": "histogram2dcontour"
           }
          ],
          "mesh3d": [
           {
            "colorbar": {
             "outlinewidth": 0,
             "ticks": ""
            },
            "type": "mesh3d"
           }
          ],
          "parcoords": [
           {
            "line": {
             "colorbar": {
              "outlinewidth": 0,
              "ticks": ""
             }
            },
            "type": "parcoords"
           }
          ],
          "pie": [
           {
            "automargin": true,
            "type": "pie"
           }
          ],
          "scatter": [
           {
            "fillpattern": {
             "fillmode": "overlay",
             "size": 10,
             "solidity": 0.2
            },
            "type": "scatter"
           }
          ],
          "scatter3d": [
           {
            "line": {
             "colorbar": {
              "outlinewidth": 0,
              "ticks": ""
             }
            },
            "marker": {
             "colorbar": {
              "outlinewidth": 0,
              "ticks": ""
             }
            },
            "type": "scatter3d"
           }
          ],
          "scattercarpet": [
           {
            "marker": {
             "colorbar": {
              "outlinewidth": 0,
              "ticks": ""
             }
            },
            "type": "scattercarpet"
           }
          ],
          "scattergeo": [
           {
            "marker": {
             "colorbar": {
              "outlinewidth": 0,
              "ticks": ""
             }
            },
            "type": "scattergeo"
           }
          ],
          "scattergl": [
           {
            "marker": {
             "colorbar": {
              "outlinewidth": 0,
              "ticks": ""
             }
            },
            "type": "scattergl"
           }
          ],
          "scattermapbox": [
           {
            "marker": {
             "colorbar": {
              "outlinewidth": 0,
              "ticks": ""
             }
            },
            "type": "scattermapbox"
           }
          ],
          "scatterpolar": [
           {
            "marker": {
             "colorbar": {
              "outlinewidth": 0,
              "ticks": ""
             }
            },
            "type": "scatterpolar"
           }
          ],
          "scatterpolargl": [
           {
            "marker": {
             "colorbar": {
              "outlinewidth": 0,
              "ticks": ""
             }
            },
            "type": "scatterpolargl"
           }
          ],
          "scatterternary": [
           {
            "marker": {
             "colorbar": {
              "outlinewidth": 0,
              "ticks": ""
             }
            },
            "type": "scatterternary"
           }
          ],
          "surface": [
           {
            "colorbar": {
             "outlinewidth": 0,
             "ticks": ""
            },
            "colorscale": [
             [
              0,
              "#0d0887"
             ],
             [
              0.1111111111111111,
              "#46039f"
             ],
             [
              0.2222222222222222,
              "#7201a8"
             ],
             [
              0.3333333333333333,
              "#9c179e"
             ],
             [
              0.4444444444444444,
              "#bd3786"
             ],
             [
              0.5555555555555556,
              "#d8576b"
             ],
             [
              0.6666666666666666,
              "#ed7953"
             ],
             [
              0.7777777777777778,
              "#fb9f3a"
             ],
             [
              0.8888888888888888,
              "#fdca26"
             ],
             [
              1,
              "#f0f921"
             ]
            ],
            "type": "surface"
           }
          ],
          "table": [
           {
            "cells": {
             "fill": {
              "color": "#EBF0F8"
             },
             "line": {
              "color": "white"
             }
            },
            "header": {
             "fill": {
              "color": "#C8D4E3"
             },
             "line": {
              "color": "white"
             }
            },
            "type": "table"
           }
          ]
         },
         "layout": {
          "annotationdefaults": {
           "arrowcolor": "#2a3f5f",
           "arrowhead": 0,
           "arrowwidth": 1
          },
          "autotypenumbers": "strict",
          "coloraxis": {
           "colorbar": {
            "outlinewidth": 0,
            "ticks": ""
           }
          },
          "colorscale": {
           "diverging": [
            [
             0,
             "#8e0152"
            ],
            [
             0.1,
             "#c51b7d"
            ],
            [
             0.2,
             "#de77ae"
            ],
            [
             0.3,
             "#f1b6da"
            ],
            [
             0.4,
             "#fde0ef"
            ],
            [
             0.5,
             "#f7f7f7"
            ],
            [
             0.6,
             "#e6f5d0"
            ],
            [
             0.7,
             "#b8e186"
            ],
            [
             0.8,
             "#7fbc41"
            ],
            [
             0.9,
             "#4d9221"
            ],
            [
             1,
             "#276419"
            ]
           ],
           "sequential": [
            [
             0,
             "#0d0887"
            ],
            [
             0.1111111111111111,
             "#46039f"
            ],
            [
             0.2222222222222222,
             "#7201a8"
            ],
            [
             0.3333333333333333,
             "#9c179e"
            ],
            [
             0.4444444444444444,
             "#bd3786"
            ],
            [
             0.5555555555555556,
             "#d8576b"
            ],
            [
             0.6666666666666666,
             "#ed7953"
            ],
            [
             0.7777777777777778,
             "#fb9f3a"
            ],
            [
             0.8888888888888888,
             "#fdca26"
            ],
            [
             1,
             "#f0f921"
            ]
           ],
           "sequentialminus": [
            [
             0,
             "#0d0887"
            ],
            [
             0.1111111111111111,
             "#46039f"
            ],
            [
             0.2222222222222222,
             "#7201a8"
            ],
            [
             0.3333333333333333,
             "#9c179e"
            ],
            [
             0.4444444444444444,
             "#bd3786"
            ],
            [
             0.5555555555555556,
             "#d8576b"
            ],
            [
             0.6666666666666666,
             "#ed7953"
            ],
            [
             0.7777777777777778,
             "#fb9f3a"
            ],
            [
             0.8888888888888888,
             "#fdca26"
            ],
            [
             1,
             "#f0f921"
            ]
           ]
          },
          "colorway": [
           "#636efa",
           "#EF553B",
           "#00cc96",
           "#ab63fa",
           "#FFA15A",
           "#19d3f3",
           "#FF6692",
           "#B6E880",
           "#FF97FF",
           "#FECB52"
          ],
          "font": {
           "color": "#2a3f5f"
          },
          "geo": {
           "bgcolor": "white",
           "lakecolor": "white",
           "landcolor": "#E5ECF6",
           "showlakes": true,
           "showland": true,
           "subunitcolor": "white"
          },
          "hoverlabel": {
           "align": "left"
          },
          "hovermode": "closest",
          "mapbox": {
           "style": "light"
          },
          "paper_bgcolor": "white",
          "plot_bgcolor": "#E5ECF6",
          "polar": {
           "angularaxis": {
            "gridcolor": "white",
            "linecolor": "white",
            "ticks": ""
           },
           "bgcolor": "#E5ECF6",
           "radialaxis": {
            "gridcolor": "white",
            "linecolor": "white",
            "ticks": ""
           }
          },
          "scene": {
           "xaxis": {
            "backgroundcolor": "#E5ECF6",
            "gridcolor": "white",
            "gridwidth": 2,
            "linecolor": "white",
            "showbackground": true,
            "ticks": "",
            "zerolinecolor": "white"
           },
           "yaxis": {
            "backgroundcolor": "#E5ECF6",
            "gridcolor": "white",
            "gridwidth": 2,
            "linecolor": "white",
            "showbackground": true,
            "ticks": "",
            "zerolinecolor": "white"
           },
           "zaxis": {
            "backgroundcolor": "#E5ECF6",
            "gridcolor": "white",
            "gridwidth": 2,
            "linecolor": "white",
            "showbackground": true,
            "ticks": "",
            "zerolinecolor": "white"
           }
          },
          "shapedefaults": {
           "line": {
            "color": "#2a3f5f"
           }
          },
          "ternary": {
           "aaxis": {
            "gridcolor": "white",
            "linecolor": "white",
            "ticks": ""
           },
           "baxis": {
            "gridcolor": "white",
            "linecolor": "white",
            "ticks": ""
           },
           "bgcolor": "#E5ECF6",
           "caxis": {
            "gridcolor": "white",
            "linecolor": "white",
            "ticks": ""
           }
          },
          "title": {
           "x": 0.05
          },
          "xaxis": {
           "automargin": true,
           "gridcolor": "white",
           "linecolor": "white",
           "ticks": "",
           "title": {
            "standoff": 15
           },
           "zerolinecolor": "white",
           "zerolinewidth": 2
          },
          "yaxis": {
           "automargin": true,
           "gridcolor": "white",
           "linecolor": "white",
           "ticks": "",
           "title": {
            "standoff": 15
           },
           "zerolinecolor": "white",
           "zerolinewidth": 2
          }
         }
        },
        "title": {
         "text": "Histogram of Total Contribution (P_R_A)"
        },
        "xaxis": {
         "anchor": "y",
         "domain": [
          0,
          1
         ],
         "title": {
          "text": "P_R_A"
         }
        },
        "yaxis": {
         "anchor": "x",
         "domain": [
          0,
          1
         ],
         "title": {
          "text": "count"
         }
        }
       }
      }
     },
     "metadata": {},
     "output_type": "display_data"
    }
   ],
   "source": [
    "fig_histogram = px.histogram(top_players, x='P_R_A', title='Histogram of Total Contribution (P_R_A)')\n",
    "fig_histogram.show()"
   ]
  },
  {
   "cell_type": "markdown",
   "metadata": {},
   "source": [
    "<div class=\"alert alert-info\">\n",
    "<h2> Student's comment</h2>\n",
    "\n",
    "The histogram is also more interactive to give you specifics on the distribution of P_R_A between the top 20 players.\n",
    "</div>"
   ]
  },
  {
   "cell_type": "code",
   "execution_count": 48,
   "metadata": {},
   "outputs": [
    {
     "data": {
      "text/plain": [
       "Pos\n",
       "PF    8\n",
       "C     7\n",
       "PG    7\n",
       "SG    5\n",
       "SF    3\n",
       "Name: count, dtype: int64"
      ]
     },
     "execution_count": 48,
     "metadata": {},
     "output_type": "execute_result"
    }
   ],
   "source": [
    "player_counts = top_players['Pos'].value_counts()\n",
    "player_counts"
   ]
  },
  {
   "cell_type": "markdown",
   "metadata": {},
   "source": [
    "<div class=\"alert alert-info\">\n",
    "<h2> Student's comment</h2>\n",
    "\n",
    "I was also curious to see what positions these players were. Seeing that majority of them are PF/C makes sense because they would most likely contribute to more rebounds as well as assist and points.\n",
    "</div>"
   ]
  },
  {
   "cell_type": "code",
   "execution_count": 49,
   "metadata": {},
   "outputs": [
    {
     "data": {
      "application/vnd.plotly.v1+json": {
       "config": {
        "plotlyServerURL": "https://plot.ly"
       },
       "data": [
        {
         "alignmentgroup": "True",
         "bingroup": "x",
         "hovertemplate": "Pos=%{x}<br>count=%{y}<extra></extra>",
         "legendgroup": "",
         "marker": {
          "color": "#636efa",
          "pattern": {
           "shape": ""
          }
         },
         "name": "",
         "offsetgroup": "",
         "orientation": "v",
         "showlegend": false,
         "type": "histogram",
         "x": [
          "SG",
          "PF",
          "SG",
          "SF",
          "SF",
          "C",
          "PG",
          "C",
          "PG",
          "PG",
          "C",
          "PG",
          "SF",
          "PF",
          "C",
          "C",
          "PF",
          "SG",
          "PF",
          "PG",
          "PG",
          "PF",
          "PG",
          "PF",
          "C",
          "C",
          "SG",
          "PF",
          "SG",
          "PF"
         ],
         "xaxis": "x",
         "yaxis": "y"
        }
       ],
       "layout": {
        "barmode": "relative",
        "legend": {
         "tracegroupgap": 0
        },
        "template": {
         "data": {
          "bar": [
           {
            "error_x": {
             "color": "#2a3f5f"
            },
            "error_y": {
             "color": "#2a3f5f"
            },
            "marker": {
             "line": {
              "color": "#E5ECF6",
              "width": 0.5
             },
             "pattern": {
              "fillmode": "overlay",
              "size": 10,
              "solidity": 0.2
             }
            },
            "type": "bar"
           }
          ],
          "barpolar": [
           {
            "marker": {
             "line": {
              "color": "#E5ECF6",
              "width": 0.5
             },
             "pattern": {
              "fillmode": "overlay",
              "size": 10,
              "solidity": 0.2
             }
            },
            "type": "barpolar"
           }
          ],
          "carpet": [
           {
            "aaxis": {
             "endlinecolor": "#2a3f5f",
             "gridcolor": "white",
             "linecolor": "white",
             "minorgridcolor": "white",
             "startlinecolor": "#2a3f5f"
            },
            "baxis": {
             "endlinecolor": "#2a3f5f",
             "gridcolor": "white",
             "linecolor": "white",
             "minorgridcolor": "white",
             "startlinecolor": "#2a3f5f"
            },
            "type": "carpet"
           }
          ],
          "choropleth": [
           {
            "colorbar": {
             "outlinewidth": 0,
             "ticks": ""
            },
            "type": "choropleth"
           }
          ],
          "contour": [
           {
            "colorbar": {
             "outlinewidth": 0,
             "ticks": ""
            },
            "colorscale": [
             [
              0,
              "#0d0887"
             ],
             [
              0.1111111111111111,
              "#46039f"
             ],
             [
              0.2222222222222222,
              "#7201a8"
             ],
             [
              0.3333333333333333,
              "#9c179e"
             ],
             [
              0.4444444444444444,
              "#bd3786"
             ],
             [
              0.5555555555555556,
              "#d8576b"
             ],
             [
              0.6666666666666666,
              "#ed7953"
             ],
             [
              0.7777777777777778,
              "#fb9f3a"
             ],
             [
              0.8888888888888888,
              "#fdca26"
             ],
             [
              1,
              "#f0f921"
             ]
            ],
            "type": "contour"
           }
          ],
          "contourcarpet": [
           {
            "colorbar": {
             "outlinewidth": 0,
             "ticks": ""
            },
            "type": "contourcarpet"
           }
          ],
          "heatmap": [
           {
            "colorbar": {
             "outlinewidth": 0,
             "ticks": ""
            },
            "colorscale": [
             [
              0,
              "#0d0887"
             ],
             [
              0.1111111111111111,
              "#46039f"
             ],
             [
              0.2222222222222222,
              "#7201a8"
             ],
             [
              0.3333333333333333,
              "#9c179e"
             ],
             [
              0.4444444444444444,
              "#bd3786"
             ],
             [
              0.5555555555555556,
              "#d8576b"
             ],
             [
              0.6666666666666666,
              "#ed7953"
             ],
             [
              0.7777777777777778,
              "#fb9f3a"
             ],
             [
              0.8888888888888888,
              "#fdca26"
             ],
             [
              1,
              "#f0f921"
             ]
            ],
            "type": "heatmap"
           }
          ],
          "heatmapgl": [
           {
            "colorbar": {
             "outlinewidth": 0,
             "ticks": ""
            },
            "colorscale": [
             [
              0,
              "#0d0887"
             ],
             [
              0.1111111111111111,
              "#46039f"
             ],
             [
              0.2222222222222222,
              "#7201a8"
             ],
             [
              0.3333333333333333,
              "#9c179e"
             ],
             [
              0.4444444444444444,
              "#bd3786"
             ],
             [
              0.5555555555555556,
              "#d8576b"
             ],
             [
              0.6666666666666666,
              "#ed7953"
             ],
             [
              0.7777777777777778,
              "#fb9f3a"
             ],
             [
              0.8888888888888888,
              "#fdca26"
             ],
             [
              1,
              "#f0f921"
             ]
            ],
            "type": "heatmapgl"
           }
          ],
          "histogram": [
           {
            "marker": {
             "pattern": {
              "fillmode": "overlay",
              "size": 10,
              "solidity": 0.2
             }
            },
            "type": "histogram"
           }
          ],
          "histogram2d": [
           {
            "colorbar": {
             "outlinewidth": 0,
             "ticks": ""
            },
            "colorscale": [
             [
              0,
              "#0d0887"
             ],
             [
              0.1111111111111111,
              "#46039f"
             ],
             [
              0.2222222222222222,
              "#7201a8"
             ],
             [
              0.3333333333333333,
              "#9c179e"
             ],
             [
              0.4444444444444444,
              "#bd3786"
             ],
             [
              0.5555555555555556,
              "#d8576b"
             ],
             [
              0.6666666666666666,
              "#ed7953"
             ],
             [
              0.7777777777777778,
              "#fb9f3a"
             ],
             [
              0.8888888888888888,
              "#fdca26"
             ],
             [
              1,
              "#f0f921"
             ]
            ],
            "type": "histogram2d"
           }
          ],
          "histogram2dcontour": [
           {
            "colorbar": {
             "outlinewidth": 0,
             "ticks": ""
            },
            "colorscale": [
             [
              0,
              "#0d0887"
             ],
             [
              0.1111111111111111,
              "#46039f"
             ],
             [
              0.2222222222222222,
              "#7201a8"
             ],
             [
              0.3333333333333333,
              "#9c179e"
             ],
             [
              0.4444444444444444,
              "#bd3786"
             ],
             [
              0.5555555555555556,
              "#d8576b"
             ],
             [
              0.6666666666666666,
              "#ed7953"
             ],
             [
              0.7777777777777778,
              "#fb9f3a"
             ],
             [
              0.8888888888888888,
              "#fdca26"
             ],
             [
              1,
              "#f0f921"
             ]
            ],
            "type": "histogram2dcontour"
           }
          ],
          "mesh3d": [
           {
            "colorbar": {
             "outlinewidth": 0,
             "ticks": ""
            },
            "type": "mesh3d"
           }
          ],
          "parcoords": [
           {
            "line": {
             "colorbar": {
              "outlinewidth": 0,
              "ticks": ""
             }
            },
            "type": "parcoords"
           }
          ],
          "pie": [
           {
            "automargin": true,
            "type": "pie"
           }
          ],
          "scatter": [
           {
            "fillpattern": {
             "fillmode": "overlay",
             "size": 10,
             "solidity": 0.2
            },
            "type": "scatter"
           }
          ],
          "scatter3d": [
           {
            "line": {
             "colorbar": {
              "outlinewidth": 0,
              "ticks": ""
             }
            },
            "marker": {
             "colorbar": {
              "outlinewidth": 0,
              "ticks": ""
             }
            },
            "type": "scatter3d"
           }
          ],
          "scattercarpet": [
           {
            "marker": {
             "colorbar": {
              "outlinewidth": 0,
              "ticks": ""
             }
            },
            "type": "scattercarpet"
           }
          ],
          "scattergeo": [
           {
            "marker": {
             "colorbar": {
              "outlinewidth": 0,
              "ticks": ""
             }
            },
            "type": "scattergeo"
           }
          ],
          "scattergl": [
           {
            "marker": {
             "colorbar": {
              "outlinewidth": 0,
              "ticks": ""
             }
            },
            "type": "scattergl"
           }
          ],
          "scattermapbox": [
           {
            "marker": {
             "colorbar": {
              "outlinewidth": 0,
              "ticks": ""
             }
            },
            "type": "scattermapbox"
           }
          ],
          "scatterpolar": [
           {
            "marker": {
             "colorbar": {
              "outlinewidth": 0,
              "ticks": ""
             }
            },
            "type": "scatterpolar"
           }
          ],
          "scatterpolargl": [
           {
            "marker": {
             "colorbar": {
              "outlinewidth": 0,
              "ticks": ""
             }
            },
            "type": "scatterpolargl"
           }
          ],
          "scatterternary": [
           {
            "marker": {
             "colorbar": {
              "outlinewidth": 0,
              "ticks": ""
             }
            },
            "type": "scatterternary"
           }
          ],
          "surface": [
           {
            "colorbar": {
             "outlinewidth": 0,
             "ticks": ""
            },
            "colorscale": [
             [
              0,
              "#0d0887"
             ],
             [
              0.1111111111111111,
              "#46039f"
             ],
             [
              0.2222222222222222,
              "#7201a8"
             ],
             [
              0.3333333333333333,
              "#9c179e"
             ],
             [
              0.4444444444444444,
              "#bd3786"
             ],
             [
              0.5555555555555556,
              "#d8576b"
             ],
             [
              0.6666666666666666,
              "#ed7953"
             ],
             [
              0.7777777777777778,
              "#fb9f3a"
             ],
             [
              0.8888888888888888,
              "#fdca26"
             ],
             [
              1,
              "#f0f921"
             ]
            ],
            "type": "surface"
           }
          ],
          "table": [
           {
            "cells": {
             "fill": {
              "color": "#EBF0F8"
             },
             "line": {
              "color": "white"
             }
            },
            "header": {
             "fill": {
              "color": "#C8D4E3"
             },
             "line": {
              "color": "white"
             }
            },
            "type": "table"
           }
          ]
         },
         "layout": {
          "annotationdefaults": {
           "arrowcolor": "#2a3f5f",
           "arrowhead": 0,
           "arrowwidth": 1
          },
          "autotypenumbers": "strict",
          "coloraxis": {
           "colorbar": {
            "outlinewidth": 0,
            "ticks": ""
           }
          },
          "colorscale": {
           "diverging": [
            [
             0,
             "#8e0152"
            ],
            [
             0.1,
             "#c51b7d"
            ],
            [
             0.2,
             "#de77ae"
            ],
            [
             0.3,
             "#f1b6da"
            ],
            [
             0.4,
             "#fde0ef"
            ],
            [
             0.5,
             "#f7f7f7"
            ],
            [
             0.6,
             "#e6f5d0"
            ],
            [
             0.7,
             "#b8e186"
            ],
            [
             0.8,
             "#7fbc41"
            ],
            [
             0.9,
             "#4d9221"
            ],
            [
             1,
             "#276419"
            ]
           ],
           "sequential": [
            [
             0,
             "#0d0887"
            ],
            [
             0.1111111111111111,
             "#46039f"
            ],
            [
             0.2222222222222222,
             "#7201a8"
            ],
            [
             0.3333333333333333,
             "#9c179e"
            ],
            [
             0.4444444444444444,
             "#bd3786"
            ],
            [
             0.5555555555555556,
             "#d8576b"
            ],
            [
             0.6666666666666666,
             "#ed7953"
            ],
            [
             0.7777777777777778,
             "#fb9f3a"
            ],
            [
             0.8888888888888888,
             "#fdca26"
            ],
            [
             1,
             "#f0f921"
            ]
           ],
           "sequentialminus": [
            [
             0,
             "#0d0887"
            ],
            [
             0.1111111111111111,
             "#46039f"
            ],
            [
             0.2222222222222222,
             "#7201a8"
            ],
            [
             0.3333333333333333,
             "#9c179e"
            ],
            [
             0.4444444444444444,
             "#bd3786"
            ],
            [
             0.5555555555555556,
             "#d8576b"
            ],
            [
             0.6666666666666666,
             "#ed7953"
            ],
            [
             0.7777777777777778,
             "#fb9f3a"
            ],
            [
             0.8888888888888888,
             "#fdca26"
            ],
            [
             1,
             "#f0f921"
            ]
           ]
          },
          "colorway": [
           "#636efa",
           "#EF553B",
           "#00cc96",
           "#ab63fa",
           "#FFA15A",
           "#19d3f3",
           "#FF6692",
           "#B6E880",
           "#FF97FF",
           "#FECB52"
          ],
          "font": {
           "color": "#2a3f5f"
          },
          "geo": {
           "bgcolor": "white",
           "lakecolor": "white",
           "landcolor": "#E5ECF6",
           "showlakes": true,
           "showland": true,
           "subunitcolor": "white"
          },
          "hoverlabel": {
           "align": "left"
          },
          "hovermode": "closest",
          "mapbox": {
           "style": "light"
          },
          "paper_bgcolor": "white",
          "plot_bgcolor": "#E5ECF6",
          "polar": {
           "angularaxis": {
            "gridcolor": "white",
            "linecolor": "white",
            "ticks": ""
           },
           "bgcolor": "#E5ECF6",
           "radialaxis": {
            "gridcolor": "white",
            "linecolor": "white",
            "ticks": ""
           }
          },
          "scene": {
           "xaxis": {
            "backgroundcolor": "#E5ECF6",
            "gridcolor": "white",
            "gridwidth": 2,
            "linecolor": "white",
            "showbackground": true,
            "ticks": "",
            "zerolinecolor": "white"
           },
           "yaxis": {
            "backgroundcolor": "#E5ECF6",
            "gridcolor": "white",
            "gridwidth": 2,
            "linecolor": "white",
            "showbackground": true,
            "ticks": "",
            "zerolinecolor": "white"
           },
           "zaxis": {
            "backgroundcolor": "#E5ECF6",
            "gridcolor": "white",
            "gridwidth": 2,
            "linecolor": "white",
            "showbackground": true,
            "ticks": "",
            "zerolinecolor": "white"
           }
          },
          "shapedefaults": {
           "line": {
            "color": "#2a3f5f"
           }
          },
          "ternary": {
           "aaxis": {
            "gridcolor": "white",
            "linecolor": "white",
            "ticks": ""
           },
           "baxis": {
            "gridcolor": "white",
            "linecolor": "white",
            "ticks": ""
           },
           "bgcolor": "#E5ECF6",
           "caxis": {
            "gridcolor": "white",
            "linecolor": "white",
            "ticks": ""
           }
          },
          "title": {
           "x": 0.05
          },
          "xaxis": {
           "automargin": true,
           "gridcolor": "white",
           "linecolor": "white",
           "ticks": "",
           "title": {
            "standoff": 15
           },
           "zerolinecolor": "white",
           "zerolinewidth": 2
          },
          "yaxis": {
           "automargin": true,
           "gridcolor": "white",
           "linecolor": "white",
           "ticks": "",
           "title": {
            "standoff": 15
           },
           "zerolinecolor": "white",
           "zerolinewidth": 2
          }
         }
        },
        "title": {
         "text": "Histogram of Total Contribution by Pos"
        },
        "xaxis": {
         "anchor": "y",
         "domain": [
          0,
          1
         ],
         "title": {
          "text": "Pos"
         }
        },
        "yaxis": {
         "anchor": "x",
         "domain": [
          0,
          1
         ],
         "title": {
          "text": "count"
         }
        }
       }
      }
     },
     "metadata": {},
     "output_type": "display_data"
    }
   ],
   "source": [
    "fig_histogram = px.histogram(top_players, x='Pos', title='Histogram of Total Contribution by Pos')\n",
    "fig_histogram.show()"
   ]
  },
  {
   "cell_type": "markdown",
   "metadata": {},
   "source": [
    "<div class=\"alert alert-info\">\n",
    "<h2> CONCLUSION</h2>\n",
    "\n",
    "Here are some conclusions I could draw from the data:\n",
    "\n",
    "The dataset showcases a diverse range of player performances, with notable stars like Luka Doncic, Giannis Antetokounmpo, and Nikola Jokic standing out for their high impact across points, rebounds, and assists (P_R_A metric).\n",
    "\n",
    "The dataset includes a variety of positions, with Power Forwards (PF), Centers (C), and Point Guards (PG) being the most represented. This distribution reflects the versatility and specialization of players in different roles on the court.\n",
    "\n",
    "On average, players are around 26 years old and participate in approximately 72 games per season. They maintain a solid field goal percentage (50.22%) and contribute around 7 rebounds, 6 assists, and 24 points per game on average.\n",
    "\n",
    "There is noticeable variability in player performance, as seen in the spread of P_R_A scores from 26.2 to 52.9, indicating varying levels of impact and contribution across the league.\n",
    "\n",
    "In conclusion, the dataset provides a comprehensive snapshot of NBA player performance across different positions, highlighting both individual excellence and positional diversity within the league.\n",
    "</div>"
   ]
  }
 ],
 "metadata": {
  "kernelspec": {
   "display_name": "Python 3",
   "language": "python",
   "name": "python3"
  },
  "language_info": {
   "codemirror_mode": {
    "name": "ipython",
    "version": 3
   },
   "file_extension": ".py",
   "mimetype": "text/x-python",
   "name": "python",
   "nbconvert_exporter": "python",
   "pygments_lexer": "ipython3",
   "version": "3.12.4"
  }
 },
 "nbformat": 4,
 "nbformat_minor": 2
}
